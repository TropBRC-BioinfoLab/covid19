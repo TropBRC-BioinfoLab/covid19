{
 "cells": [
  {
   "cell_type": "code",
   "execution_count": null,
   "metadata": {},
   "outputs": [],
   "source": []
  },
  {
   "cell_type": "code",
   "execution_count": 1,
   "metadata": {},
   "outputs": [],
   "source": [
    "import numpy as np\n",
    "import pandas as pd\n",
    "\n",
    "from sklearn.metrics import classification_report\n",
    "from sklearn.metrics import confusion_matrix\n",
    "from sklearn.metrics import accuracy_score,f1_score, precision_score, recall_score, roc_auc_score\n",
    "\n",
    "from sklearn.svm import SVC\n",
    "from sklearn.ensemble import RandomForestClassifier\n",
    "from sklearn.model_selection import cross_val_score, GridSearchCV\n",
    "\n",
    "import pickle\n",
    "\n",
    "from sklearn.ensemble import BaggingClassifier\n",
    "from sklearn.tree import DecisionTreeClassifier"
   ]
  },
  {
   "cell_type": "code",
   "execution_count": 2,
   "metadata": {},
   "outputs": [],
   "source": [
    "#a"
   ]
  },
  {
   "cell_type": "code",
   "execution_count": 3,
   "metadata": {},
   "outputs": [],
   "source": [
    "class uji(): \n",
    "    def __init__(self,data): \n",
    "        df0 = pd.read_csv('../data3/uji%snorm.csv'%data, delimiter= \",\", header=None)\n",
    "        df0=df0.fillna(0)\n",
    "        self.com=df0[0]\n",
    "        self.prot=df0[1282]\n",
    "        self.x =df0.drop([0,1282], axis=1)\n",
    "        df0[1300]=0\n",
    "        \n",
    "        self.y=df0[1300]\n",
    "        self.dt=data\n",
    "class latih(): \n",
    "    def __init__(self,data): \n",
    "        df = pd.read_csv(\"../data3/%s.csv\"%data, delimiter=',')\n",
    "        df.head()\n",
    "        self.X = df.drop(['label'], axis=1)\n",
    "        self.Y = df['label']\n",
    "        self.dt=data\n",
    "def dtuji(data): \n",
    "    return uji(data) \n",
    "def dtlatih(data): \n",
    "    return latih(data) \n",
    "\n",
    "dtf =dtuji('mbafika') #dtf.com, dtf.prot, dtf.x, dtf.y, dtf.dt\n",
    "dtl =dtuji('mbalinda') #dtl.com, dtl.prot, dtl.x, dtl.y dtl.dt\n",
    "df1= dtlatih('hasilsmote_1') #df1.X,df1.Y,df1.dt\n",
    "df2= dtlatih('hasilsmote_2') #df2.X,df2.Y,df2.dt\n",
    "df3= dtlatih('hasilsmote_3') #df3.X,df3.Y,df3.dt\n",
    "df4= dtlatih('hasilsmote_4') #df4.X,df4.Y,df4.dt\n",
    "df5= dtlatih('hasilsmote_5') #df5.X,df5.Y,df5.dt"
   ]
  },
  {
   "cell_type": "code",
   "execution_count": 4,
   "metadata": {},
   "outputs": [],
   "source": [
    "dtg =dtuji('gabung') #dtl.com, dtl.prot, dtl.x, dtl.y dtl.dt"
   ]
  },
  {
   "cell_type": "code",
   "execution_count": 5,
   "metadata": {},
   "outputs": [],
   "source": [
    "class uji(): \n",
    "    def __init__(self,data): \n",
    "        df0 = pd.read_csv('../data3/uji%snorm.csv'%data, delimiter= \",\", header=None)\n",
    "        df0=df0.fillna(0)\n",
    "        self.com=df0[0]\n",
    "        self.prot=df0[1282]\n",
    "        self.x =df0.drop([0,1282], axis=1)\n",
    "        df0[1300]=0\n",
    "        \n",
    "        self.y=df0[1300]\n",
    "        self.dt=data\n",
    "class latih(): \n",
    "    def __init__(self,data): \n",
    "        df = pd.read_csv(\"../data3/%s.csv\"%data, delimiter=',')\n",
    "        df.head()\n",
    "        self.X = df.drop(['0','1282','label'], axis=1)\n",
    "        self.Y = df['label']\n",
    "        self.dt=data\n",
    "def dtuji(data): \n",
    "    return uji(data) \n",
    "def dtlatih(data): \n",
    "    return latih(data) \n",
    "df= dtlatih('latih_parted')"
   ]
  },
  {
   "cell_type": "code",
   "execution_count": 6,
   "metadata": {},
   "outputs": [],
   "source": [
    "#df.X"
   ]
  },
  {
   "cell_type": "code",
   "execution_count": 7,
   "metadata": {},
   "outputs": [],
   "source": [
    "scoring = {'AUC': 'roc_auc', 'Accuracy': 'accuracy','F-measure':'f1','Precision':'precision', 'Recall':'recall'}\n"
   ]
  },
  {
   "cell_type": "code",
   "execution_count": 8,
   "metadata": {},
   "outputs": [
    {
     "name": "stderr",
     "output_type": "stream",
     "text": [
      "Using TensorFlow backend.\n"
     ]
    }
   ],
   "source": [
    "from sklearn.model_selection import StratifiedKFold\n",
    "from sklearn.model_selection import cross_val_score\n",
    "from keras.models import Sequential\n",
    "from keras.layers import Dense\n",
    "from keras.wrappers.scikit_learn import KerasClassifier\n",
    "from sklearn.preprocessing import LabelEncoder\n",
    "from sklearn.preprocessing import StandardScaler\n",
    "from sklearn.pipeline import Pipeline\n",
    "from sklearn.neural_network import MLPClassifier"
   ]
  },
  {
   "cell_type": "code",
   "execution_count": 9,
   "metadata": {},
   "outputs": [],
   "source": [
    "def create_model():\n",
    "    # create model\n",
    "    model = Sequential()\n",
    "    model.add(Dense(640, input_dim=1281, init='normal', activation='relu'))\n",
    "    model.add(Dense(320, init='normal', activation='relu'))\n",
    "    model.add(Dense(1, init='normal', activation='sigmoid'))\n",
    "    # Compile model\n",
    "    model.compile(loss='binary_crossentropy', optimizer='adam', metrics=['accuracy'])\n",
    "    return model"
   ]
  },
  {
   "cell_type": "code",
   "execution_count": null,
   "metadata": {},
   "outputs": [],
   "source": []
  },
  {
   "cell_type": "code",
   "execution_count": 10,
   "metadata": {},
   "outputs": [],
   "source": [
    "def mlp(df):\n",
    "    mlp = MLPClassifier(max_iter=1000, batch_size=128,hidden_layer_sizes=(640,320,),activation= 'relu',\n",
    "                        solver= 'adam', alpha= 0.5,learning_rate= 'constant')\n",
    "    model = Sequential()\n",
    "    model.add(Dense(640, input_dim=1281, init='uniform', activation='relu'))\n",
    "    model.add(Dense(320, init='uniform', activation='relu'))\n",
    "    model.add(Dense(1, init='uniform', activation='sigmoid'))\n",
    "    estimators = []\n",
    "    estimators.append(('standardize', StandardScaler()))\n",
    "    estimators.append(('mlp', KerasClassifier(build_fn=create_model, nb_epoch=100, batch_size=128, verbose=0,class_weight=\"balanced\")))\n",
    "    pipeline = Pipeline(estimators)\n",
    "#    kfold = StratifiedKFold(n_splits=5, shuffle=True, random_state=seed)\n",
    "#    results = cross_val_score(pipeline, df.X, df.Y, cv=kfold)\n",
    "#    print(\"Results: %.2f%% (%.2f%%)\" % (results.mean()*100, results.std()*100))\n",
    "    parameter_space = {\n",
    "        'hidden_layer_sizes': [(640,320,)],\n",
    "        'activation': ['relu'],\n",
    "        'solver': ['adam'],\n",
    "        'alpha': [0.5],\n",
    "        'learning_rate': ['constant'],\n",
    "    }\n",
    "    mlp = GridSearchCV(mlp, parameter_space, n_jobs=-1, cv=5,scoring=scoring, refit='AUC',return_train_score=True)\n",
    "    mlp.fit(df.X, df.Y)\n",
    "    print('done_training')\n",
    "    filename = '../data3/model/mlp_{0}'.format(df.dt)\n",
    "    pickle.dump(mlp, open(filename, 'wb'))\n",
    "    print('done_savemodel')\n",
    "    return mlp"
   ]
  },
  {
   "cell_type": "code",
   "execution_count": 11,
   "metadata": {},
   "outputs": [],
   "source": [
    "#rf5_100n_1000m.cv_results_#['mean_test_score']\n",
    "#stds = clf.cv_results_['std_test_score']\n",
    "def print_cv_results_mlp(model,o):\n",
    "    rf = pickle.load(open('../data3/model/{0}_{1}'.format(model.__name__,o.dt), 'rb'))\n",
    "    print('{0}_{1}'.format(model.__name__,o.dt))\n",
    "    print('Best parameters found:', rf.best_params_)\n",
    "    print('AUC :',rf.cv_results_['mean_test_AUC'])\n",
    "    print('Accuracy :',rf.cv_results_['mean_test_Accuracy'])\n",
    "    print('F-measure :',rf.cv_results_['mean_test_F-measure'])\n",
    "    print('Precision :',rf.cv_results_['mean_test_Precision'])\n",
    "    print('Recall :',rf.cv_results_['mean_test_Recall'])"
   ]
  },
  {
   "cell_type": "code",
   "execution_count": 17,
   "metadata": {},
   "outputs": [
    {
     "name": "stderr",
     "output_type": "stream",
     "text": [
      "D:\\Anaconda3\\lib\\site-packages\\ipykernel_launcher.py:5: UserWarning: Update your `Dense` call to the Keras 2 API: `Dense(640, input_dim=1281, activation=\"relu\", kernel_initializer=\"uniform\")`\n",
      "  \"\"\"\n",
      "D:\\Anaconda3\\lib\\site-packages\\ipykernel_launcher.py:6: UserWarning: Update your `Dense` call to the Keras 2 API: `Dense(320, activation=\"relu\", kernel_initializer=\"uniform\")`\n",
      "  \n",
      "D:\\Anaconda3\\lib\\site-packages\\ipykernel_launcher.py:7: UserWarning: Update your `Dense` call to the Keras 2 API: `Dense(1, activation=\"sigmoid\", kernel_initializer=\"uniform\")`\n",
      "  import sys\n"
     ]
    },
    {
     "name": "stdout",
     "output_type": "stream",
     "text": [
      "done_training\n",
      "done_savemodel\n"
     ]
    },
    {
     "name": "stderr",
     "output_type": "stream",
     "text": [
      "D:\\Anaconda3\\lib\\site-packages\\ipykernel_launcher.py:5: UserWarning: Update your `Dense` call to the Keras 2 API: `Dense(640, input_dim=1281, activation=\"relu\", kernel_initializer=\"uniform\")`\n",
      "  \"\"\"\n",
      "D:\\Anaconda3\\lib\\site-packages\\ipykernel_launcher.py:6: UserWarning: Update your `Dense` call to the Keras 2 API: `Dense(320, activation=\"relu\", kernel_initializer=\"uniform\")`\n",
      "  \n",
      "D:\\Anaconda3\\lib\\site-packages\\ipykernel_launcher.py:7: UserWarning: Update your `Dense` call to the Keras 2 API: `Dense(1, activation=\"sigmoid\", kernel_initializer=\"uniform\")`\n",
      "  import sys\n"
     ]
    },
    {
     "name": "stdout",
     "output_type": "stream",
     "text": [
      "done_training\n",
      "done_savemodel\n"
     ]
    },
    {
     "name": "stderr",
     "output_type": "stream",
     "text": [
      "D:\\Anaconda3\\lib\\site-packages\\ipykernel_launcher.py:5: UserWarning: Update your `Dense` call to the Keras 2 API: `Dense(640, input_dim=1281, activation=\"relu\", kernel_initializer=\"uniform\")`\n",
      "  \"\"\"\n",
      "D:\\Anaconda3\\lib\\site-packages\\ipykernel_launcher.py:6: UserWarning: Update your `Dense` call to the Keras 2 API: `Dense(320, activation=\"relu\", kernel_initializer=\"uniform\")`\n",
      "  \n",
      "D:\\Anaconda3\\lib\\site-packages\\ipykernel_launcher.py:7: UserWarning: Update your `Dense` call to the Keras 2 API: `Dense(1, activation=\"sigmoid\", kernel_initializer=\"uniform\")`\n",
      "  import sys\n"
     ]
    },
    {
     "name": "stdout",
     "output_type": "stream",
     "text": [
      "done_training\n",
      "done_savemodel\n"
     ]
    },
    {
     "name": "stderr",
     "output_type": "stream",
     "text": [
      "D:\\Anaconda3\\lib\\site-packages\\ipykernel_launcher.py:5: UserWarning: Update your `Dense` call to the Keras 2 API: `Dense(640, input_dim=1281, activation=\"relu\", kernel_initializer=\"uniform\")`\n",
      "  \"\"\"\n",
      "D:\\Anaconda3\\lib\\site-packages\\ipykernel_launcher.py:6: UserWarning: Update your `Dense` call to the Keras 2 API: `Dense(320, activation=\"relu\", kernel_initializer=\"uniform\")`\n",
      "  \n",
      "D:\\Anaconda3\\lib\\site-packages\\ipykernel_launcher.py:7: UserWarning: Update your `Dense` call to the Keras 2 API: `Dense(1, activation=\"sigmoid\", kernel_initializer=\"uniform\")`\n",
      "  import sys\n"
     ]
    },
    {
     "name": "stdout",
     "output_type": "stream",
     "text": [
      "done_training\n",
      "done_savemodel\n"
     ]
    },
    {
     "name": "stderr",
     "output_type": "stream",
     "text": [
      "D:\\Anaconda3\\lib\\site-packages\\ipykernel_launcher.py:5: UserWarning: Update your `Dense` call to the Keras 2 API: `Dense(640, input_dim=1281, activation=\"relu\", kernel_initializer=\"uniform\")`\n",
      "  \"\"\"\n",
      "D:\\Anaconda3\\lib\\site-packages\\ipykernel_launcher.py:6: UserWarning: Update your `Dense` call to the Keras 2 API: `Dense(320, activation=\"relu\", kernel_initializer=\"uniform\")`\n",
      "  \n",
      "D:\\Anaconda3\\lib\\site-packages\\ipykernel_launcher.py:7: UserWarning: Update your `Dense` call to the Keras 2 API: `Dense(1, activation=\"sigmoid\", kernel_initializer=\"uniform\")`\n",
      "  import sys\n"
     ]
    },
    {
     "name": "stdout",
     "output_type": "stream",
     "text": [
      "done_training\n",
      "done_savemodel\n"
     ]
    }
   ],
   "source": [
    "mlp1=mlp(df1)\n",
    "mlp2=mlp(df2)\n",
    "mlp3=mlp(df3)\n",
    "mlp4=mlp(df4)\n",
    "mlp5=mlp(df5)"
   ]
  },
  {
   "cell_type": "code",
   "execution_count": 25,
   "metadata": {},
   "outputs": [
    {
     "name": "stdout",
     "output_type": "stream",
     "text": [
      "mlp_hasilsmote_1\n",
      "Best parameters found: {'activation': 'relu', 'alpha': 0.5, 'hidden_layer_sizes': (640, 320), 'learning_rate': 'constant', 'solver': 'adam'}\n",
      "AUC : [0.9781747]\n",
      "Accuracy : [0.93427169]\n",
      "F-measure : [0.92318014]\n",
      "Precision : [0.95472489]\n",
      "Recall : [0.91373967]\n",
      "mlp_hasilsmote_2\n",
      "Best parameters found: {'activation': 'relu', 'alpha': 0.5, 'hidden_layer_sizes': (640, 320), 'learning_rate': 'constant', 'solver': 'adam'}\n",
      "AUC : [0.98021072]\n",
      "Accuracy : [0.94227789]\n",
      "F-measure : [0.93394176]\n",
      "Precision : [0.96146009]\n",
      "Recall : [0.92122934]\n",
      "mlp_hasilsmote_3\n",
      "Best parameters found: {'activation': 'relu', 'alpha': 0.5, 'hidden_layer_sizes': (640, 320), 'learning_rate': 'constant', 'solver': 'adam'}\n",
      "AUC : [0.97826498]\n",
      "Accuracy : [0.94266529]\n",
      "F-measure : [0.93460914]\n",
      "Precision : [0.95975165]\n",
      "Recall : [0.92381198]\n",
      "mlp_hasilsmote_4\n",
      "Best parameters found: {'activation': 'relu', 'alpha': 0.5, 'hidden_layer_sizes': (640, 320), 'learning_rate': 'constant', 'solver': 'adam'}\n",
      "AUC : [0.97927911]\n",
      "Accuracy : [0.93517562]\n",
      "F-measure : [0.92695607]\n",
      "Precision : [0.94710135]\n",
      "Recall : [0.92303719]\n",
      "mlp_hasilsmote_5\n",
      "Best parameters found: {'activation': 'relu', 'alpha': 0.5, 'hidden_layer_sizes': (640, 320), 'learning_rate': 'constant', 'solver': 'adam'}\n",
      "AUC : [0.97909434]\n",
      "Accuracy : [0.94356921]\n",
      "F-measure : [0.93533533]\n",
      "Precision : [0.9625158]\n",
      "Recall : [0.92407025]\n"
     ]
    }
   ],
   "source": [
    "print_cv_results_mlp(mlp,df1)\n",
    "print_cv_results_mlp(mlp,df2)\n",
    "print_cv_results_mlp(mlp,df3)\n",
    "print_cv_results_mlp(mlp,df4)\n",
    "print_cv_results_mlp(mlp,df5)"
   ]
  },
  {
   "cell_type": "code",
   "execution_count": 14,
   "metadata": {},
   "outputs": [],
   "source": [
    "from sklearn import svm"
   ]
  },
  {
   "cell_type": "code",
   "execution_count": 15,
   "metadata": {},
   "outputs": [],
   "source": [
    "def svm_(df,kern):\n",
    "    parameter_space0 = {\n",
    "        'C': [0.03125, 0.5, 8, 128, 2048, 32768],\n",
    "        'kernel': [kern],#'rbf', 'sigmoid', 'poly','linear'],\n",
    "        'gamma' : [2, 0.125,  0.0078125,0.00048828125, 0.00003051757],\n",
    "    }\n",
    "    classifier0 = svm.SVC()\n",
    "    classifier0 = GridSearchCV(classifier0, parameter_space0, scoring=scoring,refit='AUC',return_train_score=True, n_jobs=-1, cv=5)\n",
    "    classifier0.fit(df.X, df.Y)\n",
    "    print('done_training')\n",
    "    print('Best parameters found:', classifier0.best_params_)\n",
    "    filename = '../data3/model/svm_{0}_{1}'.format(kern,df.dt)\n",
    "    pickle.dump(classifier0, open(filename, 'wb'))\n",
    "    print('done_savemodel')\n",
    "    return classifier0"
   ]
  },
  {
   "cell_type": "code",
   "execution_count": 12,
   "metadata": {},
   "outputs": [],
   "source": [
    "def svm_cg(df,kern,c,g):\n",
    "    parameter_space0 = {\n",
    "        'C': [c],\n",
    "        'kernel': [kern],#'rbf', 'sigmoid', 'poly','linear'],\n",
    "        'gamma' : [g],\n",
    "    }\n",
    "    classifier0 = SVC(probability=True)\n",
    "    classifier0 = GridSearchCV(classifier0, parameter_space0, scoring=scoring,refit='AUC',return_train_score=True, n_jobs=-1, cv=5)\n",
    "    classifier0.fit(df.X, df.Y)\n",
    "    print('done_training')\n",
    "    print('Best parameters found:', classifier0.best_params_)\n",
    "    filename = '../data3/model/svm_{0}_{1}'.format(kern,df.dt)\n",
    "    pickle.dump(classifier0, open(filename, 'wb'))\n",
    "    print('done_savemodel')\n",
    "    return classifier0"
   ]
  },
  {
   "cell_type": "code",
   "execution_count": 17,
   "metadata": {},
   "outputs": [],
   "source": [
    "def save_svm(svm1,df):\n",
    "    filename = '../data3/model/svm_rbf_{0}'.format(df.dt)\n",
    "    pickle.dump(svm1, open(filename, 'wb'))"
   ]
  },
  {
   "cell_type": "code",
   "execution_count": 97,
   "metadata": {},
   "outputs": [
    {
     "name": "stdout",
     "output_type": "stream",
     "text": [
      "done_training\n",
      "Best parameters found: {'C': 0.5, 'gamma': 0.0078125, 'kernel': 'rbf'}\n",
      "done_savemodel\n",
      "done_training\n",
      "Best parameters found: {'C': 8, 'gamma': 0.0078125, 'kernel': 'rbf'}\n",
      "done_savemodel\n"
     ]
    },
    {
     "name": "stderr",
     "output_type": "stream",
     "text": [
      "D:\\Anaconda3\\lib\\site-packages\\joblib\\externals\\loky\\process_executor.py:706: UserWarning: A worker stopped while some jobs were given to the executor. This can be caused by a too short worker timeout or by a memory leak.\n",
      "  \"timeout or by a memory leak.\", UserWarning\n"
     ]
    },
    {
     "name": "stdout",
     "output_type": "stream",
     "text": [
      "done_training\n",
      "Best parameters found: {'C': 0.5, 'gamma': 0.0078125, 'kernel': 'rbf'}\n",
      "done_savemodel\n",
      "done_training\n",
      "Best parameters found: {'C': 8, 'gamma': 0.0078125, 'kernel': 'rbf'}\n",
      "done_savemodel\n",
      "done_training\n",
      "Best parameters found: {'C': 0.5, 'gamma': 0.0078125, 'kernel': 'rbf'}\n",
      "done_savemodel\n"
     ]
    }
   ],
   "source": [
    "svma=svm_cg(df1,'rbf',0.5, 0.0078125)\n",
    "svmb=svm_cg(df2,'rbf',8, 0.0078125)\n",
    "svmc=svm_cg(df3,'rbf', 0.5,  0.0078125)\n",
    "svmd=svm_cg(df4,'rbf',8, 0.0078125)\n",
    "svme=svm_cg(df5,'rbf',0.5, 0.0078125)"
   ]
  },
  {
   "cell_type": "code",
   "execution_count": 13,
   "metadata": {},
   "outputs": [
    {
     "name": "stdout",
     "output_type": "stream",
     "text": [
      "done_training\n",
      "Best parameters found: {'C': 0.5, 'gamma': 0.0078125, 'kernel': 'rbf'}\n",
      "done_savemodel\n"
     ]
    }
   ],
   "source": [
    "svme=svm_cg(df5,'rbf',0.5, 0.0078125)"
   ]
  },
  {
   "cell_type": "code",
   "execution_count": 57,
   "metadata": {},
   "outputs": [],
   "source": [
    "save_svm(svm1,df1)\n",
    "save_svm(svm2,df2)\n",
    "save_svm(svm3,df3)\n",
    "save_svm(svm4,df4)\n",
    "save_svm(svm5,df5)"
   ]
  },
  {
   "cell_type": "code",
   "execution_count": null,
   "metadata": {},
   "outputs": [
    {
     "name": "stdout",
     "output_type": "stream",
     "text": [
      "done_training\n",
      "Best parameters found: {'C': 0.5, 'gamma': 0.0078125, 'kernel': 'rbf'}\n",
      "done_savemodel\n",
      "done_training\n",
      "Best parameters found: {'C': 8, 'gamma': 0.0078125, 'kernel': 'rbf'}\n",
      "done_savemodel\n",
      "done_training\n",
      "Best parameters found: {'C': 0.5, 'gamma': 0.0078125, 'kernel': 'rbf'}\n",
      "done_savemodel\n",
      "done_training\n",
      "Best parameters found: {'C': 8, 'gamma': 0.0078125, 'kernel': 'rbf'}\n",
      "done_savemodel\n"
     ]
    }
   ],
   "source": [
    "svm1=svm_(df1,'rbf')\n",
    "svm2=svm_(df2,'rbf')\n",
    "svm3=svm_(df3,'rbf')\n",
    "svm4=svm_(df4,'rbf')\n",
    "svm5=svm_(df5,'rbf')"
   ]
  },
  {
   "cell_type": "code",
   "execution_count": 12,
   "metadata": {},
   "outputs": [
    {
     "ename": "NameError",
     "evalue": "name 'svm_' is not defined",
     "output_type": "error",
     "traceback": [
      "\u001b[1;31m---------------------------------------------------------------------------\u001b[0m",
      "\u001b[1;31mNameError\u001b[0m                                 Traceback (most recent call last)",
      "\u001b[1;32m<ipython-input-12-d0f524ac9703>\u001b[0m in \u001b[0;36m<module>\u001b[1;34m\u001b[0m\n\u001b[1;32m----> 1\u001b[1;33m \u001b[0msvm5\u001b[0m\u001b[1;33m=\u001b[0m\u001b[0msvm_\u001b[0m\u001b[1;33m(\u001b[0m\u001b[0mdf5\u001b[0m\u001b[1;33m,\u001b[0m\u001b[1;34m'rbf'\u001b[0m\u001b[1;33m)\u001b[0m\u001b[1;33m\u001b[0m\u001b[1;33m\u001b[0m\u001b[0m\n\u001b[0m",
      "\u001b[1;31mNameError\u001b[0m: name 'svm_' is not defined"
     ]
    }
   ],
   "source": [
    "svm5=svm_(df5,'rbf')"
   ]
  },
  {
   "cell_type": "code",
   "execution_count": 90,
   "metadata": {},
   "outputs": [],
   "source": [
    "#rf5_100n_1000m.cv_results_#['mean_test_score']\n",
    "#stds = clf.cv_results_['std_test_score']\n",
    "def print_cv_results_svm(o):\n",
    "    rf = pickle.load(open('../data3/model/svm_rbf_{0}'.format(o.dt), 'rb'))\n",
    "    print('svm_rbf_{0}'.format(o.dt))\n",
    "    print('Best parameters found:', rf.best_params_)\n",
    "    print('AUC :',rf.cv_results_['mean_test_AUC'][(rf.cv_results_['rank_test_AUC']-1)[0]])\n",
    "    print('Accuracy :',rf.cv_results_['mean_test_Accuracy'][(rf.cv_results_['rank_test_Accuracy']-1)[0]])\n",
    "    print('F-measure :',rf.cv_results_['mean_test_F-measure'][(rf.cv_results_['rank_test_F-measure']-1)[0]])\n",
    "    print('Precision :',rf.cv_results_['mean_test_Precision'][(rf.cv_results_['rank_test_Precision']-1)[0]])\n",
    "    print('Recall :',rf.cv_results_['mean_test_Recall'][(rf.cv_results_['rank_test_Recall']-1)[0]])"
   ]
  },
  {
   "cell_type": "code",
   "execution_count": 91,
   "metadata": {},
   "outputs": [
    {
     "name": "stdout",
     "output_type": "stream",
     "text": [
      "svm_rbf_hasilsmote_1\n",
      "Best parameters found: {'C': 0.5, 'gamma': 0.0078125, 'kernel': 'rbf'}\n",
      "AUC : 0.9746857896464474\n",
      "Accuracy : 0.918904958677686\n",
      "F-measure : 0.9078592977812351\n",
      "Precision : 1.0\n",
      "Recall : 0.9090909090909091\n",
      "svm_rbf_hasilsmote_2\n",
      "Best parameters found: {'C': 8, 'gamma': 0.0078125, 'kernel': 'rbf'}\n",
      "AUC : 0.9748604308446257\n",
      "Accuracy : 0.9231663223140496\n",
      "F-measure : 0.9114358089683635\n",
      "Precision : 1.0\n",
      "Recall : 0.9083161157024794\n",
      "svm_rbf_hasilsmote_3\n",
      "Best parameters found: {'C': 0.5, 'gamma': 0.0078125, 'kernel': 'rbf'}\n",
      "AUC : 0.9699539313202955\n",
      "Accuracy : 0.9258780991735537\n",
      "F-measure : 0.9145832117684626\n",
      "Precision : 1.0\n",
      "Recall : 0.9108987603305785\n",
      "svm_rbf_hasilsmote_4\n",
      "Best parameters found: {'C': 8, 'gamma': 0.0078125, 'kernel': 'rbf'}\n",
      "AUC : 0.9683368448861527\n",
      "Accuracy : 0.921745867768595\n",
      "F-measure : 0.911005668876379\n",
      "Precision : 1.0\n",
      "Recall : 0.9096074380165289\n",
      "svm_rbf_hasilsmote_5\n",
      "Best parameters found: {'C': 0.5, 'gamma': 0.0078125, 'kernel': 'rbf'}\n",
      "AUC : 0.9766685774405033\n",
      "Accuracy : 0.9226497933884298\n",
      "F-measure : 0.912696669152867\n",
      "Precision : 1.0\n",
      "Recall : 0.9127066115702479\n"
     ]
    }
   ],
   "source": [
    "print_cv_results_svm(df1)\n",
    "print_cv_results_svm(df2)\n",
    "print_cv_results_svm(df3)\n",
    "print_cv_results_svm(df4)\n",
    "print_cv_results_svm(df5)"
   ]
  },
  {
   "cell_type": "code",
   "execution_count": 19,
   "metadata": {},
   "outputs": [],
   "source": [
    "\n",
    "def prediksi(md,model,n,m,p,data,d):\n",
    "    pred_x = pd.DataFrame(md.predict_proba(data.x))\n",
    "    prob_x = pd.DataFrame(np.where(pred_x >= p, 1,0))\n",
    "    print(\"threshold {0} \".format(p))\n",
    "    print(\"model_hasilsmote_{0} \".format(d))\n",
    "    print(\"hasil prediksi \",data.dt,\" : (0,1)\")\n",
    "    print(confusion_matrix(data.y, prob_x[1]))\n",
    "    pred = pd.DataFrame(prob_x)\n",
    "    pred[2] = data.com\n",
    "    pred[3] = data.prot\n",
    "    #print(pred.head())\n",
    "    #print(prob_x)\n",
    "    pred[4] = pred_x[1]\n",
    "    #print(pred.head())\n",
    "    #print(pd.DataFrame(prob_x)[1].head())\n",
    "    pred.to_excel('../data3/hasil_pred/{0}_{1}p_{2}_modelhasilsmote{3}.xlsx'.format(model.__name__,p,data.dt,d))"
   ]
  },
  {
   "cell_type": "code",
   "execution_count": 23,
   "metadata": {},
   "outputs": [],
   "source": [
    "def fitn2pred(model,n,m,p,datalatih,datauji1,datauji2,datauji3,d):\n",
    "    md=print_cv_results(model,n,m,datalatih)\n",
    "    prediksi(md,model,n,m,p,datauji1,d)\n",
    "    prediksi(md,model,n,m,p,datauji2,d)\n",
    "    prediksi(md,model,n,m,p,datauji3,d)"
   ]
  },
  {
   "cell_type": "code",
   "execution_count": 25,
   "metadata": {},
   "outputs": [],
   "source": [
    "#fitn2pred(mlp,100,1000,0.5,df1,dtf,dtl,dtg,1)"
   ]
  },
  {
   "cell_type": "code",
   "execution_count": null,
   "metadata": {},
   "outputs": [],
   "source": []
  }
 ],
 "metadata": {
  "kernelspec": {
   "display_name": "Python 3",
   "language": "python",
   "name": "python3"
  },
  "language_info": {
   "codemirror_mode": {
    "name": "ipython",
    "version": 3
   },
   "file_extension": ".py",
   "mimetype": "text/x-python",
   "name": "python",
   "nbconvert_exporter": "python",
   "pygments_lexer": "ipython3",
   "version": "3.7.3"
  }
 },
 "nbformat": 4,
 "nbformat_minor": 4
}
