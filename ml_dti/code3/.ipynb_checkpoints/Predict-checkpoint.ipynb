{
 "cells": [
  {
   "cell_type": "code",
   "execution_count": null,
   "metadata": {},
   "outputs": [],
   "source": []
  },
  {
   "cell_type": "code",
   "execution_count": 1,
   "metadata": {},
   "outputs": [],
   "source": [
    "import numpy as np\n",
    "import pandas as pd\n",
    "\n",
    "from sklearn.metrics import classification_report\n",
    "from sklearn.metrics import confusion_matrix\n",
    "from sklearn.metrics import accuracy_score,f1_score, precision_score, recall_score, roc_auc_score\n",
    "\n",
    "from sklearn.svm import SVC\n",
    "from sklearn.ensemble import RandomForestClassifier\n",
    "from sklearn.model_selection import cross_val_score, GridSearchCV\n",
    "\n",
    "import pickle\n",
    "\n",
    "from sklearn.ensemble import BaggingClassifier\n",
    "from sklearn.tree import DecisionTreeClassifier"
   ]
  },
  {
   "cell_type": "code",
   "execution_count": 2,
   "metadata": {},
   "outputs": [],
   "source": [
    "#a"
   ]
  },
  {
   "cell_type": "code",
   "execution_count": 7,
   "metadata": {},
   "outputs": [],
   "source": [
    "class uji(): \n",
    "    def __init__(self,data): \n",
    "        df0 = pd.read_csv('../data3/uji%snorm.csv'%data, delimiter= \",\", header=None)\n",
    "        df0=df0.fillna(0)\n",
    "        self.com=df0[0]\n",
    "        self.prot=df0[1282]\n",
    "        self.x =df0.drop([0,1282], axis=1)\n",
    "        df0[1300]=0\n",
    "        \n",
    "        self.y=df0[1300]\n",
    "        self.dt=data\n",
    "class latih(): \n",
    "    def __init__(self,data): \n",
    "        df = pd.read_csv(\"../data3/%s.csv\"%data, delimiter=',')\n",
    "        df.head()\n",
    "        self.X = df.drop(['label'], axis=1)\n",
    "        self.Y = df['label']\n",
    "        self.dt=data\n",
    "def dtuji(data): \n",
    "    return uji(data) \n",
    "def dtlatih(data): \n",
    "    return latih(data) \n",
    "\n",
    "dtf =dtuji('mbafika') #dtf.com, dtf.prot, dtf.x, dtf.y, dtf.dt\n",
    "dtl =dtuji('mbalinda') #dtl.com, dtl.prot, dtl.x, dtl.y dtl.dt\n",
    "dtt =dtuji('tambahan') #dtl.com, dtl.prot, dtl.x, dtl.y dtl.dt\n",
    "df1= dtlatih('hasilsmote_1') #df1.X,df1.Y,df1.dt\n",
    "df2= dtlatih('hasilsmote_2') #df2.X,df2.Y,df2.dt\n",
    "df3= dtlatih('hasilsmote_3') #df3.X,df3.Y,df3.dt\n",
    "df4= dtlatih('hasilsmote_4') #df4.X,df4.Y,df4.dt\n",
    "df5= dtlatih('hasilsmote_5') #df5.X,df5.Y,df5.dt"
   ]
  },
  {
   "cell_type": "code",
   "execution_count": 8,
   "metadata": {},
   "outputs": [],
   "source": [
    "dtg =dtuji('gabung') #dtl.com, dtl.prot, dtl.x, dtl.y dtl.dt"
   ]
  },
  {
   "cell_type": "code",
   "execution_count": 12,
   "metadata": {},
   "outputs": [],
   "source": [
    "def print_cv_results_mlp(model,o):\n",
    "    rf = pickle.load(open('../data3/model/{0}_hasilsmote_{1}'.format(model.__name__,o), 'rb'))\n",
    "    print('{0}_hasilsmote_{1}'.format(model.__name__,o))\n",
    "    print('Best parameters found:', rf.best_params_)\n",
    "    print('AUC :',rf.cv_results_['mean_test_AUC'])\n",
    "    print('Accuracy :',rf.cv_results_['mean_test_Accuracy'])\n",
    "    print('F-measure :',rf.cv_results_['mean_test_F-measure'])\n",
    "    print('Precision :',rf.cv_results_['mean_test_Precision'])\n",
    "    print('Recall :',rf.cv_results_['mean_test_Recall'])\n",
    "    return rf"
   ]
  },
  {
   "cell_type": "code",
   "execution_count": 19,
   "metadata": {},
   "outputs": [],
   "source": [
    "\n",
    "def prediksi(md,model,n,m,p,data,d):\n",
    "    pred_x = pd.DataFrame(md.predict_proba(data.x))\n",
    "    prob_x = pd.DataFrame(np.where(pred_x >= p, 1,0))\n",
    "    print(\"threshold {0} \".format(p))\n",
    "    print(\"model_hasilsmote_{0} \".format(d))\n",
    "    print(\"hasil prediksi \",data.dt,\" : (0,1)\")\n",
    "    print(confusion_matrix(data.y, prob_x[1]))\n",
    "    pred = pd.DataFrame(prob_x)\n",
    "    pred[2] = data.com\n",
    "    pred[3] = data.prot\n",
    "    #print(pred.head())\n",
    "    #print(prob_x)\n",
    "    pred[4] = pred_x[1]\n",
    "    #print(pred.head())\n",
    "    #print(pd.DataFrame(prob_x)[1].head())\n",
    "    pred.to_excel('../data3/hasil_pred/{0}_{1}p_{2}_modelhasilsmote{3}.xlsx'.format(model.__name__,p,data.dt,d))"
   ]
  },
  {
   "cell_type": "code",
   "execution_count": 14,
   "metadata": {},
   "outputs": [],
   "source": [
    "def fitn3pred(model,n,m,p,datalatih,datauji1,datauji2,datauji3,d):\n",
    "    md=print_cv_results(model,n,m,datalatih)\n",
    "    prediksi(md,model,n,m,p,datauji1,d)\n",
    "    prediksi(md,model,n,m,p,datauji2,d)\n",
    "    prediksi(md,model,n,m,p,datauji3,d)"
   ]
  },
  {
   "cell_type": "code",
   "execution_count": null,
   "metadata": {},
   "outputs": [],
   "source": []
  }
 ],
 "metadata": {
  "kernelspec": {
   "display_name": "Python 3",
   "language": "python",
   "name": "python3"
  },
  "language_info": {
   "codemirror_mode": {
    "name": "ipython",
    "version": 3
   },
   "file_extension": ".py",
   "mimetype": "text/x-python",
   "name": "python",
   "nbconvert_exporter": "python",
   "pygments_lexer": "ipython3",
   "version": "3.7.3"
  }
 },
 "nbformat": 4,
 "nbformat_minor": 4
}
