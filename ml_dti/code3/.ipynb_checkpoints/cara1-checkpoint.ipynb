{
 "cells": [
  {
   "cell_type": "code",
   "execution_count": 1,
   "metadata": {},
   "outputs": [],
   "source": [
    "import numpy as np\n",
    "import pandas as pd\n",
    "\n",
    "from sklearn.metrics import classification_report\n",
    "from sklearn.metrics import confusion_matrix\n",
    "from sklearn.metrics import accuracy_score,f1_score, precision_score, recall_score, roc_auc_score\n",
    "\n",
    "from sklearn.svm import SVC\n",
    "from sklearn.ensemble import RandomForestClassifier\n",
    "from sklearn.model_selection import cross_val_score, GridSearchCV\n",
    "\n",
    "import pickle\n",
    "\n",
    "from sklearn.ensemble import BaggingClassifier\n",
    "from sklearn.tree import DecisionTreeClassifier"
   ]
  },
  {
   "cell_type": "code",
   "execution_count": 2,
   "metadata": {},
   "outputs": [],
   "source": [
    "#a"
   ]
  },
  {
   "cell_type": "code",
   "execution_count": 3,
   "metadata": {},
   "outputs": [],
   "source": [
    "class uji(): \n",
    "    def __init__(self,data): \n",
    "        df0 = pd.read_csv('../data3/uji%snorm.csv'%data, delimiter= \",\", header=None)\n",
    "        df0=df0.fillna(0)\n",
    "        self.com=df0[0]\n",
    "        self.prot=df0[1282]\n",
    "        self.x =df0.drop([0,1282], axis=1)\n",
    "        df0[1300]=0\n",
    "        \n",
    "        self.y=df0[1300]\n",
    "        self.dt=data\n",
    "class latih(): \n",
    "    def __init__(self,data): \n",
    "        df = pd.read_csv(\"../data3/%s.csv\"%data, delimiter=',')\n",
    "        df.head()\n",
    "        self.X = df.drop(['label'], axis=1)\n",
    "        self.Y = df['label']\n",
    "        self.dt=data\n",
    "def dtuji(data): \n",
    "    return uji(data) \n",
    "def dtlatih(data): \n",
    "    return latih(data) \n",
    "\n",
    "dtf =dtuji('mbafika') #dtf.com, dtf.prot, dtf.x, dtf.y, dtf.dt\n",
    "dtl =dtuji('mbalinda') #dtl.com, dtl.prot, dtl.x, dtl.y dtl.dt\n",
    "dtt =dtuji('tambahan') #dtl.com, dtl.prot, dtl.x, dtl.y dtl.dt\n",
    "df1= dtlatih('hasilsmote_1') #df1.X,df1.Y,df1.dt\n",
    "df2= dtlatih('hasilsmote_2') #df2.X,df2.Y,df2.dt\n",
    "df3= dtlatih('hasilsmote_3') #df3.X,df3.Y,df3.dt\n",
    "df4= dtlatih('hasilsmote_4') #df4.X,df4.Y,df4.dt\n",
    "df5= dtlatih('hasilsmote_5') #df5.X,df5.Y,df5.dt"
   ]
  },
  {
   "cell_type": "code",
   "execution_count": 4,
   "metadata": {},
   "outputs": [],
   "source": [
    "dtg =dtuji('gabung') #dtl.com, dtl.prot, dtl.x, dtl.y dtl.dt"
   ]
  },
  {
   "cell_type": "code",
   "execution_count": 5,
   "metadata": {},
   "outputs": [],
   "source": [
    "class uji(): \n",
    "    def __init__(self,data): \n",
    "        df0 = pd.read_csv('../data3/uji%snorm.csv'%data, delimiter= \",\", header=None)\n",
    "        df0=df0.fillna(0)\n",
    "        self.com=df0[0]\n",
    "        self.prot=df0[1282]\n",
    "        self.x =df0.drop([0,1282], axis=1)\n",
    "        df0[1300]=0\n",
    "        \n",
    "        self.y=df0[1300]\n",
    "        self.dt=data\n",
    "class latih(): \n",
    "    def __init__(self,data): \n",
    "        df = pd.read_csv(\"../data3/%s.csv\"%data, delimiter=',')\n",
    "        df.head()\n",
    "        self.X = df.drop(['0','1282','label'], axis=1)\n",
    "        self.Y = df['label']\n",
    "        self.dt=data\n",
    "def dtuji(data): \n",
    "    return uji(data) \n",
    "def dtlatih(data): \n",
    "    return latih(data) \n",
    "df= dtlatih('latih_parted')"
   ]
  },
  {
   "cell_type": "code",
   "execution_count": 6,
   "metadata": {},
   "outputs": [],
   "source": [
    "#df.X"
   ]
  },
  {
   "cell_type": "code",
   "execution_count": 7,
   "metadata": {},
   "outputs": [],
   "source": [
    "scoring = {'AUC': 'roc_auc', 'Accuracy': 'accuracy','F-measure':'f1','Precision':'precision', 'Recall':'recall'}\n"
   ]
  },
  {
   "cell_type": "markdown",
   "metadata": {},
   "source": [
    "#RF"
   ]
  },
  {
   "cell_type": "code",
   "execution_count": 8,
   "metadata": {},
   "outputs": [],
   "source": [
    "def rf(n,m,df):\n",
    "    # Number of trees in random forest\n",
    "   # n_estimators = [int(x) for x in np.linspace(start = 100, stop = 2500, num = 3)]\n",
    "    # Number of features to consider at every split\n",
    "    #max_features = ['auto', None]\n",
    "    # Maximum number of levels in tree\n",
    "    #max_depth = [int(x) for x in np.linspace(10, 100, num = 2)]\n",
    "    #max_depth.append(None)\n",
    "    # Minimum number of samples required to split a node\n",
    "    random_grid = {'n_estimators': [n],#[100,500,1000],\n",
    "                   #'max_features' : max_features,\n",
    "                   #'max_depth': max_depth,                 \n",
    "                   #'bootstrap': [True,False],\n",
    "                   'max_samples': [m]#[1000,2000,3000]\n",
    "                   }\n",
    "    rf = BaggingClassifier(bootstrap=True,base_estimator=DecisionTreeClassifier())\n",
    "    #rf = RandomForestClassifier()\n",
    "    \n",
    "    \n",
    "    rf = GridSearchCV(rf, random_grid, n_jobs=-1, cv=5,scoring=scoring, refit='AUC',return_train_score=True)\n",
    "    rf.fit(df.X, df.Y)\n",
    "    filename = '../data3/model/rf_{0}n_{1}m_{2}'.format(n,m,df.dt)\n",
    "    pickle.dump(rf, open(filename, 'wb'))\n",
    "    return rf"
   ]
  },
  {
   "cell_type": "code",
   "execution_count": null,
   "metadata": {},
   "outputs": [],
   "source": []
  },
  {
   "cell_type": "code",
   "execution_count": 9,
   "metadata": {},
   "outputs": [],
   "source": [
    "def report_rf(model,n,m,df,d):\n",
    "    rf = pickle.load(open('../data3/model/{0}_{1}n_{2}m_hasilsmote_{3}'.format(model.__name__,n,m,d), 'rb'))\n",
    "    pred_x = rf.predict(df.X)\n",
    "    print('n = {0}'.format(n))\n",
    "    print('m = {0}'.format(m))\n",
    "    print('model file : {0}_{1}n_{2}m_hasilsmote_{3}'.format(model.__name__,n,m,d))\n",
    "    #print('Parameters used:', rf.get_params() )\n",
    "    print('Best parameters found:', rf.best_params_)\n",
    "    \n",
    "    #print('Accuracy:',accuracy_score(df.Y, pred_x))\n",
    "    #print('f1:',f1_score(df.Y, pred_x))\n",
    "    #print('precision:',precision_score(df.Y, pred_x))\n",
    "    #print('recall:',recall_score(df.Y, pred_x))\n",
    "    #print('roc_auc:',roc_auc_score(df.Y, pred_x))\n",
    "    #print('Confusion matrix:')\n",
    "    #print(confusion_matrix(df.Y, pred_x))\n",
    "    #print('Results on the train set:')\n",
    "    #print(classification_report(df.Y, pred_x))\n",
    "    return rf\n",
    "    #pred_n = rf.predict(cX)\n",
    "    #print('Results on the all neg data:')\n",
    "    #print(classification_report(cY, pred_n))\n",
    "    \n",
    "def prediksi(md,model,n,m,p,data,d):\n",
    "    pred_x = pd.DataFrame(md.predict_proba(data.x))\n",
    "    prob_x = pd.DataFrame(np.where(pred_x >= p, 1,0))\n",
    "    print(\"threshold {0} \".format(p))\n",
    "    print(\"model_hasilsmote_{0} \".format(d))\n",
    "    print(\"hasil prediksi \",data.dt,\" : (0,1)\")\n",
    "    print(confusion_matrix(data.y, prob_x[1]))\n",
    "    pred = pd.DataFrame(prob_x)\n",
    "    pred[2] = data.com\n",
    "    pred[3] = data.prot\n",
    "    #print(pred.head())\n",
    "    #print(prob_x)\n",
    "    pred[4] = pred_x[1]\n",
    "    #print(pred.head())\n",
    "    #print(pd.DataFrame(prob_x)[1].head())\n",
    "    pred.to_excel('../data3/hasil_pred/{0}_{1}n_{2}m_{3}p_{4}_modelhasilsmote{5}.xlsx'.format(model.__name__,n,m,p,data.dt,d))"
   ]
  },
  {
   "cell_type": "code",
   "execution_count": 12,
   "metadata": {},
   "outputs": [],
   "source": [
    "def fitn3pred(model,n,m,p,datalatih,datauji1,datauji2,datauji3,d):\n",
    "    md=report_rf(model,n,m,datalatih,d)\n",
    "    prediksi(md,model,n,m,p,datauji1,d)\n",
    "    prediksi(md,model,n,m,p,datauji2,d)\n",
    "    prediksi(md,model,n,m,p,datauji3,d)\n",
    "def fitn2pred(model,n,m,p,datalatih,datauji1,datauji2,d):\n",
    "    md=report_rf(model,n,m,datalatih,d)\n",
    "    prediksi(md,model,n,m,p,datauji1,d)\n",
    "    prediksi(md,model,n,m,p,datauji2,d)\n",
    "def reportnpred(model,n,m,p,datalatih,datauji1,d):\n",
    "    md=report_rf(model,n,m,datalatih,d)\n",
    "    prediksi(md,model,n,m,p,datauji1,d)"
   ]
  },
  {
   "cell_type": "code",
   "execution_count": 13,
   "metadata": {},
   "outputs": [
    {
     "name": "stdout",
     "output_type": "stream",
     "text": [
      "n = 100\n",
      "m = 1000\n",
      "model file : rf_100n_1000m_hasilsmote_1\n",
      "Best parameters found: {'max_samples': 1000, 'n_estimators': 100}\n",
      "threshold 0.5 \n",
      "model_hasilsmote_1 \n",
      "hasil prediksi  tambahan  : (0,1)\n",
      "[[12 12]\n",
      " [ 0  0]]\n",
      "n = 100\n",
      "m = 1000\n",
      "model file : rf_100n_1000m_hasilsmote_2\n",
      "Best parameters found: {'max_samples': 1000, 'n_estimators': 100}\n",
      "threshold 0.5 \n",
      "model_hasilsmote_2 \n",
      "hasil prediksi  tambahan  : (0,1)\n",
      "[[12 12]\n",
      " [ 0  0]]\n",
      "n = 100\n",
      "m = 1000\n",
      "model file : rf_100n_1000m_hasilsmote_3\n",
      "Best parameters found: {'max_samples': 1000, 'n_estimators': 100}\n",
      "threshold 0.5 \n",
      "model_hasilsmote_3 \n",
      "hasil prediksi  tambahan  : (0,1)\n",
      "[[12 12]\n",
      " [ 0  0]]\n",
      "n = 100\n",
      "m = 1000\n",
      "model file : rf_100n_1000m_hasilsmote_4\n",
      "Best parameters found: {'max_samples': 1000, 'n_estimators': 100}\n",
      "threshold 0.5 \n",
      "model_hasilsmote_4 \n",
      "hasil prediksi  tambahan  : (0,1)\n",
      "[[12 12]\n",
      " [ 0  0]]\n",
      "n = 100\n",
      "m = 1000\n",
      "model file : rf_100n_1000m_hasilsmote_5\n",
      "Best parameters found: {'max_samples': 1000, 'n_estimators': 100}\n",
      "threshold 0.5 \n",
      "model_hasilsmote_5 \n",
      "hasil prediksi  tambahan  : (0,1)\n",
      "[[13 11]\n",
      " [ 0  0]]\n"
     ]
    }
   ],
   "source": [
    "reportnpred(rf,100,1000,0.5,df,dtt,1)\n",
    "reportnpred(rf,100,1000,0.5,df,dtt,2)\n",
    "reportnpred(rf,100,1000,0.5,df,dtt,3)\n",
    "reportnpred(rf,100,1000,0.5,df,dtt,4)\n",
    "reportnpred(rf,100,1000,0.5,df,dtt,5)"
   ]
  },
  {
   "cell_type": "code",
   "execution_count": 74,
   "metadata": {},
   "outputs": [
    {
     "name": "stdout",
     "output_type": "stream",
     "text": [
      "n = 100\n",
      "m = 1000\n",
      "model file : rf_100n_1000m_hasilsmote_1\n",
      "Best parameters found: {'max_samples': 1000, 'n_estimators': 100}\n",
      "threshold 0.5 \n",
      "model_hasilsmote_1 \n",
      "hasil prediksi  mbafika  : (0,1)\n",
      "[[144  96]\n",
      " [  0   0]]\n",
      "threshold 0.5 \n",
      "model_hasilsmote_1 \n",
      "hasil prediksi  mbalinda  : (0,1)\n",
      "[[1755 1293]\n",
      " [   0    0]]\n",
      "threshold 0.5 \n",
      "model_hasilsmote_1 \n",
      "hasil prediksi  gabung  : (0,1)\n",
      "[[1845 1363]\n",
      " [   0    0]]\n"
     ]
    }
   ],
   "source": [
    "fitn2pred(rf,100,1000,0.5,df,dtf,dtl,dtg,1)"
   ]
  },
  {
   "cell_type": "code",
   "execution_count": 78,
   "metadata": {},
   "outputs": [
    {
     "name": "stdout",
     "output_type": "stream",
     "text": [
      "n = 100\n",
      "m = 1000\n",
      "model file : rf_100n_1000m_hasilsmote_2\n",
      "Best parameters found: {'max_samples': 1000, 'n_estimators': 100}\n",
      "threshold 0.5 \n",
      "model_hasilsmote_2 \n",
      "hasil prediksi  mbafika  : (0,1)\n",
      "[[120 120]\n",
      " [  0   0]]\n",
      "threshold 0.5 \n",
      "model_hasilsmote_2 \n",
      "hasil prediksi  mbalinda  : (0,1)\n",
      "[[1526 1522]\n",
      " [   0    0]]\n",
      "threshold 0.5 \n",
      "model_hasilsmote_2 \n",
      "hasil prediksi  gabung  : (0,1)\n",
      "[[1606 1602]\n",
      " [   0    0]]\n"
     ]
    }
   ],
   "source": [
    "fitn2pred(rf,100,1000,0.5,df,dtf,dtl,dtg,2)"
   ]
  },
  {
   "cell_type": "code",
   "execution_count": 79,
   "metadata": {},
   "outputs": [
    {
     "name": "stdout",
     "output_type": "stream",
     "text": [
      "n = 100\n",
      "m = 1000\n",
      "model file : rf_100n_1000m_hasilsmote_3\n",
      "Best parameters found: {'max_samples': 1000, 'n_estimators': 100}\n",
      "threshold 0.5 \n",
      "model_hasilsmote_3 \n",
      "hasil prediksi  mbafika  : (0,1)\n",
      "[[120 120]\n",
      " [  0   0]]\n",
      "threshold 0.5 \n",
      "model_hasilsmote_3 \n",
      "hasil prediksi  mbalinda  : (0,1)\n",
      "[[1563 1485]\n",
      " [   0    0]]\n",
      "threshold 0.5 \n",
      "model_hasilsmote_3 \n",
      "hasil prediksi  gabung  : (0,1)\n",
      "[[1641 1567]\n",
      " [   0    0]]\n"
     ]
    }
   ],
   "source": [
    "fitn2pred(rf,100,1000,0.5,df,dtf,dtl,dtg,3)"
   ]
  },
  {
   "cell_type": "code",
   "execution_count": 80,
   "metadata": {},
   "outputs": [
    {
     "name": "stdout",
     "output_type": "stream",
     "text": [
      "n = 100\n",
      "m = 1000\n",
      "model file : rf_100n_1000m_hasilsmote_4\n",
      "Best parameters found: {'max_samples': 1000, 'n_estimators': 100}\n",
      "threshold 0.5 \n",
      "model_hasilsmote_4 \n",
      "hasil prediksi  mbafika  : (0,1)\n",
      "[[120 120]\n",
      " [  0   0]]\n",
      "threshold 0.5 \n",
      "model_hasilsmote_4 \n",
      "hasil prediksi  mbalinda  : (0,1)\n",
      "[[1530 1518]\n",
      " [   0    0]]\n",
      "threshold 0.5 \n",
      "model_hasilsmote_4 \n",
      "hasil prediksi  gabung  : (0,1)\n",
      "[[1610 1598]\n",
      " [   0    0]]\n"
     ]
    }
   ],
   "source": [
    "fitn2pred(rf,100,1000,0.5,df,dtf,dtl,dtg,4)"
   ]
  },
  {
   "cell_type": "code",
   "execution_count": 81,
   "metadata": {},
   "outputs": [
    {
     "name": "stdout",
     "output_type": "stream",
     "text": [
      "n = 100\n",
      "m = 1000\n",
      "model file : rf_100n_1000m_hasilsmote_5\n",
      "Best parameters found: {'max_samples': 1000, 'n_estimators': 100}\n",
      "threshold 0.5 \n",
      "model_hasilsmote_5 \n",
      "hasil prediksi  mbafika  : (0,1)\n",
      "[[123 117]\n",
      " [  0   0]]\n",
      "threshold 0.5 \n",
      "model_hasilsmote_5 \n",
      "hasil prediksi  mbalinda  : (0,1)\n",
      "[[1773 1275]\n",
      " [   0    0]]\n",
      "threshold 0.5 \n",
      "model_hasilsmote_5 \n",
      "hasil prediksi  gabung  : (0,1)\n",
      "[[1855 1353]\n",
      " [   0    0]]\n"
     ]
    }
   ],
   "source": [
    "fitn2pred(rf,100,1000,0.5,df,dtf,dtl,dtg,5)"
   ]
  },
  {
   "cell_type": "code",
   "execution_count": 97,
   "metadata": {},
   "outputs": [
    {
     "name": "stdout",
     "output_type": "stream",
     "text": [
      "done\n",
      "done\n",
      "done\n"
     ]
    }
   ],
   "source": [
    "rf1_100n_1000m=rf(100,1000,df1)\n",
    "print('done')\n",
    "rf1_100n_2000m=rf(100,2000,df1)\n",
    "print('done')\n",
    "rf1_100n_3000m=rf(100,3000,df1)\n",
    "print('done')"
   ]
  },
  {
   "cell_type": "code",
   "execution_count": 99,
   "metadata": {},
   "outputs": [
    {
     "name": "stdout",
     "output_type": "stream",
     "text": [
      "done\n",
      "done\n",
      "done\n"
     ]
    }
   ],
   "source": [
    "rf1_500n_1000m=rf(500,1000,df1)\n",
    "print('done')\n",
    "rf1_500n_2000m=rf(500,2000,df1)\n",
    "print('done')\n",
    "rf1_500n_3000m=rf(500,3000,df1)\n",
    "print('done')"
   ]
  },
  {
   "cell_type": "code",
   "execution_count": 21,
   "metadata": {},
   "outputs": [
    {
     "name": "stdout",
     "output_type": "stream",
     "text": [
      "done\n",
      "done\n",
      "done\n"
     ]
    }
   ],
   "source": [
    "rf1_300n_1000m=rf(300,1000,df1)\n",
    "print('done')\n",
    "rf1_300n_2000m=rf(300,2000,df1)\n",
    "print('done')\n",
    "rf1_300n_3000m=rf(300,3000,df1)\n",
    "print('done')"
   ]
  },
  {
   "cell_type": "code",
   "execution_count": 100,
   "metadata": {},
   "outputs": [
    {
     "name": "stdout",
     "output_type": "stream",
     "text": [
      "done\n",
      "done\n",
      "done\n"
     ]
    }
   ],
   "source": [
    "rf2_100n_1000m=rf(100,1000,df2)\n",
    "print('done')\n",
    "rf2_100n_2000m=rf(100,2000,df2)\n",
    "print('done')\n",
    "rf2_100n_3000m=rf(100,3000,df2)\n",
    "print('done')"
   ]
  },
  {
   "cell_type": "code",
   "execution_count": 12,
   "metadata": {},
   "outputs": [
    {
     "name": "stdout",
     "output_type": "stream",
     "text": [
      "done\n",
      "done\n",
      "done\n"
     ]
    }
   ],
   "source": [
    "rf2_500n_1000m=rf(500,1000,df2)\n",
    "print('done')\n",
    "rf2_500n_2000m=rf(500,2000,df2)\n",
    "print('done')\n",
    "rf2_500n_3000m=rf(500,3000,df2)\n",
    "print('done')"
   ]
  },
  {
   "cell_type": "code",
   "execution_count": 22,
   "metadata": {},
   "outputs": [
    {
     "name": "stdout",
     "output_type": "stream",
     "text": [
      "done\n",
      "done\n",
      "done\n"
     ]
    }
   ],
   "source": [
    "rf2_300n_1000m=rf(300,1000,df2)\n",
    "print('done')\n",
    "rf2_300n_2000m=rf(300,2000,df2)\n",
    "print('done')\n",
    "rf2_300n_3000m=rf(300,3000,df2)\n",
    "print('done')"
   ]
  },
  {
   "cell_type": "code",
   "execution_count": 101,
   "metadata": {},
   "outputs": [
    {
     "name": "stdout",
     "output_type": "stream",
     "text": [
      "done\n",
      "done\n",
      "done\n"
     ]
    }
   ],
   "source": [
    "rf3_100n_1000m=rf(100,1000,df3)\n",
    "print('done')\n",
    "rf3_100n_2000m=rf(100,2000,df3)\n",
    "print('done')\n",
    "rf3_100n_3000m=rf(100,3000,df3)\n",
    "print('done')"
   ]
  },
  {
   "cell_type": "code",
   "execution_count": 13,
   "metadata": {},
   "outputs": [
    {
     "name": "stdout",
     "output_type": "stream",
     "text": [
      "done\n",
      "done\n",
      "done\n"
     ]
    }
   ],
   "source": [
    "rf3_500n_1000m=rf(500,1000,df3)\n",
    "print('done')\n",
    "rf3_500n_2000m=rf(500,2000,df3)\n",
    "print('done')\n",
    "rf3_500n_3000m=rf(500,3000,df3)\n",
    "print('done')"
   ]
  },
  {
   "cell_type": "code",
   "execution_count": 23,
   "metadata": {},
   "outputs": [
    {
     "name": "stdout",
     "output_type": "stream",
     "text": [
      "done\n",
      "done\n",
      "done\n"
     ]
    }
   ],
   "source": [
    "rf3_300n_1000m=rf(300,1000,df3)\n",
    "print('done')\n",
    "rf3_300n_2000m=rf(300,2000,df3)\n",
    "print('done')\n",
    "rf3_300n_3000m=rf(300,3000,df3)\n",
    "print('done')"
   ]
  },
  {
   "cell_type": "code",
   "execution_count": 102,
   "metadata": {},
   "outputs": [
    {
     "name": "stdout",
     "output_type": "stream",
     "text": [
      "done\n",
      "done\n",
      "done\n"
     ]
    }
   ],
   "source": [
    "rf4_100n_1000m=rf(100,1000,df4)\n",
    "print('done')\n",
    "rf4_100n_2000m=rf(100,2000,df4)\n",
    "print('done')\n",
    "rf4_100n_3000m=rf(100,3000,df4)\n",
    "print('done')"
   ]
  },
  {
   "cell_type": "code",
   "execution_count": 14,
   "metadata": {},
   "outputs": [
    {
     "name": "stdout",
     "output_type": "stream",
     "text": [
      "done\n",
      "done\n",
      "done\n"
     ]
    }
   ],
   "source": [
    "rf4_500n_1000m=rf(500,1000,df4)\n",
    "print('done')\n",
    "rf4_500n_2000m=rf(500,2000,df4)\n",
    "print('done')\n",
    "rf4_500n_3000m=rf(500,3000,df4)\n",
    "print('done')"
   ]
  },
  {
   "cell_type": "code",
   "execution_count": 24,
   "metadata": {},
   "outputs": [
    {
     "name": "stdout",
     "output_type": "stream",
     "text": [
      "done\n",
      "done\n",
      "done\n"
     ]
    }
   ],
   "source": [
    "rf4_300n_1000m=rf(300,1000,df4)\n",
    "print('done')\n",
    "rf4_300n_2000m=rf(300,2000,df4)\n",
    "print('done')\n",
    "rf4_300n_3000m=rf(300,3000,df4)\n",
    "print('done')"
   ]
  },
  {
   "cell_type": "code",
   "execution_count": 103,
   "metadata": {},
   "outputs": [
    {
     "name": "stdout",
     "output_type": "stream",
     "text": [
      "done\n",
      "done\n",
      "done\n"
     ]
    }
   ],
   "source": [
    "rf5_100n_1000m=rf(100,1000,df5)\n",
    "print('done')\n",
    "rf5_100n_2000m=rf(100,2000,df5)\n",
    "print('done')\n",
    "rf5_100n_3000m=rf(100,3000,df5)\n",
    "print('done')"
   ]
  },
  {
   "cell_type": "code",
   "execution_count": 15,
   "metadata": {},
   "outputs": [
    {
     "name": "stdout",
     "output_type": "stream",
     "text": [
      "done\n",
      "done\n",
      "done\n"
     ]
    }
   ],
   "source": [
    "rf5_500n_1000m=rf(500,1000,df5)\n",
    "print('done')\n",
    "rf5_500n_2000m=rf(500,2000,df5)\n",
    "print('done')\n",
    "rf5_500n_3000m=rf(500,3000,df5)\n",
    "print('done')"
   ]
  },
  {
   "cell_type": "code",
   "execution_count": 25,
   "metadata": {},
   "outputs": [
    {
     "name": "stdout",
     "output_type": "stream",
     "text": [
      "done\n",
      "done\n",
      "done\n"
     ]
    }
   ],
   "source": [
    "rf5_300n_1000m=rf(300,1000,df5)\n",
    "print('done')\n",
    "rf5_300n_2000m=rf(300,2000,df5)\n",
    "print('done')\n",
    "rf5_300n_3000m=rf(300,3000,df5)\n",
    "print('done')"
   ]
  },
  {
   "cell_type": "code",
   "execution_count": null,
   "metadata": {},
   "outputs": [],
   "source": []
  },
  {
   "cell_type": "code",
   "execution_count": 7,
   "metadata": {},
   "outputs": [],
   "source": [
    "#rf5_100n_1000m.cv_results_#['mean_test_score']\n",
    "#stds = clf.cv_results_['std_test_score']\n",
    "def print_cv_results(n,m,o):\n",
    "    rf = pickle.load(open('../data3/model/rf_{0}n_{1}m_{2}'.format(n,m,o.dt), 'rb'))\n",
    "    print('rf_{0}n_{1}m_{2}'.format(n,m,o.dt))\n",
    "    print('AUC :',rf.cv_results_['mean_test_AUC'])\n",
    "    print('Accuracy :',rf.cv_results_['mean_test_Accuracy'])\n",
    "    print('F-measure :',rf.cv_results_['mean_test_F-measure'])\n",
    "    print('Precision :',rf.cv_results_['mean_test_Precision'])\n",
    "    print('Recall :',rf.cv_results_['mean_test_Recall'])"
   ]
  },
  {
   "cell_type": "code",
   "execution_count": null,
   "metadata": {},
   "outputs": [],
   "source": []
  },
  {
   "cell_type": "code",
   "execution_count": 119,
   "metadata": {},
   "outputs": [
    {
     "name": "stdout",
     "output_type": "stream",
     "text": [
      "rf_100n_1000m_hasilsmote_1\n",
      "AUC : \n",
      "[0.9810828]\n",
      "Accuracy : \n",
      "[0.93956612]\n",
      "F-measure : \n",
      "[0.93612808]\n",
      "Precision : \n",
      "[0.94530839]\n",
      "Recall : \n",
      "[0.93259298]\n",
      "rf_100n_1000m_hasilsmote_2\n",
      "AUC : \n",
      "[0.98375491]\n",
      "Accuracy : \n",
      "[0.94292355]\n",
      "F-measure : \n",
      "[0.93930902]\n",
      "Precision : \n",
      "[0.95788422]\n",
      "Recall : \n",
      "[0.92691116]\n",
      "rf_100n_1000m_hasilsmote_3\n",
      "AUC : \n",
      "[0.98135091]\n",
      "Accuracy : \n",
      "[0.94266529]\n",
      "F-measure : \n",
      "[0.93942414]\n",
      "Precision : \n",
      "[0.95357436]\n",
      "Recall : \n",
      "[0.93001033]\n",
      "rf_100n_1000m_hasilsmote_4\n",
      "AUC : \n",
      "[0.98132323]\n",
      "Accuracy : \n",
      "[0.94124483]\n",
      "F-measure : \n",
      "[0.93786229]\n",
      "Precision : \n",
      "[0.94843416]\n",
      "Recall : \n",
      "[0.93259298]\n",
      "rf_100n_1000m_hasilsmote_5\n",
      "AUC : \n",
      "[0.98136758]\n",
      "Accuracy : \n",
      "[0.94008264]\n",
      "F-measure : \n",
      "[0.93725345]\n",
      "Precision : \n",
      "[0.94480344]\n",
      "Recall : \n",
      "[0.93543388]\n"
     ]
    }
   ],
   "source": [
    "print_cv_results(100,1000,df1)\n",
    "print_cv_results(100,1000,df2)\n",
    "print_cv_results(100,1000,df3)\n",
    "print_cv_results(100,1000,df4)\n",
    "print_cv_results(100,1000,df5)"
   ]
  },
  {
   "cell_type": "code",
   "execution_count": 120,
   "metadata": {},
   "outputs": [
    {
     "name": "stdout",
     "output_type": "stream",
     "text": [
      "rf_100n_2000m_hasilsmote_1\n",
      "AUC : \n",
      "[0.98395963]\n",
      "Accuracy : \n",
      "[0.94085744]\n",
      "F-measure : \n",
      "[0.9357606]\n",
      "Precision : \n",
      "[0.95099396]\n",
      "Recall : \n",
      "[0.9294938]\n",
      "rf_100n_2000m_hasilsmote_2\n",
      "AUC : \n",
      "[0.98572354]\n",
      "Accuracy : \n",
      "[0.94899277]\n",
      "F-measure : \n",
      "[0.94513875]\n",
      "Precision : \n",
      "[0.96013675]\n",
      "Recall : \n",
      "[0.93698347]\n",
      "rf_100n_2000m_hasilsmote_3\n",
      "AUC : \n",
      "[0.98237057]\n",
      "Accuracy : \n",
      "[0.94692665]\n",
      "F-measure : \n",
      "[0.94325587]\n",
      "Precision : \n",
      "[0.95594772]\n",
      "Recall : \n",
      "[0.93672521]\n",
      "rf_100n_2000m_hasilsmote_4\n",
      "AUC : \n",
      "[0.98383916]\n",
      "Accuracy : \n",
      "[0.94395661]\n",
      "F-measure : \n",
      "[0.93930826]\n",
      "Precision : \n",
      "[0.95482097]\n",
      "Recall : \n",
      "[0.93155992]\n",
      "rf_100n_2000m_hasilsmote_5\n",
      "AUC : \n",
      "[0.98485891]\n",
      "Accuracy : \n",
      "[0.94369835]\n",
      "F-measure : \n",
      "[0.93939525]\n",
      "Precision : \n",
      "[0.95598861]\n",
      "Recall : \n",
      "[0.93130165]\n"
     ]
    }
   ],
   "source": [
    "print_cv_results(100,2000,df1)\n",
    "print_cv_results(100,2000,df2)\n",
    "print_cv_results(100,2000,df3)\n",
    "print_cv_results(100,2000,df4)\n",
    "print_cv_results(100,2000,df5)"
   ]
  },
  {
   "cell_type": "code",
   "execution_count": 121,
   "metadata": {},
   "outputs": [
    {
     "name": "stdout",
     "output_type": "stream",
     "text": [
      "rf_100n_3000m_hasilsmote_1\n",
      "AUC : \n",
      "[0.98411358]\n",
      "Accuracy : \n",
      "[0.94447314]\n",
      "F-measure : \n",
      "[0.93866813]\n",
      "Precision : \n",
      "[0.95856471]\n",
      "Recall : \n",
      "[0.92871901]\n",
      "rf_100n_3000m_hasilsmote_2\n",
      "AUC : \n",
      "[0.98689083]\n",
      "Accuracy : \n",
      "[0.95170455]\n",
      "F-measure : \n",
      "[0.94709847]\n",
      "Precision : \n",
      "[0.96653533]\n",
      "Recall : \n",
      "[0.93595041]\n",
      "rf_100n_3000m_hasilsmote_3\n",
      "AUC : \n",
      "[0.98305558]\n",
      "Accuracy : \n",
      "[0.94537707]\n",
      "F-measure : \n",
      "[0.94075606]\n",
      "Precision : \n",
      "[0.95636201]\n",
      "Recall : \n",
      "[0.93285124]\n",
      "rf_100n_3000m_hasilsmote_4\n",
      "AUC : \n",
      "[0.9854953]\n",
      "Accuracy : \n",
      "[0.94770145]\n",
      "F-measure : \n",
      "[0.94196595]\n",
      "Precision : \n",
      "[0.96318143]\n",
      "Recall : \n",
      "[0.93052686]\n",
      "rf_100n_3000m_hasilsmote_5\n",
      "AUC : \n",
      "[0.98544027]\n",
      "Accuracy : \n",
      "[0.94486054]\n",
      "F-measure : \n",
      "[0.93925956]\n",
      "Precision : \n",
      "[0.96125704]\n",
      "Recall : \n",
      "[0.92846074]\n"
     ]
    }
   ],
   "source": [
    "print_cv_results(100,3000,df1)\n",
    "print_cv_results(100,3000,df2)\n",
    "print_cv_results(100,3000,df3)\n",
    "print_cv_results(100,3000,df4)\n",
    "print_cv_results(100,3000,df5)"
   ]
  },
  {
   "cell_type": "code",
   "execution_count": null,
   "metadata": {},
   "outputs": [],
   "source": [
    "#500n"
   ]
  },
  {
   "cell_type": "code",
   "execution_count": 16,
   "metadata": {},
   "outputs": [
    {
     "name": "stdout",
     "output_type": "stream",
     "text": [
      "rf_500n_1000m_hasilsmote_1\n",
      "AUC : \n",
      "[0.98147183]\n",
      "Accuracy : \n",
      "[0.94163223]\n",
      "F-measure : \n",
      "[0.93863991]\n",
      "Precision : \n",
      "[0.94542826]\n",
      "Recall : \n",
      "[0.93698347]\n",
      "rf_500n_1000m_hasilsmote_2\n",
      "AUC : \n",
      "[0.98470171]\n",
      "Accuracy : \n",
      "[0.94486054]\n",
      "F-measure : \n",
      "[0.94150758]\n",
      "Precision : \n",
      "[0.9561312]\n",
      "Recall : \n",
      "[0.93285124]\n",
      "rf_500n_1000m_hasilsmote_3\n",
      "AUC : \n",
      "[0.9818981]\n",
      "Accuracy : \n",
      "[0.94576446]\n",
      "F-measure : \n",
      "[0.9427903]\n",
      "Precision : \n",
      "[0.9552095]\n",
      "Recall : \n",
      "[0.93517562]\n",
      "rf_500n_1000m_hasilsmote_4\n",
      "AUC : \n",
      "[0.98167433]\n",
      "Accuracy : \n",
      "[0.94137397]\n",
      "F-measure : \n",
      "[0.93795796]\n",
      "Precision : \n",
      "[0.94809922]\n",
      "Recall : \n",
      "[0.9331095]\n",
      "rf_500n_1000m_hasilsmote_5\n",
      "AUC : \n",
      "[0.98220367]\n",
      "Accuracy : \n",
      "[0.94201963]\n",
      "F-measure : \n",
      "[0.93925998]\n",
      "Precision : \n",
      "[0.94678166]\n",
      "Recall : \n",
      "[0.93724174]\n"
     ]
    }
   ],
   "source": [
    "print_cv_results(500,1000,df1)\n",
    "print_cv_results(500,1000,df2)\n",
    "print_cv_results(500,1000,df3)\n",
    "print_cv_results(500,1000,df4)\n",
    "print_cv_results(500,1000,df5)"
   ]
  },
  {
   "cell_type": "code",
   "execution_count": 17,
   "metadata": {},
   "outputs": [
    {
     "name": "stdout",
     "output_type": "stream",
     "text": [
      "rf_500n_2000m_hasilsmote_1\n",
      "AUC : \n",
      "[0.98405898]\n",
      "Accuracy : \n",
      "[0.94331095]\n",
      "F-measure : \n",
      "[0.93877492]\n",
      "Precision : \n",
      "[0.95255019]\n",
      "Recall : \n",
      "[0.93285124]\n",
      "rf_500n_2000m_hasilsmote_2\n",
      "AUC : \n",
      "[0.98687298]\n",
      "Accuracy : \n",
      "[0.9495093]\n",
      "F-measure : \n",
      "[0.94551844]\n",
      "Precision : \n",
      "[0.96089926]\n",
      "Recall : \n",
      "[0.9375]\n",
      "rf_500n_2000m_hasilsmote_3\n",
      "AUC : \n",
      "[0.98340276]\n",
      "Accuracy : \n",
      "[0.94821798]\n",
      "F-measure : \n",
      "[0.94493067]\n",
      "Precision : \n",
      "[0.95598102]\n",
      "Recall : \n",
      "[0.93930785]\n",
      "rf_500n_2000m_hasilsmote_4\n",
      "AUC : \n",
      "[0.98372021]\n",
      "Accuracy : \n",
      "[0.9458936]\n",
      "F-measure : \n",
      "[0.94132348]\n",
      "Precision : \n",
      "[0.95618789]\n",
      "Recall : \n",
      "[0.9338843]\n",
      "rf_500n_2000m_hasilsmote_5\n",
      "AUC : \n",
      "[0.98476416]\n",
      "Accuracy : \n",
      "[0.9458936]\n",
      "F-measure : \n",
      "[0.94177648]\n",
      "Precision : \n",
      "[0.9566221]\n",
      "Recall : \n",
      "[0.93517562]\n"
     ]
    }
   ],
   "source": [
    "print_cv_results(500,2000,df1)\n",
    "print_cv_results(500,2000,df2)\n",
    "print_cv_results(500,2000,df3)\n",
    "print_cv_results(500,2000,df4)\n",
    "print_cv_results(500,2000,df5)"
   ]
  },
  {
   "cell_type": "code",
   "execution_count": 18,
   "metadata": {},
   "outputs": [
    {
     "name": "stdout",
     "output_type": "stream",
     "text": [
      "rf_500n_3000m_hasilsmote_1\n",
      "AUC : \n",
      "[0.98465306]\n",
      "Accuracy : \n",
      "[0.94615186]\n",
      "F-measure : \n",
      "[0.94033652]\n",
      "Precision : \n",
      "[0.95974146]\n",
      "Recall : \n",
      "[0.93078512]\n",
      "rf_500n_3000m_hasilsmote_2\n",
      "AUC : \n",
      "[0.98739115]\n",
      "Accuracy : \n",
      "[0.95157541]\n",
      "F-measure : \n",
      "[0.94698436]\n",
      "Precision : \n",
      "[0.9658243]\n",
      "Recall : \n",
      "[0.93646694]\n",
      "rf_500n_3000m_hasilsmote_3\n",
      "AUC : \n",
      "[0.98320611]\n",
      "Accuracy : \n",
      "[0.94692665]\n",
      "F-measure : \n",
      "[0.94211875]\n",
      "Precision : \n",
      "[0.95852267]\n",
      "Recall : \n",
      "[0.93362603]\n",
      "rf_500n_3000m_hasilsmote_4\n",
      "AUC : \n",
      "[0.98502981]\n",
      "Accuracy : \n",
      "[0.94886364]\n",
      "F-measure : \n",
      "[0.94341445]\n",
      "Precision : \n",
      "[0.96431217]\n",
      "Recall : \n",
      "[0.93207645]\n",
      "rf_500n_3000m_hasilsmote_5\n",
      "AUC : \n",
      "[0.98529475]\n",
      "Accuracy : \n",
      "[0.94395661]\n",
      "F-measure : \n",
      "[0.9382722]\n",
      "Precision : \n",
      "[0.96027855]\n",
      "Recall : \n",
      "[0.92768595]\n"
     ]
    }
   ],
   "source": [
    "print_cv_results(500,3000,df1)\n",
    "print_cv_results(500,3000,df2)\n",
    "print_cv_results(500,3000,df3)\n",
    "print_cv_results(500,3000,df4)\n",
    "print_cv_results(500,3000,df5)"
   ]
  },
  {
   "cell_type": "code",
   "execution_count": null,
   "metadata": {},
   "outputs": [],
   "source": []
  },
  {
   "cell_type": "code",
   "execution_count": 27,
   "metadata": {},
   "outputs": [
    {
     "name": "stdout",
     "output_type": "stream",
     "text": [
      "rf_300n_1000m_hasilsmote_1\n",
      "AUC : [0.98120402]\n",
      "Accuracy : [0.94059917]\n",
      "F-measure : [0.93752184]\n",
      "Precision : [0.94500829]\n",
      "Recall : [0.93517562]\n",
      "rf_300n_1000m_hasilsmote_2\n",
      "AUC : [0.98410388]\n",
      "Accuracy : [0.94395661]\n",
      "F-measure : [0.94088782]\n",
      "Precision : [0.95369562]\n",
      "Recall : [0.93336777]\n",
      "rf_300n_1000m_hasilsmote_3\n",
      "AUC : [0.98162226]\n",
      "Accuracy : [0.94576446]\n",
      "F-measure : [0.94287788]\n",
      "Precision : [0.95560493]\n",
      "Recall : [0.93465909]\n",
      "rf_300n_1000m_hasilsmote_4\n",
      "AUC : [0.98167743]\n",
      "Accuracy : [0.94266529]\n",
      "F-measure : [0.93945147]\n",
      "Precision : [0.94971889]\n",
      "Recall : [0.93414256]\n",
      "rf_300n_1000m_hasilsmote_5\n",
      "AUC : [0.98259717]\n",
      "Accuracy : [0.9415031]\n",
      "F-measure : [0.93854936]\n",
      "Precision : [0.9482732]\n",
      "Recall : [0.93491736]\n"
     ]
    }
   ],
   "source": [
    "print_cv_results(300,1000,df1)\n",
    "print_cv_results(300,1000,df2)\n",
    "print_cv_results(300,1000,df3)\n",
    "print_cv_results(300,1000,df4)\n",
    "print_cv_results(300,1000,df5)"
   ]
  },
  {
   "cell_type": "code",
   "execution_count": 28,
   "metadata": {},
   "outputs": [
    {
     "name": "stdout",
     "output_type": "stream",
     "text": [
      "rf_300n_2000m_hasilsmote_1\n",
      "AUC : [0.98373448]\n",
      "Accuracy : [0.94434401]\n",
      "F-measure : [0.93953597]\n",
      "Precision : [0.95540913]\n",
      "Recall : [0.93181818]\n",
      "rf_300n_2000m_hasilsmote_2\n",
      "AUC : [0.98671772]\n",
      "Accuracy : [0.95041322]\n",
      "F-measure : [0.94656373]\n",
      "Precision : [0.96210169]\n",
      "Recall : [0.93801653]\n",
      "rf_300n_2000m_hasilsmote_3\n",
      "AUC : [0.9837412]\n",
      "Accuracy : [0.94847624]\n",
      "F-measure : [0.94470895]\n",
      "Precision : [0.95851316]\n",
      "Recall : [0.93724174]\n",
      "rf_300n_2000m_hasilsmote_4\n",
      "AUC : [0.98396295]\n",
      "Accuracy : [0.94744318]\n",
      "F-measure : [0.94299574]\n",
      "Precision : [0.95876207]\n",
      "Recall : [0.93465909]\n",
      "rf_300n_2000m_hasilsmote_5\n",
      "AUC : [0.98477419]\n",
      "Accuracy : [0.94524793]\n",
      "F-measure : [0.94097349]\n",
      "Precision : [0.95722798]\n",
      "Recall : [0.93336777]\n"
     ]
    }
   ],
   "source": [
    "print_cv_results(300,2000,df1)\n",
    "print_cv_results(300,2000,df2)\n",
    "print_cv_results(300,2000,df3)\n",
    "print_cv_results(300,2000,df4)\n",
    "print_cv_results(300,2000,df5)"
   ]
  },
  {
   "cell_type": "code",
   "execution_count": 29,
   "metadata": {},
   "outputs": [
    {
     "name": "stdout",
     "output_type": "stream",
     "text": [
      "rf_300n_3000m_hasilsmote_1\n",
      "AUC : [0.98465249]\n",
      "Accuracy : [0.94486054]\n",
      "F-measure : [0.9392457]\n",
      "Precision : [0.95760218]\n",
      "Recall : [0.93052686]\n",
      "rf_300n_3000m_hasilsmote_2\n",
      "AUC : [0.98783282]\n",
      "Accuracy : [0.95015496]\n",
      "F-measure : [0.94547549]\n",
      "Precision : [0.9651667]\n",
      "Recall : [0.93414256]\n",
      "rf_300n_3000m_hasilsmote_3\n",
      "AUC : [0.98369953]\n",
      "Accuracy : [0.94615186]\n",
      "F-measure : [0.94145933]\n",
      "Precision : [0.95727016]\n",
      "Recall : [0.93362603]\n",
      "rf_300n_3000m_hasilsmote_4\n",
      "AUC : [0.98543815]\n",
      "Accuracy : [0.94757231]\n",
      "F-measure : [0.94210298]\n",
      "Precision : [0.96259086]\n",
      "Recall : [0.93130165]\n",
      "rf_300n_3000m_hasilsmote_5\n",
      "AUC : [0.98479568]\n",
      "Accuracy : [0.94356921]\n",
      "F-measure : [0.93776124]\n",
      "Precision : [0.96070927]\n",
      "Recall : [0.92639463]\n"
     ]
    }
   ],
   "source": [
    "print_cv_results(300,3000,df1)\n",
    "print_cv_results(300,3000,df2)\n",
    "print_cv_results(300,3000,df3)\n",
    "print_cv_results(300,3000,df4)\n",
    "print_cv_results(300,3000,df5)"
   ]
  },
  {
   "cell_type": "code",
   "execution_count": null,
   "metadata": {},
   "outputs": [],
   "source": []
  },
  {
   "cell_type": "code",
   "execution_count": 9,
   "metadata": {},
   "outputs": [],
   "source": [
    "rf1 = pickle.load(open('../data3/model/rf_500n_3000m_hasilsmote_1', 'rb'))\n",
    "rf2 = pickle.load(open('../data3/model/rf_100n_3000m_hasilsmote_2', 'rb'))\n",
    "rf3 = pickle.load(open('../data3/model/rf_500n_2000m_hasilsmote_3', 'rb'))\n",
    "rf4 = pickle.load(open('../data3/model/rf_500n_3000m_hasilsmote_4', 'rb'))\n",
    "rf5 = pickle.load(open('../data3/model/rf_500n_2000m_hasilsmote_5', 'rb'))"
   ]
  },
  {
   "cell_type": "code",
   "execution_count": 8,
   "metadata": {},
   "outputs": [],
   "source": [
    "from sklearn.ensemble import VotingClassifier\n",
    "from sklearn.model_selection import cross_val_score\n",
    "from sklearn.preprocessing import LabelEncoder"
   ]
  },
  {
   "cell_type": "code",
   "execution_count": 19,
   "metadata": {},
   "outputs": [
    {
     "data": {
      "text/html": [
       "<div>\n",
       "<style scoped>\n",
       "    .dataframe tbody tr th:only-of-type {\n",
       "        vertical-align: middle;\n",
       "    }\n",
       "\n",
       "    .dataframe tbody tr th {\n",
       "        vertical-align: top;\n",
       "    }\n",
       "\n",
       "    .dataframe thead th {\n",
       "        text-align: right;\n",
       "    }\n",
       "</style>\n",
       "<table border=\"1\" class=\"dataframe\">\n",
       "  <thead>\n",
       "    <tr style=\"text-align: right;\">\n",
       "      <th></th>\n",
       "      <th>1</th>\n",
       "      <th>2</th>\n",
       "      <th>3</th>\n",
       "      <th>4</th>\n",
       "      <th>5</th>\n",
       "      <th>6</th>\n",
       "      <th>7</th>\n",
       "      <th>8</th>\n",
       "      <th>9</th>\n",
       "      <th>10</th>\n",
       "      <th>...</th>\n",
       "      <th>1272</th>\n",
       "      <th>1273</th>\n",
       "      <th>1274</th>\n",
       "      <th>1275</th>\n",
       "      <th>1276</th>\n",
       "      <th>1277</th>\n",
       "      <th>1278</th>\n",
       "      <th>1279</th>\n",
       "      <th>1280</th>\n",
       "      <th>1281</th>\n",
       "    </tr>\n",
       "  </thead>\n",
       "  <tbody>\n",
       "    <tr>\n",
       "      <th>4552</th>\n",
       "      <td>1.0</td>\n",
       "      <td>1.0</td>\n",
       "      <td>1.0</td>\n",
       "      <td>0.0</td>\n",
       "      <td>0.0</td>\n",
       "      <td>0.0</td>\n",
       "      <td>0.0</td>\n",
       "      <td>0.0</td>\n",
       "      <td>0.0</td>\n",
       "      <td>1.0</td>\n",
       "      <td>...</td>\n",
       "      <td>0.138955</td>\n",
       "      <td>0.102138</td>\n",
       "      <td>0.140143</td>\n",
       "      <td>0.000000</td>\n",
       "      <td>0.047506</td>\n",
       "      <td>0.085511</td>\n",
       "      <td>0.349169</td>\n",
       "      <td>0.000000</td>\n",
       "      <td>0.264846</td>\n",
       "      <td>0.076010</td>\n",
       "    </tr>\n",
       "    <tr>\n",
       "      <th>4553</th>\n",
       "      <td>0.0</td>\n",
       "      <td>0.0</td>\n",
       "      <td>0.0</td>\n",
       "      <td>0.0</td>\n",
       "      <td>0.0</td>\n",
       "      <td>0.0</td>\n",
       "      <td>0.0</td>\n",
       "      <td>0.0</td>\n",
       "      <td>0.0</td>\n",
       "      <td>0.0</td>\n",
       "      <td>...</td>\n",
       "      <td>0.000000</td>\n",
       "      <td>0.184748</td>\n",
       "      <td>0.190118</td>\n",
       "      <td>0.122449</td>\n",
       "      <td>0.085929</td>\n",
       "      <td>0.058002</td>\n",
       "      <td>0.157895</td>\n",
       "      <td>0.367347</td>\n",
       "      <td>0.239527</td>\n",
       "      <td>0.137487</td>\n",
       "    </tr>\n",
       "    <tr>\n",
       "      <th>4554</th>\n",
       "      <td>0.0</td>\n",
       "      <td>0.0</td>\n",
       "      <td>0.0</td>\n",
       "      <td>0.0</td>\n",
       "      <td>0.0</td>\n",
       "      <td>0.0</td>\n",
       "      <td>0.0</td>\n",
       "      <td>0.0</td>\n",
       "      <td>0.0</td>\n",
       "      <td>0.0</td>\n",
       "      <td>...</td>\n",
       "      <td>0.022210</td>\n",
       "      <td>0.088155</td>\n",
       "      <td>0.067198</td>\n",
       "      <td>0.051936</td>\n",
       "      <td>0.031891</td>\n",
       "      <td>0.053303</td>\n",
       "      <td>0.223235</td>\n",
       "      <td>0.493394</td>\n",
       "      <td>0.025399</td>\n",
       "      <td>0.065604</td>\n",
       "    </tr>\n",
       "    <tr>\n",
       "      <th>4555</th>\n",
       "      <td>0.0</td>\n",
       "      <td>0.0</td>\n",
       "      <td>0.0</td>\n",
       "      <td>0.0</td>\n",
       "      <td>0.0</td>\n",
       "      <td>0.0</td>\n",
       "      <td>0.0</td>\n",
       "      <td>0.0</td>\n",
       "      <td>0.0</td>\n",
       "      <td>0.0</td>\n",
       "      <td>...</td>\n",
       "      <td>0.124204</td>\n",
       "      <td>0.000000</td>\n",
       "      <td>0.187898</td>\n",
       "      <td>0.181529</td>\n",
       "      <td>0.063694</td>\n",
       "      <td>0.000000</td>\n",
       "      <td>0.312102</td>\n",
       "      <td>0.363057</td>\n",
       "      <td>0.000000</td>\n",
       "      <td>0.203822</td>\n",
       "    </tr>\n",
       "    <tr>\n",
       "      <th>4556</th>\n",
       "      <td>0.0</td>\n",
       "      <td>0.0</td>\n",
       "      <td>0.0</td>\n",
       "      <td>0.0</td>\n",
       "      <td>0.0</td>\n",
       "      <td>0.0</td>\n",
       "      <td>0.0</td>\n",
       "      <td>0.0</td>\n",
       "      <td>1.0</td>\n",
       "      <td>1.0</td>\n",
       "      <td>...</td>\n",
       "      <td>0.085060</td>\n",
       "      <td>0.140676</td>\n",
       "      <td>0.064340</td>\n",
       "      <td>0.124318</td>\n",
       "      <td>0.130861</td>\n",
       "      <td>0.137405</td>\n",
       "      <td>0.748092</td>\n",
       "      <td>0.248637</td>\n",
       "      <td>0.121592</td>\n",
       "      <td>0.139586</td>\n",
       "    </tr>\n",
       "  </tbody>\n",
       "</table>\n",
       "<p>5 rows × 1281 columns</p>\n",
       "</div>"
      ],
      "text/plain": [
       "        1    2    3    4    5    6    7    8    9   10  ...      1272  \\\n",
       "4552  1.0  1.0  1.0  0.0  0.0  0.0  0.0  0.0  0.0  1.0  ...  0.138955   \n",
       "4553  0.0  0.0  0.0  0.0  0.0  0.0  0.0  0.0  0.0  0.0  ...  0.000000   \n",
       "4554  0.0  0.0  0.0  0.0  0.0  0.0  0.0  0.0  0.0  0.0  ...  0.022210   \n",
       "4555  0.0  0.0  0.0  0.0  0.0  0.0  0.0  0.0  0.0  0.0  ...  0.124204   \n",
       "4556  0.0  0.0  0.0  0.0  0.0  0.0  0.0  0.0  1.0  1.0  ...  0.085060   \n",
       "\n",
       "          1273      1274      1275      1276      1277      1278      1279  \\\n",
       "4552  0.102138  0.140143  0.000000  0.047506  0.085511  0.349169  0.000000   \n",
       "4553  0.184748  0.190118  0.122449  0.085929  0.058002  0.157895  0.367347   \n",
       "4554  0.088155  0.067198  0.051936  0.031891  0.053303  0.223235  0.493394   \n",
       "4555  0.000000  0.187898  0.181529  0.063694  0.000000  0.312102  0.363057   \n",
       "4556  0.140676  0.064340  0.124318  0.130861  0.137405  0.748092  0.248637   \n",
       "\n",
       "          1280      1281  \n",
       "4552  0.264846  0.076010  \n",
       "4553  0.239527  0.137487  \n",
       "4554  0.025399  0.065604  \n",
       "4555  0.000000  0.203822  \n",
       "4556  0.121592  0.139586  \n",
       "\n",
       "[5 rows x 1281 columns]"
      ]
     },
     "execution_count": 19,
     "metadata": {},
     "output_type": "execute_result"
    }
   ],
   "source": [
    "df.X.tail()"
   ]
  },
  {
   "cell_type": "code",
   "execution_count": 24,
   "metadata": {},
   "outputs": [],
   "source": [
    "#ens_grid={'voting':['soft','hard']}\n",
    "#[rf1,rf2,rf3,rf4,rf5]\n",
    "ens = VotingClassifier(estimators=[('rf1', rf1), ('rf2', rf2), ('rf3', rf3),('rf4', rf4), ('rf5', rf5)], voting='hard')# refit=False)\n",
    "#ens = GridSearchCV(ens, ens_grid, n_jobs=-1, cv=5,scoring=scoring, refit='AUC',return_train_score=True)\n",
    "ens=ens.fit(df.X,df.Y)"
   ]
  },
  {
   "cell_type": "code",
   "execution_count": null,
   "metadata": {},
   "outputs": [],
   "source": [
    "y_predict1 = ens.predict(dtf.x)\n",
    "tn1,fn1,fp1,tp1=confusion_matrix(dtf.y, y_predict1).ravel()\n",
    "print (tn1,fn1)\n",
    "print (fp1,tp1)"
   ]
  },
  {
   "cell_type": "code",
   "execution_count": null,
   "metadata": {},
   "outputs": [],
   "source": [
    "y_predict2 = ens.predict(dtl.x)\n",
    "tn2,fn2,fp2,tp2=confusion_matrix(dtl.y, y_predict2).ravel()\n",
    "print (tn2,fn2)\n",
    "print (fp2,tp2)"
   ]
  },
  {
   "cell_type": "code",
   "execution_count": null,
   "metadata": {},
   "outputs": [],
   "source": [
    "from sklearn import metrics"
   ]
  },
  {
   "cell_type": "code",
   "execution_count": null,
   "metadata": {},
   "outputs": [],
   "source": [
    "akurasi1= metrics.accuracy_score(dtf.y, y_predict1)\n",
    "auc1 = metrics.roc_auc_score(dtf.y, y_predict1)\n",
    "presisi1 =metrics.precision_score(dtf.y, y_predict1)\n",
    "recall1 =metrics.recall_score(dtf.y, y_predict1)\n",
    "f11 =metrics.f1_score(dtf.y, y_predict1)\n",
    "print(\"acc:\",akurasi1)\n",
    "print(\"auc:\",auc1)\n",
    "print(\"prec:\",presisi1)\n",
    "print(\"recc:\",recall1)\n",
    "print(\"f1:\",f11)"
   ]
  },
  {
   "cell_type": "code",
   "execution_count": null,
   "metadata": {},
   "outputs": [],
   "source": [
    "akurasi2= metrics.accuracy_score(dtl.y, y_predict1)\n",
    "auc2 = metrics.roc_auc_score(dtl.y, y_predict1)\n",
    "presisi2 =metrics.precision_score(dtl.y, y_predict1)\n",
    "recall2 =metrics.recall_score(dtl.y, y_predict1)\n",
    "f12 =metrics.f1_score(dtl.y, y_predict1)\n",
    "print(\"acc:\",akurasi2)\n",
    "print(\"auc:\",auc2)\n",
    "print(\"prec:\",presisi2)\n",
    "print(\"recc:\",recall2)\n",
    "print(\"f1:\",f12)"
   ]
  },
  {
   "cell_type": "code",
   "execution_count": 39,
   "metadata": {},
   "outputs": [],
   "source": [
    "#ens_grid={'voting':['soft','hard']}\n",
    "#[rf1,rf2,rf3,rf4,rf5]\n",
    "ens2 = VotingClassifier(estimators=[('rf1', rf1), ('rf2', rf2), ('rf3', rf3),('rf4', rf4), ('rf5', rf5)], voting='soft')# refit=False)\n",
    "#ens = GridSearchCV(ens, ens_grid, n_jobs=-1, cv=5,scoring=scoring, refit='AUC',return_train_score=True)\n",
    "ens2=ens2.fit(df.X,df.Y)"
   ]
  },
  {
   "cell_type": "code",
   "execution_count": 40,
   "metadata": {},
   "outputs": [
    {
     "name": "stdout",
     "output_type": "stream",
     "text": [
      "105 135\n",
      "0 0\n"
     ]
    }
   ],
   "source": [
    "y_predict1 = ens2.predict(dtf.x)\n",
    "tn1,fn1,fp1,tp1=confusion_matrix(dtf.y, y_predict1).ravel()\n",
    "print (tn1,fn1)\n",
    "print (fp1,tp1)"
   ]
  },
  {
   "cell_type": "code",
   "execution_count": 41,
   "metadata": {},
   "outputs": [
    {
     "name": "stdout",
     "output_type": "stream",
     "text": [
      "1484 1564\n",
      "0 0\n"
     ]
    }
   ],
   "source": [
    "y_predict2 = ens2.predict(dtl.x)\n",
    "tn2,fn2,fp2,tp2=confusion_matrix(dtl.y, y_predict2).ravel()\n",
    "print (tn2,fn2)\n",
    "print (fp2,tp2)"
   ]
  },
  {
   "cell_type": "code",
   "execution_count": 42,
   "metadata": {},
   "outputs": [],
   "source": [
    "from sklearn import metrics"
   ]
  },
  {
   "cell_type": "code",
   "execution_count": 43,
   "metadata": {},
   "outputs": [
    {
     "ename": "ValueError",
     "evalue": "Only one class present in y_true. ROC AUC score is not defined in that case.",
     "output_type": "error",
     "traceback": [
      "\u001b[1;31m---------------------------------------------------------------------------\u001b[0m",
      "\u001b[1;31mValueError\u001b[0m                                Traceback (most recent call last)",
      "\u001b[1;32m<ipython-input-43-771600eecbce>\u001b[0m in \u001b[0;36m<module>\u001b[1;34m\u001b[0m\n\u001b[0;32m      1\u001b[0m \u001b[0makurasi1\u001b[0m\u001b[1;33m=\u001b[0m \u001b[0mmetrics\u001b[0m\u001b[1;33m.\u001b[0m\u001b[0maccuracy_score\u001b[0m\u001b[1;33m(\u001b[0m\u001b[0mdtf\u001b[0m\u001b[1;33m.\u001b[0m\u001b[0my\u001b[0m\u001b[1;33m,\u001b[0m \u001b[0my_predict1\u001b[0m\u001b[1;33m)\u001b[0m\u001b[1;33m\u001b[0m\u001b[1;33m\u001b[0m\u001b[0m\n\u001b[1;32m----> 2\u001b[1;33m \u001b[0mauc1\u001b[0m \u001b[1;33m=\u001b[0m \u001b[0mmetrics\u001b[0m\u001b[1;33m.\u001b[0m\u001b[0mroc_auc_score\u001b[0m\u001b[1;33m(\u001b[0m\u001b[0mdtf\u001b[0m\u001b[1;33m.\u001b[0m\u001b[0my\u001b[0m\u001b[1;33m,\u001b[0m \u001b[0my_predict1\u001b[0m\u001b[1;33m)\u001b[0m\u001b[1;33m\u001b[0m\u001b[1;33m\u001b[0m\u001b[0m\n\u001b[0m\u001b[0;32m      3\u001b[0m \u001b[0mpresisi1\u001b[0m \u001b[1;33m=\u001b[0m\u001b[0mmetrics\u001b[0m\u001b[1;33m.\u001b[0m\u001b[0mprecision_score\u001b[0m\u001b[1;33m(\u001b[0m\u001b[0mdtf\u001b[0m\u001b[1;33m.\u001b[0m\u001b[0my\u001b[0m\u001b[1;33m,\u001b[0m \u001b[0my_predict1\u001b[0m\u001b[1;33m)\u001b[0m\u001b[1;33m\u001b[0m\u001b[1;33m\u001b[0m\u001b[0m\n\u001b[0;32m      4\u001b[0m \u001b[0mrecall1\u001b[0m \u001b[1;33m=\u001b[0m\u001b[0mmetrics\u001b[0m\u001b[1;33m.\u001b[0m\u001b[0mrecall_score\u001b[0m\u001b[1;33m(\u001b[0m\u001b[0mdtf\u001b[0m\u001b[1;33m.\u001b[0m\u001b[0my\u001b[0m\u001b[1;33m,\u001b[0m \u001b[0my_predict1\u001b[0m\u001b[1;33m)\u001b[0m\u001b[1;33m\u001b[0m\u001b[1;33m\u001b[0m\u001b[0m\n\u001b[0;32m      5\u001b[0m \u001b[0mf11\u001b[0m \u001b[1;33m=\u001b[0m\u001b[0mmetrics\u001b[0m\u001b[1;33m.\u001b[0m\u001b[0mf1_score\u001b[0m\u001b[1;33m(\u001b[0m\u001b[0mdtf\u001b[0m\u001b[1;33m.\u001b[0m\u001b[0my\u001b[0m\u001b[1;33m,\u001b[0m \u001b[0my_predict1\u001b[0m\u001b[1;33m)\u001b[0m\u001b[1;33m\u001b[0m\u001b[1;33m\u001b[0m\u001b[0m\n",
      "\u001b[1;32mD:\\Anaconda3\\lib\\site-packages\\sklearn\\metrics\\ranking.py\u001b[0m in \u001b[0;36mroc_auc_score\u001b[1;34m(y_true, y_score, average, sample_weight, max_fpr)\u001b[0m\n\u001b[0;32m    353\u001b[0m     return _average_binary_score(\n\u001b[0;32m    354\u001b[0m         \u001b[0m_binary_roc_auc_score\u001b[0m\u001b[1;33m,\u001b[0m \u001b[0my_true\u001b[0m\u001b[1;33m,\u001b[0m \u001b[0my_score\u001b[0m\u001b[1;33m,\u001b[0m \u001b[0maverage\u001b[0m\u001b[1;33m,\u001b[0m\u001b[1;33m\u001b[0m\u001b[1;33m\u001b[0m\u001b[0m\n\u001b[1;32m--> 355\u001b[1;33m         sample_weight=sample_weight)\n\u001b[0m\u001b[0;32m    356\u001b[0m \u001b[1;33m\u001b[0m\u001b[0m\n\u001b[0;32m    357\u001b[0m \u001b[1;33m\u001b[0m\u001b[0m\n",
      "\u001b[1;32mD:\\Anaconda3\\lib\\site-packages\\sklearn\\metrics\\base.py\u001b[0m in \u001b[0;36m_average_binary_score\u001b[1;34m(binary_metric, y_true, y_score, average, sample_weight)\u001b[0m\n\u001b[0;32m     74\u001b[0m \u001b[1;33m\u001b[0m\u001b[0m\n\u001b[0;32m     75\u001b[0m     \u001b[1;32mif\u001b[0m \u001b[0my_type\u001b[0m \u001b[1;33m==\u001b[0m \u001b[1;34m\"binary\"\u001b[0m\u001b[1;33m:\u001b[0m\u001b[1;33m\u001b[0m\u001b[1;33m\u001b[0m\u001b[0m\n\u001b[1;32m---> 76\u001b[1;33m         \u001b[1;32mreturn\u001b[0m \u001b[0mbinary_metric\u001b[0m\u001b[1;33m(\u001b[0m\u001b[0my_true\u001b[0m\u001b[1;33m,\u001b[0m \u001b[0my_score\u001b[0m\u001b[1;33m,\u001b[0m \u001b[0msample_weight\u001b[0m\u001b[1;33m=\u001b[0m\u001b[0msample_weight\u001b[0m\u001b[1;33m)\u001b[0m\u001b[1;33m\u001b[0m\u001b[1;33m\u001b[0m\u001b[0m\n\u001b[0m\u001b[0;32m     77\u001b[0m \u001b[1;33m\u001b[0m\u001b[0m\n\u001b[0;32m     78\u001b[0m     \u001b[0mcheck_consistent_length\u001b[0m\u001b[1;33m(\u001b[0m\u001b[0my_true\u001b[0m\u001b[1;33m,\u001b[0m \u001b[0my_score\u001b[0m\u001b[1;33m,\u001b[0m \u001b[0msample_weight\u001b[0m\u001b[1;33m)\u001b[0m\u001b[1;33m\u001b[0m\u001b[1;33m\u001b[0m\u001b[0m\n",
      "\u001b[1;32mD:\\Anaconda3\\lib\\site-packages\\sklearn\\metrics\\ranking.py\u001b[0m in \u001b[0;36m_binary_roc_auc_score\u001b[1;34m(y_true, y_score, sample_weight)\u001b[0m\n\u001b[0;32m    321\u001b[0m     \u001b[1;32mdef\u001b[0m \u001b[0m_binary_roc_auc_score\u001b[0m\u001b[1;33m(\u001b[0m\u001b[0my_true\u001b[0m\u001b[1;33m,\u001b[0m \u001b[0my_score\u001b[0m\u001b[1;33m,\u001b[0m \u001b[0msample_weight\u001b[0m\u001b[1;33m=\u001b[0m\u001b[1;32mNone\u001b[0m\u001b[1;33m)\u001b[0m\u001b[1;33m:\u001b[0m\u001b[1;33m\u001b[0m\u001b[1;33m\u001b[0m\u001b[0m\n\u001b[0;32m    322\u001b[0m         \u001b[1;32mif\u001b[0m \u001b[0mlen\u001b[0m\u001b[1;33m(\u001b[0m\u001b[0mnp\u001b[0m\u001b[1;33m.\u001b[0m\u001b[0munique\u001b[0m\u001b[1;33m(\u001b[0m\u001b[0my_true\u001b[0m\u001b[1;33m)\u001b[0m\u001b[1;33m)\u001b[0m \u001b[1;33m!=\u001b[0m \u001b[1;36m2\u001b[0m\u001b[1;33m:\u001b[0m\u001b[1;33m\u001b[0m\u001b[1;33m\u001b[0m\u001b[0m\n\u001b[1;32m--> 323\u001b[1;33m             raise ValueError(\"Only one class present in y_true. ROC AUC score \"\n\u001b[0m\u001b[0;32m    324\u001b[0m                              \"is not defined in that case.\")\n\u001b[0;32m    325\u001b[0m \u001b[1;33m\u001b[0m\u001b[0m\n",
      "\u001b[1;31mValueError\u001b[0m: Only one class present in y_true. ROC AUC score is not defined in that case."
     ]
    }
   ],
   "source": [
    "akurasi1= metrics.accuracy_score(dtf.y, y_predict1)\n",
    "auc1 = metrics.roc_auc_score(dtf.y, y_predict1)\n",
    "presisi1 =metrics.precision_score(dtf.y, y_predict1)\n",
    "recall1 =metrics.recall_score(dtf.y, y_predict1)\n",
    "f11 =metrics.f1_score(dtf.y, y_predict1)\n",
    "print(\"acc:\",akurasi1)\n",
    "print(\"auc:\",auc1)\n",
    "print(\"prec:\",presisi1)\n",
    "print(\"recc:\",recall1)\n",
    "print(\"f1:\",f11)"
   ]
  },
  {
   "cell_type": "code",
   "execution_count": null,
   "metadata": {},
   "outputs": [],
   "source": [
    "akurasi2= metrics.accuracy_score(dtl.y, y_predict1)\n",
    "auc2 = metrics.roc_auc_score(dtl.y, y_predict1)\n",
    "presisi2 =metrics.precision_score(dtl.y, y_predict1)\n",
    "recall2 =metrics.recall_score(dtl.y, y_predict1)\n",
    "f12 =metrics.f1_score(dtl.y, y_predict1)\n",
    "print(\"acc:\",akurasi2)\n",
    "print(\"auc:\",auc2)\n",
    "print(\"prec:\",presisi2)\n",
    "print(\"recc:\",recall2)\n",
    "print(\"f1:\",f12)"
   ]
  },
  {
   "cell_type": "code",
   "execution_count": null,
   "metadata": {},
   "outputs": [],
   "source": []
  },
  {
   "cell_type": "code",
   "execution_count": null,
   "metadata": {},
   "outputs": [],
   "source": []
  },
  {
   "cell_type": "code",
   "execution_count": null,
   "metadata": {},
   "outputs": [],
   "source": [
    "import pandas as pd\n",
    "from sklearn import linear_model\n",
    "from sklearn.ensemble import VotingClassifier\n",
    "from sklearn.feature_extraction.text import CountVectorizer, TfidfVectorizer\n",
    "\n",
    "from sklearn.naive_bayes import MultinomialNB\n",
    "from sklearn.pipeline import Pipeline\n",
    "\n",
    "Y_COLUMN = \"author\"\n",
    "TEXT_COLUMN = \"text\"\n",
    "\n",
    "\n",
    "classifiers = [\n",
    "    ('rf1', rf1), ('rf2', rf2), ('rf3', rf3),('rf4', rf4), ('rf5', rf5),\n",
    "]\n",
    "\n",
    "mixed_pipe = Pipeline([\n",
    "    (\"voting\", VotingClassifier(classifiers, voting=\"soft\"))\n",
    "])"
   ]
  },
  {
   "cell_type": "code",
   "execution_count": null,
   "metadata": {},
   "outputs": [],
   "source": [
    "from sklearn.model_selection import GridSearchCV\n",
    "\n",
    "\n",
    "param_grid = dict(\n",
    "    voting__weights=[1,1,1,1]\n",
    ")\n",
    "\n",
    "\n",
    "grid_search = GridSearchCV(mixed_pipe, param_grid=param_grid, n_jobs=-1, verbose=10, scoring=\"neg_log_loss\")\n",
    "\n",
    "grid_search.fit(df.X, df.Y)\n",
    "\n",
    "cv_results = grid_search.cv_results_\n",
    "\n",
    "for mean_score, params in zip(cv_results[\"mean_test_score\"], cv_results[\"params\"]):\n",
    "    print(params, mean_score)\n",
    "\n",
    "print(\"Best score: %0.3f\" % grid_search.best_score_)\n",
    "print(\"Best parameters set:\")\n",
    "best_parameters = grid_search.best_estimator_.get_params()\n",
    "for param_name in sorted(param_grid.keys()):\n",
    "    print(\"\\t%s: %r\" % (param_name, best_parameters[param_name]))"
   ]
  },
  {
   "cell_type": "code",
   "execution_count": null,
   "metadata": {},
   "outputs": [],
   "source": []
  },
  {
   "cell_type": "code",
   "execution_count": null,
   "metadata": {},
   "outputs": [],
   "source": []
  },
  {
   "cell_type": "code",
   "execution_count": null,
   "metadata": {},
   "outputs": [],
   "source": []
  },
  {
   "cell_type": "code",
   "execution_count": null,
   "metadata": {},
   "outputs": [],
   "source": []
  },
  {
   "cell_type": "code",
   "execution_count": null,
   "metadata": {},
   "outputs": [],
   "source": []
  },
  {
   "cell_type": "code",
   "execution_count": null,
   "metadata": {},
   "outputs": [],
   "source": []
  },
  {
   "cell_type": "code",
   "execution_count": 65,
   "metadata": {},
   "outputs": [],
   "source": []
  },
  {
   "cell_type": "code",
   "execution_count": null,
   "metadata": {},
   "outputs": [],
   "source": []
  }
 ],
 "metadata": {
  "kernelspec": {
   "display_name": "Python 3",
   "language": "python",
   "name": "python3"
  },
  "language_info": {
   "codemirror_mode": {
    "name": "ipython",
    "version": 3
   },
   "file_extension": ".py",
   "mimetype": "text/x-python",
   "name": "python",
   "nbconvert_exporter": "python",
   "pygments_lexer": "ipython3",
   "version": "3.7.3"
  }
 },
 "nbformat": 4,
 "nbformat_minor": 4
}
