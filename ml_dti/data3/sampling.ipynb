{
 "cells": [
  {
   "cell_type": "code",
   "execution_count": null,
   "metadata": {},
   "outputs": [],
   "source": [
    "latih_parted_%s.csv"
   ]
  },
  {
   "cell_type": "code",
   "execution_count": 72,
   "metadata": {},
   "outputs": [],
   "source": [
    "import pandas as pd\n",
    "import numpy as np\n",
    "import joblib\n",
    "from imblearn.over_sampling import SMOTENC\n",
    "import collections as co"
   ]
  },
  {
   "cell_type": "code",
   "execution_count": 70,
   "metadata": {},
   "outputs": [],
   "source": [
    "# For 0, 1 smote\n",
    "binf=[]\n",
    "for i in range(0,881):\n",
    "    binf.append(i)"
   ]
  },
  {
   "cell_type": "code",
   "execution_count": 83,
   "metadata": {},
   "outputs": [],
   "source": [
    "def do_smote(seed):\n",
    "    df = pd.read_csv(\"latih_parted_%d.csv\"%seed, delimiter=',')\n",
    "    X = df.drop(['0','1282','label'], axis=1)\n",
    "    Y = df['label']\n",
    "    X=X.rename(columns={x:y for x,y in zip(X.columns,range(0,len(X.columns)-1))})\n",
    "    X.head()\n",
    "    smote_nc = SMOTENC(random_state=seed,categorical_features=binf)\n",
    "    X_resampled, y_resampled = smote_nc.fit_resample(X, Y)\n",
    "    new_x=pd.DataFrame(X_resampled)\n",
    "    new_y=pd.DataFrame(y_resampled)\n",
    "    new_y.columns=['label']\n",
    "    new_ = pd.concat([new_x, new_y], axis=1)\n",
    "    new_.to_csv(\"hasilsmote_%d.csv\"%seed,index=False)"
   ]
  },
  {
   "cell_type": "code",
   "execution_count": 84,
   "metadata": {},
   "outputs": [
    {
     "name": "stderr",
     "output_type": "stream",
     "text": [
      "D:\\Anaconda3\\lib\\site-packages\\IPython\\core\\interactiveshell.py:3248: DtypeWarning: Columns (0) have mixed types. Specify dtype option on import or set low_memory=False.\n",
      "  if (await self.run_code(code, result,  async_=asy)):\n"
     ]
    }
   ],
   "source": [
    "do_smote(1)\n",
    "do_smote(2)\n",
    "do_smote(3)\n",
    "do_smote(4)\n",
    "do_smote(5)"
   ]
  },
  {
   "cell_type": "code",
   "execution_count": null,
   "metadata": {},
   "outputs": [],
   "source": []
  }
 ],
 "metadata": {
  "kernelspec": {
   "display_name": "Python 3",
   "language": "python",
   "name": "python3"
  },
  "language_info": {
   "codemirror_mode": {
    "name": "ipython",
    "version": 3
   },
   "file_extension": ".py",
   "mimetype": "text/x-python",
   "name": "python",
   "nbconvert_exporter": "python",
   "pygments_lexer": "ipython3",
   "version": "3.7.3"
  }
 },
 "nbformat": 4,
 "nbformat_minor": 4
}
