{
 "cells": [
  {
   "cell_type": "code",
   "execution_count": 1,
   "metadata": {},
   "outputs": [],
   "source": [
    "import pandas as pd"
   ]
  },
  {
   "cell_type": "code",
   "execution_count": null,
   "metadata": {},
   "outputs": [],
   "source": []
  },
  {
   "cell_type": "code",
   "execution_count": 2,
   "metadata": {},
   "outputs": [],
   "source": [
    "class dt(): \n",
    "    def __init__(self,model,data): \n",
    "        filename = '{0}_0.5p_{1}_modelhasilsmote'.format(model,data)\n",
    "        df1 = pd.read_excel(\"%s1.xlsx\"%filename)\n",
    "        df2 = pd.read_excel(\"%s2.xlsx\"%filename)\n",
    "        df3 = pd.read_excel(\"%s3.xlsx\"%filename)\n",
    "        df4 = pd.read_excel(\"%s4.xlsx\"%filename)\n",
    "        df5 = pd.read_excel(\"%s5.xlsx\"%filename)\n",
    "        self.d1=df1\n",
    "        self.d2=df2\n",
    "        self.d3=df3\n",
    "        self.d4=df4\n",
    "        self.d5=df5\n",
    "def rdmlp(data): \n",
    "    return dt('mlp',data) \n",
    "def rdrf(data): \n",
    "    return dt('rf_100n_1000m',data) \n",
    "def rdsvm(data): \n",
    "    return dt('svm_rbf',data) "
   ]
  },
  {
   "cell_type": "code",
   "execution_count": null,
   "metadata": {},
   "outputs": [],
   "source": []
  },
  {
   "cell_type": "code",
   "execution_count": 3,
   "metadata": {},
   "outputs": [],
   "source": [
    "class dt2(): \n",
    "    def __init__(self,data): \n",
    "        df1 = pd.read_excel(\"%s_mlp_hasilmergesmote.xlsx\"%data)\n",
    "        df2 = pd.read_excel(\"%s_rf_hasilmergesmote.xlsx\"%data)\n",
    "        df3 = pd.read_excel(\"%s_svm_hasilmergesmote.xlsx\"%data)\n",
    "        self.d1=df1\n",
    "        self.d2=df2\n",
    "        self.d3=df3\n",
    "def rd(data): \n",
    "    return dt2(data) "
   ]
  },
  {
   "cell_type": "code",
   "execution_count": 4,
   "metadata": {},
   "outputs": [],
   "source": [
    "def readdtmlp(data):\n",
    "    filename = 'mlp_0.5p_%s_modelhasilsmote5'%data\n",
    "    df = pd.read_excel(\"%s.xlsx\"%filename)\n",
    "    #df=df.drop(columns='Unnamed: 0')\n",
    "    return df\n",
    "def readdtrf(data):\n",
    "    filename = 'rf_100n_1000m_0.5p_%s_modelhasilsmote2'%data\n",
    "    df = pd.read_excel(\"%s.xlsx\"%filename,header=None)\n",
    "    #df=df.drop(columns='Unnamed: 0')\n",
    "    return df\n",
    "def readdtsvm(data):\n",
    "    filename = 'svm_rbf_0.5p_%s_modelhasilsmote5'%data\n",
    "    df = pd.read_excel(\"%s.xlsx\"%filename)\n",
    "    #df=df.drop(columns='Unnamed: 0')\n",
    "    return df"
   ]
  },
  {
   "cell_type": "code",
   "execution_count": 5,
   "metadata": {},
   "outputs": [],
   "source": [
    "#dtf_mlp=readdtmlp('mbafika')\n",
    "#dtf_rf =readdtrf('mbafika')\n",
    "#dtf_svm =readdtsvm('mbafika')"
   ]
  },
  {
   "cell_type": "code",
   "execution_count": 6,
   "metadata": {},
   "outputs": [
    {
     "ename": "NameError",
     "evalue": "name 'dtf_svm' is not defined",
     "output_type": "error",
     "traceback": [
      "\u001b[1;31m---------------------------------------------------------------------------\u001b[0m",
      "\u001b[1;31mNameError\u001b[0m                                 Traceback (most recent call last)",
      "\u001b[1;32m<ipython-input-6-f0917dc4405a>\u001b[0m in \u001b[0;36m<module>\u001b[1;34m\u001b[0m\n\u001b[1;32m----> 1\u001b[1;33m \u001b[0mdtf_svm\u001b[0m\u001b[1;33m.\u001b[0m\u001b[0mhead\u001b[0m\u001b[1;33m(\u001b[0m\u001b[1;33m)\u001b[0m\u001b[1;33m\u001b[0m\u001b[1;33m\u001b[0m\u001b[0m\n\u001b[0m",
      "\u001b[1;31mNameError\u001b[0m: name 'dtf_svm' is not defined"
     ]
    }
   ],
   "source": [
    "dtf_svm.head()"
   ]
  },
  {
   "cell_type": "code",
   "execution_count": 12,
   "metadata": {},
   "outputs": [],
   "source": [
    "dtf_rf=readdtmlp('mbafika')"
   ]
  },
  {
   "cell_type": "code",
   "execution_count": null,
   "metadata": {},
   "outputs": [],
   "source": []
  },
  {
   "cell_type": "code",
   "execution_count": null,
   "metadata": {},
   "outputs": [],
   "source": []
  },
  {
   "cell_type": "code",
   "execution_count": 13,
   "metadata": {},
   "outputs": [],
   "source": [
    "def mergehasil(data,model):\n",
    "    if model=='mlp':\n",
    "        dtf_mlp = rdmlp(data)\n",
    "    elif model=='rf':\n",
    "        dtf_mlp = rdrf(data)\n",
    "    elif model=='svm':\n",
    "        dtf_mlp = rdsvm(data)\n",
    "    def f(row):\n",
    "        if row['score'] >= 0.5:\n",
    "            val = 1\n",
    "        else:\n",
    "            val = 0\n",
    "        return val\n",
    "    column_names = ['com','prot','score','class']\n",
    "    ndtf_mlp = pd.DataFrame(columns = column_names)\n",
    "    ndtf_mlp['com']=dtf_mlp.d1[2]\n",
    "    ndtf_mlp['prot']=dtf_mlp.d1[3]\n",
    "    ndtf_mlp['score']=pd.concat([dtf_mlp.d1[4],dtf_mlp.d2[4],dtf_mlp.d3[4],dtf_mlp.d4[4],dtf_mlp.d5[4]],\n",
    "                                axis=1).mean(axis=1)\n",
    "    ndtf_mlp['class']= ndtf_mlp.apply(f, axis=1)\n",
    "    ndtf_mlp.to_excel('{0}_{1}_hasilmergesmote.xlsx'.format(data,model))\n",
    "    return ndtf_mlp"
   ]
  },
  {
   "cell_type": "code",
   "execution_count": 14,
   "metadata": {},
   "outputs": [],
   "source": [
    "def mergehasil2(data):\n",
    "    dtf_mlp=rd(data)\n",
    "    column_names = ['com','prot','score','class']\n",
    "    ndtf_mlp = pd.DataFrame(columns = column_names)\n",
    "    ndtf_mlp['com']=dtf_mlp.d1['com']\n",
    "    ndtf_mlp['prot']=dtf_mlp.d1['prot']\n",
    "    ndtf_mlp['score']=pd.concat([dtf_mlp.d1['score'],dtf_mlp.d2['score'],dtf_mlp.d3['score']],\n",
    "                                axis=1).mean(axis=1)\n",
    "    ndtf_mlp['class']= ndtf_mlp.apply(f, axis=1)\n",
    "    ndtf_mlp.to_excel('{0}_hasilmergesmote.xlsx'.format(data))\n",
    "    return ndtf_mlp"
   ]
  },
  {
   "cell_type": "code",
   "execution_count": 15,
   "metadata": {},
   "outputs": [],
   "source": [
    "def mergehasil2(data):\n",
    "    def f(row):\n",
    "        if row['score'] >= 0.5:\n",
    "            val = 1\n",
    "        else:\n",
    "            val = 0\n",
    "        return val\n",
    "    dtf_mlp=rd(data)\n",
    "    column_names = ['com','prot','score','class']\n",
    "    ndtf_mlp = pd.DataFrame(columns = column_names)\n",
    "    ndtf_mlp['com']=dtf_mlp.d1['com']\n",
    "    ndtf_mlp['prot']=dtf_mlp.d1['prot']\n",
    "    ndtf_mlp['score']=pd.concat([dtf_mlp.d1['score'],dtf_mlp.d2['score'],dtf_mlp.d3['score']],\n",
    "                                axis=1).mean(axis=1)\n",
    "    ndtf_mlp['class']= ndtf_mlp.apply(f, axis=1)\n",
    "    ndtf_mlp.to_excel('{0}_hasilmergesmote.xlsx'.format(data))\n",
    "    return ndtf_mlp"
   ]
  },
  {
   "cell_type": "code",
   "execution_count": 19,
   "metadata": {},
   "outputs": [],
   "source": [
    "dtf_mlp=mergehasil('mbafika','mlp')\n",
    "dtf_svm=mergehasil('mbafika','svm')\n",
    "dtf_rf=mergehasil('mbafika','rf')"
   ]
  },
  {
   "cell_type": "code",
   "execution_count": 20,
   "metadata": {},
   "outputs": [],
   "source": [
    "dtl_mlp=mergehasil('mbalinda','mlp')\n",
    "dtl_svm=mergehasil('mbalinda','svm')\n",
    "dtl_rf=mergehasil('mbalinda','rf')"
   ]
  },
  {
   "cell_type": "code",
   "execution_count": 21,
   "metadata": {},
   "outputs": [],
   "source": [
    "#dtg_mlp=mergehasil('gabung','mlp')\n",
    "#dtg_svm=mergehasil('gabung','svm')\n",
    "#dtg_rf=mergehasil('gabung','rf')"
   ]
  },
  {
   "cell_type": "code",
   "execution_count": 36,
   "metadata": {},
   "outputs": [],
   "source": [
    "dtt_mlp=mergehasil('tambahan_kayuputih','mlp')\n",
    "#dtt_svm=mergehasil('tambahan_kayuputih','svm')\n",
    "dtt_rf=mergehasil('tambahan_kayuputih','rf')"
   ]
  },
  {
   "cell_type": "code",
   "execution_count": 22,
   "metadata": {},
   "outputs": [],
   "source": [
    "dtt_mlp=mergehasil('tambahan_2','mlp')\n",
    "dtt_svm=mergehasil('tambahan_2','svm')\n",
    "dtt_rf=mergehasil('tambahan_2','rf')"
   ]
  },
  {
   "cell_type": "code",
   "execution_count": 23,
   "metadata": {},
   "outputs": [],
   "source": [
    "dtf=mergehasil2('mbafika')\n",
    "dtl=mergehasil2('mbalinda')\n",
    "dtt=mergehasil2('tambahan_2')"
   ]
  },
  {
   "cell_type": "code",
   "execution_count": null,
   "metadata": {},
   "outputs": [],
   "source": []
  },
  {
   "cell_type": "code",
   "execution_count": null,
   "metadata": {},
   "outputs": [],
   "source": []
  }
 ],
 "metadata": {
  "kernelspec": {
   "display_name": "Python 3",
   "language": "python",
   "name": "python3"
  },
  "language_info": {
   "codemirror_mode": {
    "name": "ipython",
    "version": 3
   },
   "file_extension": ".py",
   "mimetype": "text/x-python",
   "name": "python",
   "nbconvert_exporter": "python",
   "pygments_lexer": "ipython3",
   "version": "3.7.3"
  }
 },
 "nbformat": 4,
 "nbformat_minor": 4
}
