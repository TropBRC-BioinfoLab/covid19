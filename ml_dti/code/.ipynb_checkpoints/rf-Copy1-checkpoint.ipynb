{
 "cells": [
  {
   "cell_type": "code",
   "execution_count": 95,
   "metadata": {},
   "outputs": [],
   "source": [
    "import numpy as np\n",
    "import pandas as pd\n",
    "\n",
    "from sklearn.metrics import classification_report\n",
    "from sklearn.metrics import confusion_matrix\n",
    "from sklearn.metrics import accuracy_score,f1_score, precision_score, recall_score, roc_auc_score\n",
    "\n",
    "from sklearn.svm import SVC\n",
    "from sklearn.ensemble import RandomForestClassifier\n",
    "from sklearn.model_selection import cross_val_score, GridSearchCV\n",
    "\n",
    "import pickle"
   ]
  },
  {
   "cell_type": "code",
   "execution_count": 113,
   "metadata": {},
   "outputs": [],
   "source": [
    "class uji(): \n",
    "    def __init__(self,data): \n",
    "        df0 = pd.read_csv('../data2/uji%snorm.csv'%data, delimiter= \",\", header=None)\n",
    "        df0=df0.fillna(0)\n",
    "        self.com=df0[0]\n",
    "        self.prot=df0[1282]\n",
    "        self.x =df0.drop([0,1282], axis=1)\n",
    "        df0[1300]=0\n",
    "        self.y=df0[1300]\n",
    "        self.dt=data\n",
    "class latih(): \n",
    "    def __init__(self,data): \n",
    "        df = pd.read_csv(\"../data2/%s.csv\"%data, delimiter=',')\n",
    "        df.head()\n",
    "        self.X = df.drop(['0','1282','label'], axis=1)\n",
    "        self.Y = df['label']\n",
    "        self.dt=data\n",
    "def dtuji(data): \n",
    "    return uji(data) \n",
    "def dtlatih(data): \n",
    "    return latih(data) \n",
    "\n",
    "dtf =dtuji('mbafika') #dtf.com, dtf.prot, dtf.x, dtf.y, dtf.dt\n",
    "dtl =dtuji('mbalinda') #dtl.com, dtl.prot, dtl.x, dtl.y dtl.dt\n",
    "df= dtlatih('latih_parted') #df.X,df.Y,df.dt"
   ]
  },
  {
   "cell_type": "markdown",
   "metadata": {},
   "source": [
    "#RF"
   ]
  },
  {
   "cell_type": "code",
   "execution_count": 165,
   "metadata": {},
   "outputs": [],
   "source": [
    "def rf(n,m,df):\n",
    "    random_grid = {'n_estimators': [n],\n",
    "                   'max_features': ['auto'],\n",
    "                   #'max_depth': max_depth,\n",
    "                   'min_samples_split': [2],\n",
    "                   'min_samples_leaf': [1],\n",
    "                   'bootstrap': [True],\n",
    "                   'max_samples':[m],}\n",
    "    rf = RandomForestClassifier()\n",
    "    rf = GridSearchCV(rf, random_grid, n_jobs=-1, cv=5)\n",
    "    rf.fit(df.X, df.Y)\n",
    "    filename = '../data2/model/rf_{0}n_{1}m'.format(n,m)\n",
    "    pickle.dump(rf, open(filename, 'wb'))\n",
    "    return rf"
   ]
  },
  {
   "cell_type": "code",
   "execution_count": 174,
   "metadata": {},
   "outputs": [
    {
     "data": {
      "text/plain": [
       "RandomForestClassifier(bootstrap=True, class_weight=None, criterion='gini',\n",
       "                       max_depth=None, max_features='auto', max_leaf_nodes=None,\n",
       "                       min_impurity_decrease=0.0, min_impurity_split=None,\n",
       "                       min_samples_leaf=1, min_samples_split=2,\n",
       "                       min_weight_fraction_leaf=0.0, n_estimators='warn',\n",
       "                       n_jobs=None, oob_score=False, random_state=None,\n",
       "                       verbose=0, warm_start=False)"
      ]
     },
     "execution_count": 174,
     "metadata": {},
     "output_type": "execute_result"
    }
   ],
   "source": [
    "RandomForestClassifier()"
   ]
  },
  {
   "cell_type": "code",
   "execution_count": 166,
   "metadata": {},
   "outputs": [],
   "source": [
    "#SVM"
   ]
  },
  {
   "cell_type": "code",
   "execution_count": null,
   "metadata": {},
   "outputs": [],
   "source": []
  },
  {
   "cell_type": "code",
   "execution_count": 167,
   "metadata": {},
   "outputs": [],
   "source": [
    "#SCORE"
   ]
  },
  {
   "cell_type": "code",
   "execution_count": 168,
   "metadata": {},
   "outputs": [],
   "source": [
    "def report(model,n,m,df):\n",
    "    rf = pickle.load(open('../data2/model/{0}_{1}n_{2}m'.format(model.__name__,n,m), 'rb'))\n",
    "    pred_x = rf.predict(df.X)\n",
    "    print('n = {0}'.format(n))\n",
    "    print('m = {0}'.format(m))\n",
    "    print('model file : {0}_{1}'.format(model.__name__,n))\n",
    "    print('Best parameters found:', rf.best_params_)\n",
    "    print('Accuracy:',accuracy_score(df.Y, pred_x))\n",
    "    print('f1:',f1_score(df.Y, pred_x))\n",
    "    print('precision:',precision_score(df.Y, pred_x))\n",
    "    print('recall:',recall_score(df.Y, pred_x))\n",
    "    print('roc_auc:',roc_auc_score(df.Y, pred_x))\n",
    "    print('Confusion matrix:')\n",
    "    print(confusion_matrix(df.Y, pred_x))\n",
    "    print('Results on the train set:')\n",
    "    print(classification_report(df.Y, pred_x))\n",
    "    #pred_n = rf.predict(cX)\n",
    "    #print('Results on the all neg data:')\n",
    "    #print(classification_report(cY, pred_n))\n",
    "    "
   ]
  },
  {
   "cell_type": "code",
   "execution_count": 160,
   "metadata": {},
   "outputs": [],
   "source": [
    "def rf_model(model,n,m,data):\n",
    "    md = model(n,m,data)\n",
    "    report(model,n,m,data)\n",
    "    return md"
   ]
  },
  {
   "cell_type": "code",
   "execution_count": 169,
   "metadata": {},
   "outputs": [],
   "source": [
    "def prediksi(md,model,n,m,data):\n",
    "    pred_x = md.predict(data.x)\n",
    "    print(\"hasil prediksi \",data.dt,\" : (0,1)\")\n",
    "    print(confusion_matrix(data.y, pred_x))\n",
    "    pred_x = pd.DataFrame(pred_x)\n",
    "    pred_x[1] = data.com\n",
    "    pred_x[2] = data.prot\n",
    "    pred_x.to_excel('../data2/hasil_pred/{0}_{1}n_{2}m_{3}.xlsx'.format(model.__name__,n,m,data.dt))"
   ]
  },
  {
   "cell_type": "code",
   "execution_count": 172,
   "metadata": {},
   "outputs": [],
   "source": [
    "def fitn2pred(model,n,m,datalatih,datauji1,datauji2):\n",
    "    md=rf_model(model,n,m,datalatih)\n",
    "    prediksi(md,model,n,m,datauji1)\n",
    "    prediksi(md,model,n,m,datauji2)"
   ]
  },
  {
   "cell_type": "code",
   "execution_count": 173,
   "metadata": {},
   "outputs": [
    {
     "ename": "ValueError",
     "evalue": "Invalid parameter max_samples for estimator RandomForestClassifier(bootstrap=True, class_weight=None, criterion='gini',\n                       max_depth=None, max_features='auto', max_leaf_nodes=None,\n                       min_impurity_decrease=0.0, min_impurity_split=None,\n                       min_samples_leaf=1, min_samples_split=2,\n                       min_weight_fraction_leaf=0.0, n_estimators='warn',\n                       n_jobs=None, oob_score=False, random_state=None,\n                       verbose=0, warm_start=False). Check the list of available parameters with `estimator.get_params().keys()`.",
     "output_type": "error",
     "traceback": [
      "\u001b[1;31m---------------------------------------------------------------------------\u001b[0m",
      "\u001b[1;31m_RemoteTraceback\u001b[0m                          Traceback (most recent call last)",
      "\u001b[1;31m_RemoteTraceback\u001b[0m: \n\"\"\"\nTraceback (most recent call last):\n  File \"D:\\Anaconda3\\lib\\site-packages\\joblib\\externals\\loky\\process_executor.py\", line 418, in _process_worker\n    r = call_item()\n  File \"D:\\Anaconda3\\lib\\site-packages\\joblib\\externals\\loky\\process_executor.py\", line 272, in __call__\n    return self.fn(*self.args, **self.kwargs)\n  File \"D:\\Anaconda3\\lib\\site-packages\\joblib\\_parallel_backends.py\", line 567, in __call__\n    return self.func(*args, **kwargs)\n  File \"D:\\Anaconda3\\lib\\site-packages\\joblib\\parallel.py\", line 225, in __call__\n    for func, args, kwargs in self.items]\n  File \"D:\\Anaconda3\\lib\\site-packages\\joblib\\parallel.py\", line 225, in <listcomp>\n    for func, args, kwargs in self.items]\n  File \"D:\\Anaconda3\\lib\\site-packages\\sklearn\\model_selection\\_validation.py\", line 501, in _fit_and_score\n    estimator.set_params(**parameters)\n  File \"D:\\Anaconda3\\lib\\site-packages\\sklearn\\base.py\", line 224, in set_params\n    (key, self))\nValueError: Invalid parameter max_samples for estimator RandomForestClassifier(bootstrap=True, class_weight=None, criterion='gini',\n                       max_depth=None, max_features='auto', max_leaf_nodes=None,\n                       min_impurity_decrease=0.0, min_impurity_split=None,\n                       min_samples_leaf=1, min_samples_split=2,\n                       min_weight_fraction_leaf=0.0, n_estimators='warn',\n                       n_jobs=None, oob_score=False, random_state=None,\n                       verbose=0, warm_start=False). Check the list of available parameters with `estimator.get_params().keys()`.\n\"\"\"",
      "\nThe above exception was the direct cause of the following exception:\n",
      "\u001b[1;31mValueError\u001b[0m                                Traceback (most recent call last)",
      "\u001b[1;32m<ipython-input-173-60e859263318>\u001b[0m in \u001b[0;36m<module>\u001b[1;34m\u001b[0m\n\u001b[1;32m----> 1\u001b[1;33m \u001b[0mfitn2pred\u001b[0m\u001b[1;33m(\u001b[0m\u001b[0mrf\u001b[0m\u001b[1;33m,\u001b[0m\u001b[1;36m100\u001b[0m\u001b[1;33m,\u001b[0m\u001b[1;36m1000\u001b[0m\u001b[1;33m,\u001b[0m\u001b[0mdf\u001b[0m\u001b[1;33m,\u001b[0m\u001b[0mdtf\u001b[0m\u001b[1;33m,\u001b[0m\u001b[0mdtl\u001b[0m\u001b[1;33m)\u001b[0m\u001b[1;33m\u001b[0m\u001b[1;33m\u001b[0m\u001b[0m\n\u001b[0m",
      "\u001b[1;32m<ipython-input-172-8e95d60eea60>\u001b[0m in \u001b[0;36mfitn2pred\u001b[1;34m(model, n, m, datalatih, datauji1, datauji2)\u001b[0m\n\u001b[0;32m      1\u001b[0m \u001b[1;32mdef\u001b[0m \u001b[0mfitn2pred\u001b[0m\u001b[1;33m(\u001b[0m\u001b[0mmodel\u001b[0m\u001b[1;33m,\u001b[0m\u001b[0mn\u001b[0m\u001b[1;33m,\u001b[0m\u001b[0mm\u001b[0m\u001b[1;33m,\u001b[0m\u001b[0mdatalatih\u001b[0m\u001b[1;33m,\u001b[0m\u001b[0mdatauji1\u001b[0m\u001b[1;33m,\u001b[0m\u001b[0mdatauji2\u001b[0m\u001b[1;33m)\u001b[0m\u001b[1;33m:\u001b[0m\u001b[1;33m\u001b[0m\u001b[1;33m\u001b[0m\u001b[0m\n\u001b[1;32m----> 2\u001b[1;33m     \u001b[0mmd\u001b[0m\u001b[1;33m=\u001b[0m\u001b[0mrf_model\u001b[0m\u001b[1;33m(\u001b[0m\u001b[0mmodel\u001b[0m\u001b[1;33m,\u001b[0m\u001b[0mn\u001b[0m\u001b[1;33m,\u001b[0m\u001b[0mm\u001b[0m\u001b[1;33m,\u001b[0m\u001b[0mdatalatih\u001b[0m\u001b[1;33m)\u001b[0m\u001b[1;33m\u001b[0m\u001b[1;33m\u001b[0m\u001b[0m\n\u001b[0m\u001b[0;32m      3\u001b[0m     \u001b[0mprediksi\u001b[0m\u001b[1;33m(\u001b[0m\u001b[0mmd\u001b[0m\u001b[1;33m,\u001b[0m\u001b[0mmodel\u001b[0m\u001b[1;33m,\u001b[0m\u001b[0mn\u001b[0m\u001b[1;33m,\u001b[0m\u001b[0mm\u001b[0m\u001b[1;33m,\u001b[0m\u001b[0mdatauji1\u001b[0m\u001b[1;33m)\u001b[0m\u001b[1;33m\u001b[0m\u001b[1;33m\u001b[0m\u001b[0m\n\u001b[0;32m      4\u001b[0m     \u001b[0mprediksi\u001b[0m\u001b[1;33m(\u001b[0m\u001b[0mmd\u001b[0m\u001b[1;33m,\u001b[0m\u001b[0mmodel\u001b[0m\u001b[1;33m,\u001b[0m\u001b[0mn\u001b[0m\u001b[1;33m,\u001b[0m\u001b[0mm\u001b[0m\u001b[1;33m,\u001b[0m\u001b[0mdatauji2\u001b[0m\u001b[1;33m)\u001b[0m\u001b[1;33m\u001b[0m\u001b[1;33m\u001b[0m\u001b[0m\n",
      "\u001b[1;32m<ipython-input-160-a4eef6258ec4>\u001b[0m in \u001b[0;36mrf_model\u001b[1;34m(model, n, m, data)\u001b[0m\n\u001b[0;32m      1\u001b[0m \u001b[1;32mdef\u001b[0m \u001b[0mrf_model\u001b[0m\u001b[1;33m(\u001b[0m\u001b[0mmodel\u001b[0m\u001b[1;33m,\u001b[0m\u001b[0mn\u001b[0m\u001b[1;33m,\u001b[0m\u001b[0mm\u001b[0m\u001b[1;33m,\u001b[0m\u001b[0mdata\u001b[0m\u001b[1;33m)\u001b[0m\u001b[1;33m:\u001b[0m\u001b[1;33m\u001b[0m\u001b[1;33m\u001b[0m\u001b[0m\n\u001b[1;32m----> 2\u001b[1;33m     \u001b[0mmd\u001b[0m \u001b[1;33m=\u001b[0m \u001b[0mmodel\u001b[0m\u001b[1;33m(\u001b[0m\u001b[0mn\u001b[0m\u001b[1;33m,\u001b[0m\u001b[0mm\u001b[0m\u001b[1;33m,\u001b[0m\u001b[0mdata\u001b[0m\u001b[1;33m)\u001b[0m\u001b[1;33m\u001b[0m\u001b[1;33m\u001b[0m\u001b[0m\n\u001b[0m\u001b[0;32m      3\u001b[0m     \u001b[0mreport\u001b[0m\u001b[1;33m(\u001b[0m\u001b[0mmodel\u001b[0m\u001b[1;33m,\u001b[0m\u001b[0mn\u001b[0m\u001b[1;33m,\u001b[0m\u001b[0mm\u001b[0m\u001b[1;33m,\u001b[0m\u001b[0mdata\u001b[0m\u001b[1;33m)\u001b[0m\u001b[1;33m\u001b[0m\u001b[1;33m\u001b[0m\u001b[0m\n\u001b[0;32m      4\u001b[0m     \u001b[1;32mreturn\u001b[0m \u001b[0mmd\u001b[0m\u001b[1;33m\u001b[0m\u001b[1;33m\u001b[0m\u001b[0m\n",
      "\u001b[1;32m<ipython-input-165-ef048084338d>\u001b[0m in \u001b[0;36mrf\u001b[1;34m(n, m, df)\u001b[0m\n\u001b[0;32m      9\u001b[0m     \u001b[0mrf\u001b[0m \u001b[1;33m=\u001b[0m \u001b[0mRandomForestClassifier\u001b[0m\u001b[1;33m(\u001b[0m\u001b[1;33m)\u001b[0m\u001b[1;33m\u001b[0m\u001b[1;33m\u001b[0m\u001b[0m\n\u001b[0;32m     10\u001b[0m     \u001b[0mrf\u001b[0m \u001b[1;33m=\u001b[0m \u001b[0mGridSearchCV\u001b[0m\u001b[1;33m(\u001b[0m\u001b[0mrf\u001b[0m\u001b[1;33m,\u001b[0m \u001b[0mrandom_grid\u001b[0m\u001b[1;33m,\u001b[0m \u001b[0mn_jobs\u001b[0m\u001b[1;33m=\u001b[0m\u001b[1;33m-\u001b[0m\u001b[1;36m1\u001b[0m\u001b[1;33m,\u001b[0m \u001b[0mcv\u001b[0m\u001b[1;33m=\u001b[0m\u001b[1;36m5\u001b[0m\u001b[1;33m)\u001b[0m\u001b[1;33m\u001b[0m\u001b[1;33m\u001b[0m\u001b[0m\n\u001b[1;32m---> 11\u001b[1;33m     \u001b[0mrf\u001b[0m\u001b[1;33m.\u001b[0m\u001b[0mfit\u001b[0m\u001b[1;33m(\u001b[0m\u001b[0mdf\u001b[0m\u001b[1;33m.\u001b[0m\u001b[0mX\u001b[0m\u001b[1;33m,\u001b[0m \u001b[0mdf\u001b[0m\u001b[1;33m.\u001b[0m\u001b[0mY\u001b[0m\u001b[1;33m)\u001b[0m\u001b[1;33m\u001b[0m\u001b[1;33m\u001b[0m\u001b[0m\n\u001b[0m\u001b[0;32m     12\u001b[0m     \u001b[0mfilename\u001b[0m \u001b[1;33m=\u001b[0m \u001b[1;34m'../data2/model/rf_{0}n_{1}m'\u001b[0m\u001b[1;33m.\u001b[0m\u001b[0mformat\u001b[0m\u001b[1;33m(\u001b[0m\u001b[0mn\u001b[0m\u001b[1;33m,\u001b[0m\u001b[0mm\u001b[0m\u001b[1;33m)\u001b[0m\u001b[1;33m\u001b[0m\u001b[1;33m\u001b[0m\u001b[0m\n\u001b[0;32m     13\u001b[0m     \u001b[0mpickle\u001b[0m\u001b[1;33m.\u001b[0m\u001b[0mdump\u001b[0m\u001b[1;33m(\u001b[0m\u001b[0mrf\u001b[0m\u001b[1;33m,\u001b[0m \u001b[0mopen\u001b[0m\u001b[1;33m(\u001b[0m\u001b[0mfilename\u001b[0m\u001b[1;33m,\u001b[0m \u001b[1;34m'wb'\u001b[0m\u001b[1;33m)\u001b[0m\u001b[1;33m)\u001b[0m\u001b[1;33m\u001b[0m\u001b[1;33m\u001b[0m\u001b[0m\n",
      "\u001b[1;32mD:\\Anaconda3\\lib\\site-packages\\sklearn\\model_selection\\_search.py\u001b[0m in \u001b[0;36mfit\u001b[1;34m(self, X, y, groups, **fit_params)\u001b[0m\n\u001b[0;32m    685\u001b[0m                 \u001b[1;32mreturn\u001b[0m \u001b[0mresults\u001b[0m\u001b[1;33m\u001b[0m\u001b[1;33m\u001b[0m\u001b[0m\n\u001b[0;32m    686\u001b[0m \u001b[1;33m\u001b[0m\u001b[0m\n\u001b[1;32m--> 687\u001b[1;33m             \u001b[0mself\u001b[0m\u001b[1;33m.\u001b[0m\u001b[0m_run_search\u001b[0m\u001b[1;33m(\u001b[0m\u001b[0mevaluate_candidates\u001b[0m\u001b[1;33m)\u001b[0m\u001b[1;33m\u001b[0m\u001b[1;33m\u001b[0m\u001b[0m\n\u001b[0m\u001b[0;32m    688\u001b[0m \u001b[1;33m\u001b[0m\u001b[0m\n\u001b[0;32m    689\u001b[0m         \u001b[1;31m# For multi-metric evaluation, store the best_index_, best_params_ and\u001b[0m\u001b[1;33m\u001b[0m\u001b[1;33m\u001b[0m\u001b[1;33m\u001b[0m\u001b[0m\n",
      "\u001b[1;32mD:\\Anaconda3\\lib\\site-packages\\sklearn\\model_selection\\_search.py\u001b[0m in \u001b[0;36m_run_search\u001b[1;34m(self, evaluate_candidates)\u001b[0m\n\u001b[0;32m   1146\u001b[0m     \u001b[1;32mdef\u001b[0m \u001b[0m_run_search\u001b[0m\u001b[1;33m(\u001b[0m\u001b[0mself\u001b[0m\u001b[1;33m,\u001b[0m \u001b[0mevaluate_candidates\u001b[0m\u001b[1;33m)\u001b[0m\u001b[1;33m:\u001b[0m\u001b[1;33m\u001b[0m\u001b[1;33m\u001b[0m\u001b[0m\n\u001b[0;32m   1147\u001b[0m         \u001b[1;34m\"\"\"Search all candidates in param_grid\"\"\"\u001b[0m\u001b[1;33m\u001b[0m\u001b[1;33m\u001b[0m\u001b[0m\n\u001b[1;32m-> 1148\u001b[1;33m         \u001b[0mevaluate_candidates\u001b[0m\u001b[1;33m(\u001b[0m\u001b[0mParameterGrid\u001b[0m\u001b[1;33m(\u001b[0m\u001b[0mself\u001b[0m\u001b[1;33m.\u001b[0m\u001b[0mparam_grid\u001b[0m\u001b[1;33m)\u001b[0m\u001b[1;33m)\u001b[0m\u001b[1;33m\u001b[0m\u001b[1;33m\u001b[0m\u001b[0m\n\u001b[0m\u001b[0;32m   1149\u001b[0m \u001b[1;33m\u001b[0m\u001b[0m\n\u001b[0;32m   1150\u001b[0m \u001b[1;33m\u001b[0m\u001b[0m\n",
      "\u001b[1;32mD:\\Anaconda3\\lib\\site-packages\\sklearn\\model_selection\\_search.py\u001b[0m in \u001b[0;36mevaluate_candidates\u001b[1;34m(candidate_params)\u001b[0m\n\u001b[0;32m    664\u001b[0m                                \u001b[1;32mfor\u001b[0m \u001b[0mparameters\u001b[0m\u001b[1;33m,\u001b[0m \u001b[1;33m(\u001b[0m\u001b[0mtrain\u001b[0m\u001b[1;33m,\u001b[0m \u001b[0mtest\u001b[0m\u001b[1;33m)\u001b[0m\u001b[1;33m\u001b[0m\u001b[1;33m\u001b[0m\u001b[0m\n\u001b[0;32m    665\u001b[0m                                in product(candidate_params,\n\u001b[1;32m--> 666\u001b[1;33m                                           cv.split(X, y, groups)))\n\u001b[0m\u001b[0;32m    667\u001b[0m \u001b[1;33m\u001b[0m\u001b[0m\n\u001b[0;32m    668\u001b[0m                 \u001b[1;32mif\u001b[0m \u001b[0mlen\u001b[0m\u001b[1;33m(\u001b[0m\u001b[0mout\u001b[0m\u001b[1;33m)\u001b[0m \u001b[1;33m<\u001b[0m \u001b[1;36m1\u001b[0m\u001b[1;33m:\u001b[0m\u001b[1;33m\u001b[0m\u001b[1;33m\u001b[0m\u001b[0m\n",
      "\u001b[1;32mD:\\Anaconda3\\lib\\site-packages\\joblib\\parallel.py\u001b[0m in \u001b[0;36m__call__\u001b[1;34m(self, iterable)\u001b[0m\n\u001b[0;32m    932\u001b[0m \u001b[1;33m\u001b[0m\u001b[0m\n\u001b[0;32m    933\u001b[0m             \u001b[1;32mwith\u001b[0m \u001b[0mself\u001b[0m\u001b[1;33m.\u001b[0m\u001b[0m_backend\u001b[0m\u001b[1;33m.\u001b[0m\u001b[0mretrieval_context\u001b[0m\u001b[1;33m(\u001b[0m\u001b[1;33m)\u001b[0m\u001b[1;33m:\u001b[0m\u001b[1;33m\u001b[0m\u001b[1;33m\u001b[0m\u001b[0m\n\u001b[1;32m--> 934\u001b[1;33m                 \u001b[0mself\u001b[0m\u001b[1;33m.\u001b[0m\u001b[0mretrieve\u001b[0m\u001b[1;33m(\u001b[0m\u001b[1;33m)\u001b[0m\u001b[1;33m\u001b[0m\u001b[1;33m\u001b[0m\u001b[0m\n\u001b[0m\u001b[0;32m    935\u001b[0m             \u001b[1;31m# Make sure that we get a last message telling us we are done\u001b[0m\u001b[1;33m\u001b[0m\u001b[1;33m\u001b[0m\u001b[1;33m\u001b[0m\u001b[0m\n\u001b[0;32m    936\u001b[0m             \u001b[0melapsed_time\u001b[0m \u001b[1;33m=\u001b[0m \u001b[0mtime\u001b[0m\u001b[1;33m.\u001b[0m\u001b[0mtime\u001b[0m\u001b[1;33m(\u001b[0m\u001b[1;33m)\u001b[0m \u001b[1;33m-\u001b[0m \u001b[0mself\u001b[0m\u001b[1;33m.\u001b[0m\u001b[0m_start_time\u001b[0m\u001b[1;33m\u001b[0m\u001b[1;33m\u001b[0m\u001b[0m\n",
      "\u001b[1;32mD:\\Anaconda3\\lib\\site-packages\\joblib\\parallel.py\u001b[0m in \u001b[0;36mretrieve\u001b[1;34m(self)\u001b[0m\n\u001b[0;32m    831\u001b[0m             \u001b[1;32mtry\u001b[0m\u001b[1;33m:\u001b[0m\u001b[1;33m\u001b[0m\u001b[1;33m\u001b[0m\u001b[0m\n\u001b[0;32m    832\u001b[0m                 \u001b[1;32mif\u001b[0m \u001b[0mgetattr\u001b[0m\u001b[1;33m(\u001b[0m\u001b[0mself\u001b[0m\u001b[1;33m.\u001b[0m\u001b[0m_backend\u001b[0m\u001b[1;33m,\u001b[0m \u001b[1;34m'supports_timeout'\u001b[0m\u001b[1;33m,\u001b[0m \u001b[1;32mFalse\u001b[0m\u001b[1;33m)\u001b[0m\u001b[1;33m:\u001b[0m\u001b[1;33m\u001b[0m\u001b[1;33m\u001b[0m\u001b[0m\n\u001b[1;32m--> 833\u001b[1;33m                     \u001b[0mself\u001b[0m\u001b[1;33m.\u001b[0m\u001b[0m_output\u001b[0m\u001b[1;33m.\u001b[0m\u001b[0mextend\u001b[0m\u001b[1;33m(\u001b[0m\u001b[0mjob\u001b[0m\u001b[1;33m.\u001b[0m\u001b[0mget\u001b[0m\u001b[1;33m(\u001b[0m\u001b[0mtimeout\u001b[0m\u001b[1;33m=\u001b[0m\u001b[0mself\u001b[0m\u001b[1;33m.\u001b[0m\u001b[0mtimeout\u001b[0m\u001b[1;33m)\u001b[0m\u001b[1;33m)\u001b[0m\u001b[1;33m\u001b[0m\u001b[1;33m\u001b[0m\u001b[0m\n\u001b[0m\u001b[0;32m    834\u001b[0m                 \u001b[1;32melse\u001b[0m\u001b[1;33m:\u001b[0m\u001b[1;33m\u001b[0m\u001b[1;33m\u001b[0m\u001b[0m\n\u001b[0;32m    835\u001b[0m                     \u001b[0mself\u001b[0m\u001b[1;33m.\u001b[0m\u001b[0m_output\u001b[0m\u001b[1;33m.\u001b[0m\u001b[0mextend\u001b[0m\u001b[1;33m(\u001b[0m\u001b[0mjob\u001b[0m\u001b[1;33m.\u001b[0m\u001b[0mget\u001b[0m\u001b[1;33m(\u001b[0m\u001b[1;33m)\u001b[0m\u001b[1;33m)\u001b[0m\u001b[1;33m\u001b[0m\u001b[1;33m\u001b[0m\u001b[0m\n",
      "\u001b[1;32mD:\\Anaconda3\\lib\\site-packages\\joblib\\_parallel_backends.py\u001b[0m in \u001b[0;36mwrap_future_result\u001b[1;34m(future, timeout)\u001b[0m\n\u001b[0;32m    519\u001b[0m         AsyncResults.get from multiprocessing.\"\"\"\n\u001b[0;32m    520\u001b[0m         \u001b[1;32mtry\u001b[0m\u001b[1;33m:\u001b[0m\u001b[1;33m\u001b[0m\u001b[1;33m\u001b[0m\u001b[0m\n\u001b[1;32m--> 521\u001b[1;33m             \u001b[1;32mreturn\u001b[0m \u001b[0mfuture\u001b[0m\u001b[1;33m.\u001b[0m\u001b[0mresult\u001b[0m\u001b[1;33m(\u001b[0m\u001b[0mtimeout\u001b[0m\u001b[1;33m=\u001b[0m\u001b[0mtimeout\u001b[0m\u001b[1;33m)\u001b[0m\u001b[1;33m\u001b[0m\u001b[1;33m\u001b[0m\u001b[0m\n\u001b[0m\u001b[0;32m    522\u001b[0m         \u001b[1;32mexcept\u001b[0m \u001b[0mLokyTimeoutError\u001b[0m\u001b[1;33m:\u001b[0m\u001b[1;33m\u001b[0m\u001b[1;33m\u001b[0m\u001b[0m\n\u001b[0;32m    523\u001b[0m             \u001b[1;32mraise\u001b[0m \u001b[0mTimeoutError\u001b[0m\u001b[1;33m(\u001b[0m\u001b[1;33m)\u001b[0m\u001b[1;33m\u001b[0m\u001b[1;33m\u001b[0m\u001b[0m\n",
      "\u001b[1;32mD:\\Anaconda3\\lib\\concurrent\\futures\\_base.py\u001b[0m in \u001b[0;36mresult\u001b[1;34m(self, timeout)\u001b[0m\n\u001b[0;32m    430\u001b[0m                 \u001b[1;32mraise\u001b[0m \u001b[0mCancelledError\u001b[0m\u001b[1;33m(\u001b[0m\u001b[1;33m)\u001b[0m\u001b[1;33m\u001b[0m\u001b[1;33m\u001b[0m\u001b[0m\n\u001b[0;32m    431\u001b[0m             \u001b[1;32melif\u001b[0m \u001b[0mself\u001b[0m\u001b[1;33m.\u001b[0m\u001b[0m_state\u001b[0m \u001b[1;33m==\u001b[0m \u001b[0mFINISHED\u001b[0m\u001b[1;33m:\u001b[0m\u001b[1;33m\u001b[0m\u001b[1;33m\u001b[0m\u001b[0m\n\u001b[1;32m--> 432\u001b[1;33m                 \u001b[1;32mreturn\u001b[0m \u001b[0mself\u001b[0m\u001b[1;33m.\u001b[0m\u001b[0m__get_result\u001b[0m\u001b[1;33m(\u001b[0m\u001b[1;33m)\u001b[0m\u001b[1;33m\u001b[0m\u001b[1;33m\u001b[0m\u001b[0m\n\u001b[0m\u001b[0;32m    433\u001b[0m             \u001b[1;32melse\u001b[0m\u001b[1;33m:\u001b[0m\u001b[1;33m\u001b[0m\u001b[1;33m\u001b[0m\u001b[0m\n\u001b[0;32m    434\u001b[0m                 \u001b[1;32mraise\u001b[0m \u001b[0mTimeoutError\u001b[0m\u001b[1;33m(\u001b[0m\u001b[1;33m)\u001b[0m\u001b[1;33m\u001b[0m\u001b[1;33m\u001b[0m\u001b[0m\n",
      "\u001b[1;32mD:\\Anaconda3\\lib\\concurrent\\futures\\_base.py\u001b[0m in \u001b[0;36m__get_result\u001b[1;34m(self)\u001b[0m\n\u001b[0;32m    382\u001b[0m     \u001b[1;32mdef\u001b[0m \u001b[0m__get_result\u001b[0m\u001b[1;33m(\u001b[0m\u001b[0mself\u001b[0m\u001b[1;33m)\u001b[0m\u001b[1;33m:\u001b[0m\u001b[1;33m\u001b[0m\u001b[1;33m\u001b[0m\u001b[0m\n\u001b[0;32m    383\u001b[0m         \u001b[1;32mif\u001b[0m \u001b[0mself\u001b[0m\u001b[1;33m.\u001b[0m\u001b[0m_exception\u001b[0m\u001b[1;33m:\u001b[0m\u001b[1;33m\u001b[0m\u001b[1;33m\u001b[0m\u001b[0m\n\u001b[1;32m--> 384\u001b[1;33m             \u001b[1;32mraise\u001b[0m \u001b[0mself\u001b[0m\u001b[1;33m.\u001b[0m\u001b[0m_exception\u001b[0m\u001b[1;33m\u001b[0m\u001b[1;33m\u001b[0m\u001b[0m\n\u001b[0m\u001b[0;32m    385\u001b[0m         \u001b[1;32melse\u001b[0m\u001b[1;33m:\u001b[0m\u001b[1;33m\u001b[0m\u001b[1;33m\u001b[0m\u001b[0m\n\u001b[0;32m    386\u001b[0m             \u001b[1;32mreturn\u001b[0m \u001b[0mself\u001b[0m\u001b[1;33m.\u001b[0m\u001b[0m_result\u001b[0m\u001b[1;33m\u001b[0m\u001b[1;33m\u001b[0m\u001b[0m\n",
      "\u001b[1;31mValueError\u001b[0m: Invalid parameter max_samples for estimator RandomForestClassifier(bootstrap=True, class_weight=None, criterion='gini',\n                       max_depth=None, max_features='auto', max_leaf_nodes=None,\n                       min_impurity_decrease=0.0, min_impurity_split=None,\n                       min_samples_leaf=1, min_samples_split=2,\n                       min_weight_fraction_leaf=0.0, n_estimators='warn',\n                       n_jobs=None, oob_score=False, random_state=None,\n                       verbose=0, warm_start=False). Check the list of available parameters with `estimator.get_params().keys()`."
     ]
    }
   ],
   "source": [
    "fitn2pred(rf,100,1000,df,dtf,dtl)"
   ]
  },
  {
   "cell_type": "code",
   "execution_count": 149,
   "metadata": {},
   "outputs": [
    {
     "name": "stdout",
     "output_type": "stream",
     "text": [
      "n = 50\n",
      "Best parameters found: {'bootstrap': True, 'max_features': 'auto', 'min_samples_leaf': 1, 'min_samples_split': 2, 'n_estimators': 50}\n",
      "Accuracy: 0.9993416721527321\n",
      "f1: 0.9978118161925601\n",
      "precision: 0.9970845481049563\n",
      "recall: 0.9985401459854014\n",
      "roc_auc: 0.9990118085298907\n",
      "Confusion matrix:\n",
      "[[3870    2]\n",
      " [   1  684]]\n",
      "Results on the train set:\n",
      "              precision    recall  f1-score   support\n",
      "\n",
      "           0       1.00      1.00      1.00      3872\n",
      "           1       1.00      1.00      1.00       685\n",
      "\n",
      "    accuracy                           1.00      4557\n",
      "   macro avg       1.00      1.00      1.00      4557\n",
      "weighted avg       1.00      1.00      1.00      4557\n",
      "\n",
      "hasil prediksi  mbafika  : (0,1)\n",
      "[[120 120]\n",
      " [  0   0]]\n",
      "hasil prediksi  mbalinda  : (0,1)\n",
      "[[1530 1518]\n",
      " [   0    0]]\n"
     ]
    }
   ],
   "source": [
    "fitn2pred(rf,300,1000,df,dtf,dtl)"
   ]
  },
  {
   "cell_type": "code",
   "execution_count": 150,
   "metadata": {},
   "outputs": [
    {
     "name": "stdout",
     "output_type": "stream",
     "text": [
      "n = 100\n",
      "Best parameters found: {'bootstrap': True, 'max_features': 'auto', 'min_samples_leaf': 1, 'min_samples_split': 2, 'n_estimators': 100}\n",
      "Accuracy: 0.9995611147684881\n",
      "f1: 0.9985401459854014\n",
      "precision: 0.9985401459854014\n",
      "recall: 0.9985401459854014\n",
      "roc_auc: 0.9991409407612957\n",
      "Confusion matrix:\n",
      "[[3871    1]\n",
      " [   1  684]]\n",
      "Results on the train set:\n",
      "              precision    recall  f1-score   support\n",
      "\n",
      "           0       1.00      1.00      1.00      3872\n",
      "           1       1.00      1.00      1.00       685\n",
      "\n",
      "    accuracy                           1.00      4557\n",
      "   macro avg       1.00      1.00      1.00      4557\n",
      "weighted avg       1.00      1.00      1.00      4557\n",
      "\n",
      "hasil prediksi  mbafika  : (0,1)\n",
      "[[120 120]\n",
      " [  0   0]]\n",
      "hasil prediksi  mbalinda  : (0,1)\n",
      "[[1544 1504]\n",
      " [   0    0]]\n"
     ]
    }
   ],
   "source": [
    "fitn2pred(rf,500,1000,df,dtf,dtl)"
   ]
  },
  {
   "cell_type": "code",
   "execution_count": 151,
   "metadata": {},
   "outputs": [
    {
     "name": "stdout",
     "output_type": "stream",
     "text": [
      "n = 250\n",
      "Best parameters found: {'bootstrap': True, 'max_features': 'auto', 'min_samples_leaf': 1, 'min_samples_split': 2, 'n_estimators': 250}\n",
      "Accuracy: 0.9995611147684881\n",
      "f1: 0.9985401459854014\n",
      "precision: 0.9985401459854014\n",
      "recall: 0.9985401459854014\n",
      "roc_auc: 0.9991409407612957\n",
      "Confusion matrix:\n",
      "[[3871    1]\n",
      " [   1  684]]\n",
      "Results on the train set:\n",
      "              precision    recall  f1-score   support\n",
      "\n",
      "           0       1.00      1.00      1.00      3872\n",
      "           1       1.00      1.00      1.00       685\n",
      "\n",
      "    accuracy                           1.00      4557\n",
      "   macro avg       1.00      1.00      1.00      4557\n",
      "weighted avg       1.00      1.00      1.00      4557\n",
      "\n",
      "hasil prediksi  mbafika  : (0,1)\n",
      "[[120 120]\n",
      " [  0   0]]\n",
      "hasil prediksi  mbalinda  : (0,1)\n",
      "[[1527 1521]\n",
      " [   0    0]]\n"
     ]
    }
   ],
   "source": [
    "fitn2pred(rf,1000,1000,df,dtf,dtl)"
   ]
  },
  {
   "cell_type": "code",
   "execution_count": null,
   "metadata": {},
   "outputs": [],
   "source": []
  },
  {
   "cell_type": "code",
   "execution_count": 148,
   "metadata": {},
   "outputs": [
    {
     "name": "stdout",
     "output_type": "stream",
     "text": [
      "n = 10\n",
      "Best parameters found: {'bootstrap': True, 'max_features': 'auto', 'min_samples_leaf': 1, 'min_samples_split': 2, 'n_estimators': 10}\n",
      "Accuracy: 0.9936361641430765\n",
      "f1: 0.9784706755753526\n",
      "precision: 0.9954682779456193\n",
      "recall: 0.962043795620438\n",
      "roc_auc: 0.980634501116004\n",
      "Confusion matrix:\n",
      "[[3869    3]\n",
      " [  26  659]]\n",
      "Results on the train set:\n",
      "              precision    recall  f1-score   support\n",
      "\n",
      "           0       0.99      1.00      1.00      3872\n",
      "           1       1.00      0.96      0.98       685\n",
      "\n",
      "    accuracy                           0.99      4557\n",
      "   macro avg       0.99      0.98      0.99      4557\n",
      "weighted avg       0.99      0.99      0.99      4557\n",
      "\n",
      "hasil prediksi  mbafika  : (0,1)\n",
      "[[145  95]\n",
      " [  0   0]]\n",
      "hasil prediksi  mbalinda  : (0,1)\n",
      "[[1746 1302]\n",
      " [   0    0]]\n"
     ]
    }
   ],
   "source": [
    "fitn2pred(rf,100,2500,df,dtf,dtl)"
   ]
  },
  {
   "cell_type": "code",
   "execution_count": 149,
   "metadata": {},
   "outputs": [
    {
     "name": "stdout",
     "output_type": "stream",
     "text": [
      "n = 50\n",
      "Best parameters found: {'bootstrap': True, 'max_features': 'auto', 'min_samples_leaf': 1, 'min_samples_split': 2, 'n_estimators': 50}\n",
      "Accuracy: 0.9993416721527321\n",
      "f1: 0.9978118161925601\n",
      "precision: 0.9970845481049563\n",
      "recall: 0.9985401459854014\n",
      "roc_auc: 0.9990118085298907\n",
      "Confusion matrix:\n",
      "[[3870    2]\n",
      " [   1  684]]\n",
      "Results on the train set:\n",
      "              precision    recall  f1-score   support\n",
      "\n",
      "           0       1.00      1.00      1.00      3872\n",
      "           1       1.00      1.00      1.00       685\n",
      "\n",
      "    accuracy                           1.00      4557\n",
      "   macro avg       1.00      1.00      1.00      4557\n",
      "weighted avg       1.00      1.00      1.00      4557\n",
      "\n",
      "hasil prediksi  mbafika  : (0,1)\n",
      "[[120 120]\n",
      " [  0   0]]\n",
      "hasil prediksi  mbalinda  : (0,1)\n",
      "[[1530 1518]\n",
      " [   0    0]]\n"
     ]
    }
   ],
   "source": [
    "fitn2pred(rf,300,2500,df,dtf,dtl)"
   ]
  },
  {
   "cell_type": "code",
   "execution_count": 150,
   "metadata": {},
   "outputs": [
    {
     "name": "stdout",
     "output_type": "stream",
     "text": [
      "n = 100\n",
      "Best parameters found: {'bootstrap': True, 'max_features': 'auto', 'min_samples_leaf': 1, 'min_samples_split': 2, 'n_estimators': 100}\n",
      "Accuracy: 0.9995611147684881\n",
      "f1: 0.9985401459854014\n",
      "precision: 0.9985401459854014\n",
      "recall: 0.9985401459854014\n",
      "roc_auc: 0.9991409407612957\n",
      "Confusion matrix:\n",
      "[[3871    1]\n",
      " [   1  684]]\n",
      "Results on the train set:\n",
      "              precision    recall  f1-score   support\n",
      "\n",
      "           0       1.00      1.00      1.00      3872\n",
      "           1       1.00      1.00      1.00       685\n",
      "\n",
      "    accuracy                           1.00      4557\n",
      "   macro avg       1.00      1.00      1.00      4557\n",
      "weighted avg       1.00      1.00      1.00      4557\n",
      "\n",
      "hasil prediksi  mbafika  : (0,1)\n",
      "[[120 120]\n",
      " [  0   0]]\n",
      "hasil prediksi  mbalinda  : (0,1)\n",
      "[[1544 1504]\n",
      " [   0    0]]\n"
     ]
    }
   ],
   "source": [
    "fitn2pred(rf,500,2500,df,dtf,dtl)"
   ]
  },
  {
   "cell_type": "code",
   "execution_count": 151,
   "metadata": {},
   "outputs": [
    {
     "name": "stdout",
     "output_type": "stream",
     "text": [
      "n = 250\n",
      "Best parameters found: {'bootstrap': True, 'max_features': 'auto', 'min_samples_leaf': 1, 'min_samples_split': 2, 'n_estimators': 250}\n",
      "Accuracy: 0.9995611147684881\n",
      "f1: 0.9985401459854014\n",
      "precision: 0.9985401459854014\n",
      "recall: 0.9985401459854014\n",
      "roc_auc: 0.9991409407612957\n",
      "Confusion matrix:\n",
      "[[3871    1]\n",
      " [   1  684]]\n",
      "Results on the train set:\n",
      "              precision    recall  f1-score   support\n",
      "\n",
      "           0       1.00      1.00      1.00      3872\n",
      "           1       1.00      1.00      1.00       685\n",
      "\n",
      "    accuracy                           1.00      4557\n",
      "   macro avg       1.00      1.00      1.00      4557\n",
      "weighted avg       1.00      1.00      1.00      4557\n",
      "\n",
      "hasil prediksi  mbafika  : (0,1)\n",
      "[[120 120]\n",
      " [  0   0]]\n",
      "hasil prediksi  mbalinda  : (0,1)\n",
      "[[1527 1521]\n",
      " [   0    0]]\n"
     ]
    }
   ],
   "source": [
    "fitn2pred(rf,1000,2500,df,dtf,dtl)"
   ]
  },
  {
   "cell_type": "code",
   "execution_count": null,
   "metadata": {},
   "outputs": [],
   "source": []
  },
  {
   "cell_type": "code",
   "execution_count": 148,
   "metadata": {},
   "outputs": [
    {
     "name": "stdout",
     "output_type": "stream",
     "text": [
      "n = 10\n",
      "Best parameters found: {'bootstrap': True, 'max_features': 'auto', 'min_samples_leaf': 1, 'min_samples_split': 2, 'n_estimators': 10}\n",
      "Accuracy: 0.9936361641430765\n",
      "f1: 0.9784706755753526\n",
      "precision: 0.9954682779456193\n",
      "recall: 0.962043795620438\n",
      "roc_auc: 0.980634501116004\n",
      "Confusion matrix:\n",
      "[[3869    3]\n",
      " [  26  659]]\n",
      "Results on the train set:\n",
      "              precision    recall  f1-score   support\n",
      "\n",
      "           0       0.99      1.00      1.00      3872\n",
      "           1       1.00      0.96      0.98       685\n",
      "\n",
      "    accuracy                           0.99      4557\n",
      "   macro avg       0.99      0.98      0.99      4557\n",
      "weighted avg       0.99      0.99      0.99      4557\n",
      "\n",
      "hasil prediksi  mbafika  : (0,1)\n",
      "[[145  95]\n",
      " [  0   0]]\n",
      "hasil prediksi  mbalinda  : (0,1)\n",
      "[[1746 1302]\n",
      " [   0    0]]\n"
     ]
    }
   ],
   "source": [
    "fitn2pred(rf,100,4500,df,dtf,dtl)"
   ]
  },
  {
   "cell_type": "code",
   "execution_count": 149,
   "metadata": {},
   "outputs": [
    {
     "name": "stdout",
     "output_type": "stream",
     "text": [
      "n = 50\n",
      "Best parameters found: {'bootstrap': True, 'max_features': 'auto', 'min_samples_leaf': 1, 'min_samples_split': 2, 'n_estimators': 50}\n",
      "Accuracy: 0.9993416721527321\n",
      "f1: 0.9978118161925601\n",
      "precision: 0.9970845481049563\n",
      "recall: 0.9985401459854014\n",
      "roc_auc: 0.9990118085298907\n",
      "Confusion matrix:\n",
      "[[3870    2]\n",
      " [   1  684]]\n",
      "Results on the train set:\n",
      "              precision    recall  f1-score   support\n",
      "\n",
      "           0       1.00      1.00      1.00      3872\n",
      "           1       1.00      1.00      1.00       685\n",
      "\n",
      "    accuracy                           1.00      4557\n",
      "   macro avg       1.00      1.00      1.00      4557\n",
      "weighted avg       1.00      1.00      1.00      4557\n",
      "\n",
      "hasil prediksi  mbafika  : (0,1)\n",
      "[[120 120]\n",
      " [  0   0]]\n",
      "hasil prediksi  mbalinda  : (0,1)\n",
      "[[1530 1518]\n",
      " [   0    0]]\n"
     ]
    }
   ],
   "source": [
    "fitn2pred(rf,300,4500,df,dtf,dtl)"
   ]
  },
  {
   "cell_type": "code",
   "execution_count": 150,
   "metadata": {},
   "outputs": [
    {
     "name": "stdout",
     "output_type": "stream",
     "text": [
      "n = 100\n",
      "Best parameters found: {'bootstrap': True, 'max_features': 'auto', 'min_samples_leaf': 1, 'min_samples_split': 2, 'n_estimators': 100}\n",
      "Accuracy: 0.9995611147684881\n",
      "f1: 0.9985401459854014\n",
      "precision: 0.9985401459854014\n",
      "recall: 0.9985401459854014\n",
      "roc_auc: 0.9991409407612957\n",
      "Confusion matrix:\n",
      "[[3871    1]\n",
      " [   1  684]]\n",
      "Results on the train set:\n",
      "              precision    recall  f1-score   support\n",
      "\n",
      "           0       1.00      1.00      1.00      3872\n",
      "           1       1.00      1.00      1.00       685\n",
      "\n",
      "    accuracy                           1.00      4557\n",
      "   macro avg       1.00      1.00      1.00      4557\n",
      "weighted avg       1.00      1.00      1.00      4557\n",
      "\n",
      "hasil prediksi  mbafika  : (0,1)\n",
      "[[120 120]\n",
      " [  0   0]]\n",
      "hasil prediksi  mbalinda  : (0,1)\n",
      "[[1544 1504]\n",
      " [   0    0]]\n"
     ]
    }
   ],
   "source": [
    "fitn2pred(rf,500,4500,df,dtf,dtl)"
   ]
  },
  {
   "cell_type": "code",
   "execution_count": 151,
   "metadata": {},
   "outputs": [
    {
     "name": "stdout",
     "output_type": "stream",
     "text": [
      "n = 250\n",
      "Best parameters found: {'bootstrap': True, 'max_features': 'auto', 'min_samples_leaf': 1, 'min_samples_split': 2, 'n_estimators': 250}\n",
      "Accuracy: 0.9995611147684881\n",
      "f1: 0.9985401459854014\n",
      "precision: 0.9985401459854014\n",
      "recall: 0.9985401459854014\n",
      "roc_auc: 0.9991409407612957\n",
      "Confusion matrix:\n",
      "[[3871    1]\n",
      " [   1  684]]\n",
      "Results on the train set:\n",
      "              precision    recall  f1-score   support\n",
      "\n",
      "           0       1.00      1.00      1.00      3872\n",
      "           1       1.00      1.00      1.00       685\n",
      "\n",
      "    accuracy                           1.00      4557\n",
      "   macro avg       1.00      1.00      1.00      4557\n",
      "weighted avg       1.00      1.00      1.00      4557\n",
      "\n",
      "hasil prediksi  mbafika  : (0,1)\n",
      "[[120 120]\n",
      " [  0   0]]\n",
      "hasil prediksi  mbalinda  : (0,1)\n",
      "[[1527 1521]\n",
      " [   0    0]]\n"
     ]
    }
   ],
   "source": [
    "fitn2pred(rf,1000,4500,df,dtf,dtl)"
   ]
  }
 ],
 "metadata": {
  "kernelspec": {
   "display_name": "Python 3",
   "language": "python",
   "name": "python3"
  },
  "language_info": {
   "codemirror_mode": {
    "name": "ipython",
    "version": 3
   },
   "file_extension": ".py",
   "mimetype": "text/x-python",
   "name": "python",
   "nbconvert_exporter": "python",
   "pygments_lexer": "ipython3",
   "version": "3.7.3"
  }
 },
 "nbformat": 4,
 "nbformat_minor": 4
}
