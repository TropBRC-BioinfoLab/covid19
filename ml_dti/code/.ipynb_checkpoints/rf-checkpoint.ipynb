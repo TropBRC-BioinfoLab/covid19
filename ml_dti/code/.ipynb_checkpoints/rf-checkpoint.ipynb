{
 "cells": [
  {
   "cell_type": "code",
   "execution_count": 95,
   "metadata": {},
   "outputs": [],
   "source": [
    "import numpy as np\n",
    "import pandas as pd\n",
    "\n",
    "from sklearn.metrics import classification_report\n",
    "from sklearn.metrics import confusion_matrix\n",
    "from sklearn.metrics import accuracy_score,f1_score, precision_score, recall_score, roc_auc_score\n",
    "\n",
    "from sklearn.svm import SVC\n",
    "from sklearn.ensemble import RandomForestClassifier\n",
    "from sklearn.model_selection import cross_val_score, GridSearchCV\n",
    "\n",
    "import pickle"
   ]
  },
  {
   "cell_type": "code",
   "execution_count": 113,
   "metadata": {},
   "outputs": [],
   "source": [
    "class uji(): \n",
    "    def __init__(self,data): \n",
    "        df0 = pd.read_csv('../data2/uji%snorm.csv'%data, delimiter= \",\", header=None)\n",
    "        df0=df0.fillna(0)\n",
    "        self.com=df0[0]\n",
    "        self.prot=df0[1282]\n",
    "        del df0[0]\n",
    "        del df0[1282]\n",
    "        self.x = np.array(df0)\n",
    "        df0[1300]=0\n",
    "        self.y=df0[1300]\n",
    "        self.dt=data\n",
    "class latih(): \n",
    "    def __init__(self,data): \n",
    "        df = pd.read_csv(\"../data2/%s.csv\"%data, delimiter=',')\n",
    "        df.head()\n",
    "        self.X = df.drop(['0','1282','label'], axis=1)\n",
    "        self.Y = df['label']\n",
    "        self.dt=data\n",
    "def dtuji(data): \n",
    "    return uji(data) \n",
    "def dtlatih(data): \n",
    "    return latih(data) \n",
    "\n",
    "dtf =dtuji('mbafika') #dtf.com, dtf.prot, dtf.x, dtf.y, dtf.dt\n",
    "dtl =dtuji('mbalinda') #dtl.com, dtl.prot, dtl.x, dtl.y dtl.dt\n",
    "df= dtlatih('latih_parted') #df.X,df.Y,df.dt"
   ]
  },
  {
   "cell_type": "markdown",
   "metadata": {},
   "source": [
    "#RF"
   ]
  },
  {
   "cell_type": "code",
   "execution_count": 54,
   "metadata": {},
   "outputs": [],
   "source": [
    "def rf(n,df):\n",
    "    random_grid = {'n_estimators': [n],\n",
    "                   'max_features': ['auto'],\n",
    "                   #'max_depth': max_depth,\n",
    "                   'min_samples_split': [2],\n",
    "                   'min_samples_leaf': [1],\n",
    "                   'bootstrap': [True]}\n",
    "    rf = RandomForestClassifier()\n",
    "    rf = GridSearchCV(rf, random_grid, n_jobs=-1, cv=5)\n",
    "    rf.fit(df.X, df.Y)\n",
    "    filename = '../data2/model/rf_%s'%n\n",
    "    pickle.dump(rf, open(filename, 'wb'))\n",
    "    return rf"
   ]
  },
  {
   "cell_type": "code",
   "execution_count": 123,
   "metadata": {},
   "outputs": [],
   "source": [
    "def report(model,n,df):\n",
    "    rf = pickle.load(open('../data2/model/{0}_{1}'.format(model.__name__,n), 'rb'))\n",
    "    pred_x = rf.predict(df.X)\n",
    "    print('Accuracy:',accuracy_score(df.Y, pred_x))\n",
    "    print('f1:',f1_score(df.Y, pred_x))\n",
    "    print('precision:',precision_score(df.Y, pred_x))\n",
    "    print('recall:',recall_score(df.Y, pred_x))\n",
    "    print('roc_auc:',roc_auc_score(df.Y, pred_x))\n",
    "    print('Confusion matrix:')\n",
    "    print(confusion_matrix(df.Y, pred_x))\n",
    "    print('Results on the train set:')\n",
    "    print(classification_report(df.Y, pred_x))\n",
    "    #pred_n = rf.predict(cX)\n",
    "    #print('Results on the all neg data:')\n",
    "    #print(classification_report(cY, pred_n))\n",
    "    print('Best parameters found:\\n', rf.best_params_)"
   ]
  },
  {
   "cell_type": "code",
   "execution_count": 124,
   "metadata": {},
   "outputs": [],
   "source": [
    "def model_(model,n,data):\n",
    "    md = model(n,data)\n",
    "    report(model,n,data)\n",
    "    return md"
   ]
  },
  {
   "cell_type": "code",
   "execution_count": 125,
   "metadata": {},
   "outputs": [],
   "source": [
    "def prediksi(md,model,n,data):\n",
    "    pred_x = md.predict(data.x)\n",
    "    print(confusion_matrix(data.y, pred_x))\n",
    "    pred_x = pd.DataFrame(pred_x)\n",
    "    pred_x[1] = data.com\n",
    "    pred_x[2] = data.prot\n",
    "    pred_x.to_excel('../data2/hasil_pred/{0}{1}_{2}.xlsx'.format(model.__name__,n,data.dt))"
   ]
  },
  {
   "cell_type": "code",
   "execution_count": 128,
   "metadata": {},
   "outputs": [],
   "source": [
    "def fitn2pred(model,n,datalatih,datauji1,datauji2):\n",
    "    md=model_(model,n,datalatih)\n",
    "    prediksi(md,model,n,datauji1)\n",
    "    prediksi(md,model,n,datauji2)"
   ]
  },
  {
   "cell_type": "code",
   "execution_count": 129,
   "metadata": {},
   "outputs": [
    {
     "name": "stdout",
     "output_type": "stream",
     "text": [
      "Accuracy: 0.9916611806012727\n",
      "f1: 0.9716417910447762\n",
      "precision: 0.9938931297709923\n",
      "recall: 0.9503649635036496\n",
      "roc_auc: 0.974665952826205\n",
      "Confusion matrix:\n",
      "[[3868    4]\n",
      " [  34  651]]\n",
      "Results on the train set:\n",
      "              precision    recall  f1-score   support\n",
      "\n",
      "           0       0.99      1.00      1.00      3872\n",
      "           1       0.99      0.95      0.97       685\n",
      "\n",
      "    accuracy                           0.99      4557\n",
      "   macro avg       0.99      0.97      0.98      4557\n",
      "weighted avg       0.99      0.99      0.99      4557\n",
      "\n",
      "Best parameters found:\n",
      " {'bootstrap': True, 'max_features': 'auto', 'min_samples_leaf': 1, 'min_samples_split': 2, 'n_estimators': 10}\n",
      "[[132 108]\n",
      " [  0   0]]\n",
      "[[1576 1472]\n",
      " [   0    0]]\n"
     ]
    }
   ],
   "source": [
    "fitn2pred(rf,10,df,dtf,dtl)"
   ]
  },
  {
   "cell_type": "code",
   "execution_count": null,
   "metadata": {},
   "outputs": [],
   "source": [
    "fitn2pred(rf,50,df,dtf,dtl)"
   ]
  },
  {
   "cell_type": "code",
   "execution_count": null,
   "metadata": {},
   "outputs": [],
   "source": [
    "fitn2pred(rf,100,df,dtf,dtl)"
   ]
  },
  {
   "cell_type": "code",
   "execution_count": null,
   "metadata": {},
   "outputs": [],
   "source": [
    "fitn2pred(rf,250,df,dtf,dtl)"
   ]
  },
  {
   "cell_type": "code",
   "execution_count": null,
   "metadata": {},
   "outputs": [],
   "source": [
    "fitn2pred(rf,500,df,dtf,dtl)"
   ]
  }
 ],
 "metadata": {
  "kernelspec": {
   "display_name": "Python 3",
   "language": "python",
   "name": "python3"
  },
  "language_info": {
   "codemirror_mode": {
    "name": "ipython",
    "version": 3
   },
   "file_extension": ".py",
   "mimetype": "text/x-python",
   "name": "python",
   "nbconvert_exporter": "python",
   "pygments_lexer": "ipython3",
   "version": "3.7.3"
  }
 },
 "nbformat": 4,
 "nbformat_minor": 4
}
