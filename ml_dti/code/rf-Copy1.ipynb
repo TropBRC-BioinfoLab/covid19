{
 "cells": [
  {
   "cell_type": "code",
   "execution_count": 1,
   "metadata": {},
   "outputs": [],
   "source": [
    "import numpy as np\n",
    "import pandas as pd\n",
    "\n",
    "from sklearn.metrics import classification_report\n",
    "from sklearn.metrics import confusion_matrix\n",
    "from sklearn.metrics import accuracy_score,f1_score, precision_score, recall_score, roc_auc_score\n",
    "\n",
    "from sklearn.svm import SVC\n",
    "from sklearn.ensemble import RandomForestClassifier\n",
    "from sklearn.model_selection import cross_val_score, GridSearchCV\n",
    "\n",
    "import pickle\n",
    "\n",
    "from sklearn.ensemble import BaggingClassifier\n",
    "from sklearn.tree import DecisionTreeClassifier"
   ]
  },
  {
   "cell_type": "code",
   "execution_count": null,
   "metadata": {},
   "outputs": [],
   "source": []
  },
  {
   "cell_type": "code",
   "execution_count": 2,
   "metadata": {},
   "outputs": [],
   "source": [
    "class uji(): \n",
    "    def __init__(self,data): \n",
    "        df0 = pd.read_csv('../data2/uji%snorm.csv'%data, delimiter= \",\", header=None)\n",
    "        df0=df0.fillna(0)\n",
    "        self.com=df0[0]\n",
    "        self.prot=df0[1282]\n",
    "        self.x =df0.drop([0,1282], axis=1)\n",
    "        df0[1300]=0\n",
    "        \n",
    "        self.y=df0[1300]\n",
    "        self.dt=data\n",
    "class latih(): \n",
    "    def __init__(self,data): \n",
    "        df = pd.read_csv(\"../data2/%s.csv\"%data, delimiter=',')\n",
    "        df.head()\n",
    "        self.X = df.drop(['0','1282','label'], axis=1)\n",
    "        self.Y = df['label']\n",
    "        self.dt=data\n",
    "def dtuji(data): \n",
    "    return uji(data) \n",
    "def dtlatih(data): \n",
    "    return latih(data) \n",
    "\n",
    "dtf =dtuji('mbafika') #dtf.com, dtf.prot, dtf.x, dtf.y, dtf.dt\n",
    "dtl =dtuji('mbalinda') #dtl.com, dtl.prot, dtl.x, dtl.y dtl.dt\n",
    "df= dtlatih('latih_parted') #df.X,df.Y,df.dt"
   ]
  },
  {
   "cell_type": "markdown",
   "metadata": {},
   "source": [
    "#RF"
   ]
  },
  {
   "cell_type": "code",
   "execution_count": 3,
   "metadata": {},
   "outputs": [],
   "source": [
    "def rf(n,m,df):\n",
    "    #random_grid = {'n_estimators': [n],\n",
    "   #                #'max_depth': max_depth,\n",
    "    #               'bootstrap': [True],\n",
    "    #               'max_samples':[m],}\n",
    "    rf = BaggingClassifier(n_estimators=n,bootstrap=True,max_samples=m,base_estimator=DecisionTreeClassifier(class_weight=\"balanced\"))\n",
    "    #rf = GridSearchCV(rf, random_grid, n_jobs=-1, cv=2)\n",
    "    rf.fit(df.X, df.Y)\n",
    "    filename = '../data2/model/rf_{0}n_{1}m_balanced'.format(n,m)\n",
    "    pickle.dump(rf, open(filename, 'wb'))\n",
    "    return rf"
   ]
  },
  {
   "cell_type": "markdown",
   "metadata": {},
   "source": [
    "#MLP"
   ]
  },
  {
   "cell_type": "code",
   "execution_count": null,
   "metadata": {},
   "outputs": [],
   "source": []
  },
  {
   "cell_type": "code",
   "execution_count": 4,
   "metadata": {},
   "outputs": [
    {
     "name": "stderr",
     "output_type": "stream",
     "text": [
      "Using TensorFlow backend.\n"
     ]
    }
   ],
   "source": [
    "from sklearn.model_selection import StratifiedKFold\n",
    "from sklearn.model_selection import cross_val_score\n",
    "from keras.models import Sequential\n",
    "from keras.layers import Dense\n",
    "from keras.wrappers.scikit_learn import KerasClassifier\n",
    "from sklearn.preprocessing import LabelEncoder\n",
    "from sklearn.preprocessing import StandardScaler\n",
    "from sklearn.pipeline import Pipeline\n",
    "from sklearn.neural_network import MLPClassifier"
   ]
  },
  {
   "cell_type": "code",
   "execution_count": 147,
   "metadata": {},
   "outputs": [],
   "source": [
    "def create_model():\n",
    "    # create model\n",
    "    model = Sequential()\n",
    "    model.add(Dense(640, input_dim=1281, init='normal', activation='relu'))\n",
    "    model.add(Dense(320, init='normal', activation='relu'))\n",
    "    model.add(Dense(1, init='normal', activation='sigmoid'))\n",
    "    # Compile model\n",
    "    model.compile(loss='binary_crossentropy', optimizer='adam', metrics=['accuracy'])\n",
    "    return model"
   ]
  },
  {
   "cell_type": "code",
   "execution_count": null,
   "metadata": {},
   "outputs": [],
   "source": []
  },
  {
   "cell_type": "code",
   "execution_count": 155,
   "metadata": {},
   "outputs": [],
   "source": [
    "def mlp(n,m,df):\n",
    "    mlp = MLPClassifier(max_iter=1000, batch_size=128,hidden_layer_sizes=(640,320,),activation= 'relu',\n",
    "                        solver= 'adam', alpha= 0.5,learning_rate= 'constant')\n",
    "    model = Sequential()\n",
    "    model.add(Dense(640, input_dim=1281, init='uniform', activation='relu'))\n",
    "    model.add(Dense(320, init='uniform', activation='relu'))\n",
    "    model.add(Dense(1, init='uniform', activation='sigmoid'))\n",
    "    estimators = []\n",
    "    estimators.append(('standardize', StandardScaler()))\n",
    "    estimators.append(('mlp', KerasClassifier(build_fn=create_model, nb_epoch=100, batch_size=128, verbose=0,class_weight=\"balanced\")))\n",
    "    pipeline = Pipeline(estimators)\n",
    "#    kfold = StratifiedKFold(n_splits=5, shuffle=True, random_state=seed)\n",
    "#    results = cross_val_score(pipeline, df.X, df.Y, cv=kfold)\n",
    "#    print(\"Results: %.2f%% (%.2f%%)\" % (results.mean()*100, results.std()*100))\n",
    "#    parameter_space = {\n",
    "#        'hidden_layer_sizes': [(640,320,)],\n",
    "#        'activation': ['relu'],\n",
    "#        'solver': ['adam'],\n",
    "#        'alpha': [0.5],\n",
    "#        'learning_rate': ['constant'],\n",
    "#    }\n",
    "    mlp.fit(df.X, df.Y,class_weight=\"balanced\")\n",
    "    filename = '../data2/model/mlp_{0}n_{1}m_balanced'.format(n,m)\n",
    "    pickle.dump(mlp, open(filename, 'wb'))\n",
    "    return mlp"
   ]
  },
  {
   "cell_type": "code",
   "execution_count": 156,
   "metadata": {},
   "outputs": [
    {
     "name": "stderr",
     "output_type": "stream",
     "text": [
      "D:\\Anaconda3\\lib\\site-packages\\ipykernel_launcher.py:5: UserWarning: Update your `Dense` call to the Keras 2 API: `Dense(640, input_dim=1281, activation=\"relu\", kernel_initializer=\"uniform\")`\n",
      "  \"\"\"\n",
      "D:\\Anaconda3\\lib\\site-packages\\ipykernel_launcher.py:6: UserWarning: Update your `Dense` call to the Keras 2 API: `Dense(320, activation=\"relu\", kernel_initializer=\"uniform\")`\n",
      "  \n",
      "D:\\Anaconda3\\lib\\site-packages\\ipykernel_launcher.py:7: UserWarning: Update your `Dense` call to the Keras 2 API: `Dense(1, activation=\"sigmoid\", kernel_initializer=\"uniform\")`\n",
      "  import sys\n"
     ]
    },
    {
     "name": "stdout",
     "output_type": "stream",
     "text": [
      "n = 10\n",
      "m = 100\n",
      "model file : mlp_10n_100m_balanced\n",
      "Parameters used: {'activation': 'relu', 'alpha': 0.5, 'batch_size': 128, 'beta_1': 0.9, 'beta_2': 0.999, 'early_stopping': False, 'epsilon': 1e-08, 'hidden_layer_sizes': (640, 320), 'learning_rate': 'constant', 'learning_rate_init': 0.001, 'max_iter': 1000, 'momentum': 0.9, 'n_iter_no_change': 10, 'nesterovs_momentum': True, 'power_t': 0.5, 'random_state': None, 'shuffle': True, 'solver': 'adam', 'tol': 0.0001, 'validation_fraction': 0.1, 'verbose': False, 'warm_start': False}\n",
      "Accuracy: 0.9918806232170287\n",
      "f1: 0.9727740986019131\n",
      "precision: 0.9821693907875185\n",
      "recall: 0.9635568513119533\n",
      "roc_auc: 0.9802284385725358\n",
      "Confusion matrix:\n",
      "[[3859   12]\n",
      " [  25  661]]\n",
      "Results on the train set:\n",
      "              precision    recall  f1-score   support\n",
      "\n",
      "           0       0.99      1.00      1.00      3871\n",
      "           1       0.98      0.96      0.97       686\n",
      "\n",
      "    accuracy                           0.99      4557\n",
      "   macro avg       0.99      0.98      0.98      4557\n",
      "weighted avg       0.99      0.99      0.99      4557\n",
      "\n",
      "thresholp %d \n",
      "hasil prediksi  mbafika  : (0,1)\n",
      "[[104 136]\n",
      " [  0   0]]\n",
      "   0  1               2                 3         4\n",
      "0  0  1  Syringaresinol    YP_009725307.1  0.974683\n",
      "1  0  1  Syringaresinol      K4LC41_9BETC  0.769926\n",
      "2  0  1  Syringaresinol  PLpro_SARS-CoV-2  0.937432\n",
      "3  0  1  Syringaresinol            6LU7:A  0.897836\n",
      "4  1  0  Syringaresinol            6M0J:A  0.083044\n",
      "0    1\n",
      "1    1\n",
      "2    1\n",
      "3    1\n",
      "4    0\n",
      "Name: 1, dtype: int32\n",
      "thresholp %d \n",
      "hasil prediksi  mbalinda  : (0,1)\n",
      "[[1450 1598]\n",
      " [   0    0]]\n",
      "   0  1                    2                 3         4\n",
      "0  0  1  Tetrahydroxyflavone    YP_009725307.1  0.980418\n",
      "1  0  1  Tetrahydroxyflavone      K4LC41_9BETC  0.933684\n",
      "2  0  1  Tetrahydroxyflavone  PLpro_SARS-CoV-2  0.970956\n",
      "3  0  1  Tetrahydroxyflavone            6LU7:A  0.862717\n",
      "4  1  0  Tetrahydroxyflavone            6M0J:A  0.336614\n",
      "0    1\n",
      "1    1\n",
      "2    1\n",
      "3    1\n",
      "4    0\n",
      "Name: 1, dtype: int32\n"
     ]
    }
   ],
   "source": [
    "fitn2pred(mlp,10,100,0.5,df,dtf,dtl)"
   ]
  },
  {
   "cell_type": "code",
   "execution_count": 133,
   "metadata": {},
   "outputs": [],
   "source": [
    "#SVM"
   ]
  },
  {
   "cell_type": "code",
   "execution_count": 28,
   "metadata": {},
   "outputs": [],
   "source": []
  },
  {
   "cell_type": "code",
   "execution_count": 5,
   "metadata": {},
   "outputs": [],
   "source": [
    "def svm1(n,m,df):\n",
    "    classifier0 = SVC(C=8.0, gamma=0.0078125,class_weight=\"balanced\",probability=True)\n",
    "    classifier0.fit(df.X, df.Y)\n",
    "    filename = '../data2/model/svm1_{0}n_{1}m_balanced'.format(n,m)\n",
    "    pickle.dump(classifier0, open(filename, 'wb'))\n",
    "    return classifier0"
   ]
  },
  {
   "cell_type": "code",
   "execution_count": 6,
   "metadata": {},
   "outputs": [],
   "source": [
    "def svm2(n,m,df):\n",
    "    classifier0 = SVC(C=0.125,kernel='poly' ,gamma=0.0078125,class_weight=\"balanced\",probability=True)\n",
    "    classifier0.fit(df.X, df.Y)\n",
    "    filename = '../data2/model/svm2_{0}n_{1}m_balanced'.format(n,m)\n",
    "    pickle.dump(classifier0, open(filename, 'wb'))\n",
    "    return classifier0"
   ]
  },
  {
   "cell_type": "code",
   "execution_count": 7,
   "metadata": {},
   "outputs": [],
   "source": [
    "def svm3(n,m,df):\n",
    "    class_weight={ 0:0.59, 1:3.33 }\n",
    "    classifier0 = SVC(C=8.0,kernel='rbf' ,gamma=0.0078125,class_weight=class_weight,probability=True)\n",
    "    classifier0.fit(df.X, df.Y)\n",
    "    filename = '../data2/model/svm3_{0}n_{1}m_balanced'.format(n,m)\n",
    "    pickle.dump(classifier0, open(filename, 'wb'))\n",
    "    return classifier0"
   ]
  },
  {
   "cell_type": "code",
   "execution_count": 8,
   "metadata": {},
   "outputs": [],
   "source": [
    "def fitn2pred(model,n,m,p,datalatih,datauji1,datauji2):\n",
    "    md=svm_model(model,n,m,datalatih)\n",
    "    prediksi(md,model,n,m,p,datauji1)\n",
    "    prediksi(md,model,n,m,p,datauji2)"
   ]
  },
  {
   "cell_type": "code",
   "execution_count": 14,
   "metadata": {},
   "outputs": [
    {
     "name": "stdout",
     "output_type": "stream",
     "text": [
      "n = 10\n",
      "m = 100\n",
      "model file : svm1_10n_100m_balanced\n",
      "Parameters used: {'C': 8.0, 'break_ties': False, 'cache_size': 200, 'class_weight': 'balanced', 'coef0': 0.0, 'decision_function_shape': 'ovr', 'degree': 3, 'gamma': 0.0078125, 'kernel': 'rbf', 'max_iter': -1, 'probability': True, 'random_state': None, 'shrinking': True, 'tol': 0.001, 'verbose': False}\n",
      "Accuracy: 0.9659863945578231\n",
      "f1: 0.8982271831910702\n",
      "precision: 0.8162291169451074\n",
      "recall: 0.9985401459854014\n",
      "roc_auc: 0.979383709356337\n",
      "Confusion matrix:\n",
      "[[3718  154]\n",
      " [   1  684]]\n",
      "Results on the train set:\n",
      "              precision    recall  f1-score   support\n",
      "\n",
      "           0       1.00      0.96      0.98      3872\n",
      "           1       0.82      1.00      0.90       685\n",
      "\n",
      "    accuracy                           0.97      4557\n",
      "   macro avg       0.91      0.98      0.94      4557\n",
      "weighted avg       0.97      0.97      0.97      4557\n",
      "\n",
      "threshold %f \n",
      "hasil prediksi  mbafika  : (0,1)\n",
      "[[199  41]\n",
      " [  0   0]]\n",
      "   0  1               2                 3         4\n",
      "0  1  0  Syringaresinol    YP_009725307.1  0.411271\n",
      "1  1  0  Syringaresinol      K4LC41_9BETC  0.196656\n",
      "2  1  0  Syringaresinol  PLpro_SARS-CoV-2  0.292085\n",
      "3  1  0  Syringaresinol            6LU7:A  0.462103\n",
      "4  1  0  Syringaresinol            6M0J:A  0.026620\n",
      "0    0\n",
      "1    0\n",
      "2    0\n",
      "3    0\n",
      "4    0\n",
      "Name: 1, dtype: int32\n",
      "threshold %f \n",
      "hasil prediksi  mbalinda  : (0,1)\n",
      "[[2474  574]\n",
      " [   0    0]]\n",
      "   0  1                    2                 3         4\n",
      "0  1  0  Tetrahydroxyflavone    YP_009725307.1  0.351289\n",
      "1  1  0  Tetrahydroxyflavone      K4LC41_9BETC  0.169476\n",
      "2  1  0  Tetrahydroxyflavone  PLpro_SARS-CoV-2  0.236009\n",
      "3  1  0  Tetrahydroxyflavone            6LU7:A  0.419207\n",
      "4  1  0  Tetrahydroxyflavone            6M0J:A  0.027762\n",
      "0    0\n",
      "1    0\n",
      "2    0\n",
      "3    0\n",
      "4    0\n",
      "Name: 1, dtype: int32\n"
     ]
    }
   ],
   "source": [
    "fitn2pred(svm1,10,100,0.5,df,dtf,dtl)"
   ]
  },
  {
   "cell_type": "code",
   "execution_count": null,
   "metadata": {},
   "outputs": [],
   "source": [
    "fitn2pred(svm2,0,0,0.5,df,dtf,dtl)"
   ]
  },
  {
   "cell_type": "code",
   "execution_count": null,
   "metadata": {},
   "outputs": [],
   "source": [
    "fitn2pred(svm3,0,0,0.5,df,dtf,dtl)"
   ]
  },
  {
   "cell_type": "code",
   "execution_count": 14,
   "metadata": {},
   "outputs": [],
   "source": [
    "def mlp_model(model,n,m,data):\n",
    "    md = mlp(n,m,data)\n",
    "    report(model,n,m,data)\n",
    "    return md"
   ]
  },
  {
   "cell_type": "code",
   "execution_count": 15,
   "metadata": {},
   "outputs": [],
   "source": [
    "def define_model(mod,n,m,data):\n",
    "    md = (sys.modules[__name__], \"%s\" % mod.__name__)(n,m,data)\n",
    "    report(mod,n,m,data)\n",
    "    return md"
   ]
  },
  {
   "cell_type": "code",
   "execution_count": null,
   "metadata": {},
   "outputs": [],
   "source": []
  },
  {
   "cell_type": "code",
   "execution_count": 16,
   "metadata": {},
   "outputs": [],
   "source": [
    "def rf_model(model,n,m,data):\n",
    "    md = rf(n,m,data)\n",
    "    report(model,n,m,data)\n",
    "    return md"
   ]
  },
  {
   "cell_type": "code",
   "execution_count": 10,
   "metadata": {},
   "outputs": [],
   "source": [
    "def svm_model(model,n,m,data):\n",
    "    md = svm1(n,m,data)\n",
    "    report(model,n,m,data)\n",
    "    return md"
   ]
  },
  {
   "cell_type": "code",
   "execution_count": 135,
   "metadata": {},
   "outputs": [],
   "source": [
    "#SCORE"
   ]
  },
  {
   "cell_type": "code",
   "execution_count": 12,
   "metadata": {},
   "outputs": [],
   "source": [
    "def report(model,n,m,df):\n",
    "    rf = pickle.load(open('../data2/model/{0}_{1}n_{2}m_balanced'.format(model.__name__,n,m), 'rb'))\n",
    "    pred_x = rf.predict(df.X)\n",
    "    print('n = {0}'.format(n))\n",
    "    print('m = {0}'.format(m))\n",
    "    print('model file : {0}_{1}n_{2}m_balanced'.format(model.__name__,n,m))\n",
    "    print('Parameters used:', rf.get_params() )\n",
    "    #print('Best parameters found:', rf.best_params_)\n",
    "    print('Accuracy:',accuracy_score(df.Y, pred_x))\n",
    "    print('f1:',f1_score(df.Y, pred_x))\n",
    "    print('precision:',precision_score(df.Y, pred_x))\n",
    "    print('recall:',recall_score(df.Y, pred_x))\n",
    "    print('roc_auc:',roc_auc_score(df.Y, pred_x))\n",
    "    print('Confusion matrix:')\n",
    "    print(confusion_matrix(df.Y, pred_x))\n",
    "    print('Results on the train set:')\n",
    "    print(classification_report(df.Y, pred_x))\n",
    "    #pred_n = rf.predict(cX)\n",
    "    #print('Results on the all neg data:')\n",
    "    #print(classification_report(cY, pred_n))\n",
    "    "
   ]
  },
  {
   "cell_type": "code",
   "execution_count": null,
   "metadata": {},
   "outputs": [],
   "source": []
  },
  {
   "cell_type": "code",
   "execution_count": null,
   "metadata": {},
   "outputs": [],
   "source": []
  },
  {
   "cell_type": "code",
   "execution_count": 13,
   "metadata": {},
   "outputs": [],
   "source": [
    "def prediksi(md,model,n,m,p,data):\n",
    "    pred_x = pd.DataFrame(md.predict_proba(data.x))\n",
    "    prob_x = pd.DataFrame(np.where(pred_x >= p, 1,0))\n",
    "    print(\"threshold %f \".format(p))\n",
    "    print(\"hasil prediksi \",data.dt,\" : (0,1)\")\n",
    "    print(confusion_matrix(data.y, prob_x[1]))\n",
    "    pred = pd.DataFrame(prob_x)\n",
    "    pred[2] = data.com\n",
    "    pred[3] = data.prot\n",
    "    #print(pred.head())\n",
    "    #print(prob_x)\n",
    "    pred[4] = pred_x[1]\n",
    "    print(pred.head())\n",
    "    print(pd.DataFrame(prob_x)[1].head())\n",
    "    pred.to_excel('../data2/hasil_pred/{0}_{1}n_{2}m_{3}p_{4}_balanced.xlsx'.format(model.__name__,n,m,p,data.dt))"
   ]
  },
  {
   "cell_type": "code",
   "execution_count": 11,
   "metadata": {},
   "outputs": [],
   "source": [
    "import sys\n",
    "\n"
   ]
  },
  {
   "cell_type": "code",
   "execution_count": 12,
   "metadata": {},
   "outputs": [],
   "source": [
    "def fitn2pred(model,n,m,p,datalatih,datauji1,datauji2):\n",
    "    md=svm1_model(model,n,m,datalatih)\n",
    "    prediksi(md,model,n,m,p,datauji1)\n",
    "    prediksi(md,model,n,m,p,datauji2)"
   ]
  },
  {
   "cell_type": "code",
   "execution_count": 173,
   "metadata": {},
   "outputs": [
    {
     "ename": "AttributeError",
     "evalue": "module '__main__' has no attribute 'svm_model'",
     "output_type": "error",
     "traceback": [
      "\u001b[1;31m---------------------------------------------------------------------------\u001b[0m",
      "\u001b[1;31mAttributeError\u001b[0m                            Traceback (most recent call last)",
      "\u001b[1;32m<ipython-input-173-39e34b1e90fc>\u001b[0m in \u001b[0;36m<module>\u001b[1;34m\u001b[0m\n\u001b[1;32m----> 1\u001b[1;33m \u001b[0mfitn2pred\u001b[0m\u001b[1;33m(\u001b[0m\u001b[0msvm\u001b[0m\u001b[1;33m,\u001b[0m\u001b[1;36m10\u001b[0m\u001b[1;33m,\u001b[0m\u001b[1;36m100\u001b[0m\u001b[1;33m,\u001b[0m\u001b[1;36m0.5\u001b[0m\u001b[1;33m,\u001b[0m\u001b[0mdf\u001b[0m\u001b[1;33m,\u001b[0m\u001b[0mdtf\u001b[0m\u001b[1;33m,\u001b[0m\u001b[0mdtl\u001b[0m\u001b[1;33m)\u001b[0m\u001b[1;33m\u001b[0m\u001b[1;33m\u001b[0m\u001b[0m\n\u001b[0m",
      "\u001b[1;32m<ipython-input-171-6272bbd98e29>\u001b[0m in \u001b[0;36mfitn2pred\u001b[1;34m(mod, n, m, p, datalatih, datauji1, datauji2)\u001b[0m\n\u001b[0;32m      1\u001b[0m \u001b[1;32mdef\u001b[0m \u001b[0mfitn2pred\u001b[0m\u001b[1;33m(\u001b[0m\u001b[0mmod\u001b[0m\u001b[1;33m,\u001b[0m\u001b[0mn\u001b[0m\u001b[1;33m,\u001b[0m\u001b[0mm\u001b[0m\u001b[1;33m,\u001b[0m\u001b[0mp\u001b[0m\u001b[1;33m,\u001b[0m\u001b[0mdatalatih\u001b[0m\u001b[1;33m,\u001b[0m\u001b[0mdatauji1\u001b[0m\u001b[1;33m,\u001b[0m\u001b[0mdatauji2\u001b[0m\u001b[1;33m)\u001b[0m\u001b[1;33m:\u001b[0m\u001b[1;33m\u001b[0m\u001b[1;33m\u001b[0m\u001b[0m\n\u001b[1;32m----> 2\u001b[1;33m     \u001b[0mmd\u001b[0m\u001b[1;33m=\u001b[0m\u001b[0mgetattr\u001b[0m\u001b[1;33m(\u001b[0m\u001b[0msys\u001b[0m\u001b[1;33m.\u001b[0m\u001b[0mmodules\u001b[0m\u001b[1;33m[\u001b[0m\u001b[0m__name__\u001b[0m\u001b[1;33m]\u001b[0m\u001b[1;33m,\u001b[0m \u001b[1;34m\"%s_model\"\u001b[0m \u001b[1;33m%\u001b[0m \u001b[0mmod\u001b[0m\u001b[1;33m.\u001b[0m\u001b[0m__name__\u001b[0m\u001b[1;33m)\u001b[0m\u001b[1;33m(\u001b[0m\u001b[0mmod\u001b[0m\u001b[1;33m,\u001b[0m\u001b[0mn\u001b[0m\u001b[1;33m,\u001b[0m\u001b[0mm\u001b[0m\u001b[1;33m,\u001b[0m\u001b[0mdatalatih\u001b[0m\u001b[1;33m)\u001b[0m\u001b[1;33m\u001b[0m\u001b[1;33m\u001b[0m\u001b[0m\n\u001b[0m\u001b[0;32m      3\u001b[0m     \u001b[0mprediksi\u001b[0m\u001b[1;33m(\u001b[0m\u001b[0mmd\u001b[0m\u001b[1;33m,\u001b[0m\u001b[0mmod\u001b[0m\u001b[1;33m,\u001b[0m\u001b[0mn\u001b[0m\u001b[1;33m,\u001b[0m\u001b[0mm\u001b[0m\u001b[1;33m,\u001b[0m\u001b[0mp\u001b[0m\u001b[1;33m,\u001b[0m\u001b[0mdatauji1\u001b[0m\u001b[1;33m)\u001b[0m\u001b[1;33m\u001b[0m\u001b[1;33m\u001b[0m\u001b[0m\n\u001b[0;32m      4\u001b[0m     \u001b[0mprediksi\u001b[0m\u001b[1;33m(\u001b[0m\u001b[0mmd\u001b[0m\u001b[1;33m,\u001b[0m\u001b[0mmod\u001b[0m\u001b[1;33m,\u001b[0m\u001b[0mn\u001b[0m\u001b[1;33m,\u001b[0m\u001b[0mm\u001b[0m\u001b[1;33m,\u001b[0m\u001b[0mp\u001b[0m\u001b[1;33m,\u001b[0m\u001b[0mdatauji2\u001b[0m\u001b[1;33m)\u001b[0m\u001b[1;33m\u001b[0m\u001b[1;33m\u001b[0m\u001b[0m\n",
      "\u001b[1;31mAttributeError\u001b[0m: module '__main__' has no attribute 'svm_model'"
     ]
    }
   ],
   "source": [
    "fitn2pred(svm,10,100,0.5,df,dtf,dtl)"
   ]
  },
  {
   "cell_type": "code",
   "execution_count": 45,
   "metadata": {},
   "outputs": [],
   "source": [
    "#fitn2pred(rf,100,1000,df,dtf,dtl)"
   ]
  },
  {
   "cell_type": "code",
   "execution_count": 46,
   "metadata": {},
   "outputs": [],
   "source": [
    "#fitn2pred(rf,300,1000,df,dtf,dtl)"
   ]
  },
  {
   "cell_type": "code",
   "execution_count": 47,
   "metadata": {},
   "outputs": [],
   "source": [
    "#fitn2pred(rf,500,1000,df,dtf,dtl)"
   ]
  },
  {
   "cell_type": "code",
   "execution_count": 48,
   "metadata": {},
   "outputs": [],
   "source": [
    "#fitn2pred(rf,1000,1000,df,dtf,dtl)"
   ]
  },
  {
   "cell_type": "code",
   "execution_count": null,
   "metadata": {},
   "outputs": [],
   "source": []
  },
  {
   "cell_type": "code",
   "execution_count": 49,
   "metadata": {},
   "outputs": [],
   "source": [
    "#fitn2pred(rf,100,2500,df,dtf,dtl)"
   ]
  },
  {
   "cell_type": "code",
   "execution_count": 113,
   "metadata": {},
   "outputs": [
    {
     "name": "stdout",
     "output_type": "stream",
     "text": [
      "n = 300\n",
      "m = 2500\n",
      "model file : rf_300n_2500m_balanced\n",
      "Parameters used: {'base_estimator__class_weight': 'balanced', 'base_estimator__criterion': 'gini', 'base_estimator__max_depth': None, 'base_estimator__max_features': None, 'base_estimator__max_leaf_nodes': None, 'base_estimator__min_impurity_decrease': 0.0, 'base_estimator__min_impurity_split': None, 'base_estimator__min_samples_leaf': 1, 'base_estimator__min_samples_split': 2, 'base_estimator__min_weight_fraction_leaf': 0.0, 'base_estimator__presort': False, 'base_estimator__random_state': None, 'base_estimator__splitter': 'best', 'base_estimator': DecisionTreeClassifier(class_weight='balanced', criterion='gini',\n",
      "                       max_depth=None, max_features=None, max_leaf_nodes=None,\n",
      "                       min_impurity_decrease=0.0, min_impurity_split=None,\n",
      "                       min_samples_leaf=1, min_samples_split=2,\n",
      "                       min_weight_fraction_leaf=0.0, presort=False,\n",
      "                       random_state=None, splitter='best'), 'bootstrap': True, 'bootstrap_features': False, 'max_features': 1.0, 'max_samples': 2500, 'n_estimators': 300, 'n_jobs': None, 'oob_score': False, 'random_state': None, 'verbose': 0, 'warm_start': False}\n",
      "Accuracy: 0.9842001316655694\n",
      "f1: 0.9455370650529501\n",
      "precision: 0.9827044025157232\n",
      "recall: 0.9110787172011662\n",
      "roc_auc: 0.9541185371074289\n",
      "Confusion matrix:\n",
      "[[3860   11]\n",
      " [  61  625]]\n",
      "Results on the train set:\n",
      "              precision    recall  f1-score   support\n",
      "\n",
      "           0       0.98      1.00      0.99      3871\n",
      "           1       0.98      0.91      0.95       686\n",
      "\n",
      "    accuracy                           0.98      4557\n",
      "   macro avg       0.98      0.95      0.97      4557\n",
      "weighted avg       0.98      0.98      0.98      4557\n",
      "\n",
      "thresholp %d \n",
      "hasil prediksi  mbafika  : (0,1)\n",
      "[[208  32]\n",
      " [  0   0]]\n",
      "   0  1               2                 3         4\n",
      "0  1  0  Syringaresinol    YP_009725307.1  0.300000\n",
      "1  1  0  Syringaresinol      K4LC41_9BETC  0.276667\n",
      "2  1  0  Syringaresinol  PLpro_SARS-CoV-2  0.343333\n",
      "3  1  0  Syringaresinol            6LU7:A  0.413333\n",
      "4  1  0  Syringaresinol            6M0J:A  0.056667\n",
      "0    0\n",
      "1    0\n",
      "2    0\n",
      "3    0\n",
      "4    0\n",
      "Name: 1, dtype: int32\n",
      "thresholp %d \n",
      "hasil prediksi  mbalinda  : (0,1)\n",
      "[[2346  702]\n",
      " [   0    0]]\n",
      "   0  1                    2                 3         4\n",
      "0  1  0  Tetrahydroxyflavone    YP_009725307.1  0.196667\n",
      "1  1  0  Tetrahydroxyflavone      K4LC41_9BETC  0.240000\n",
      "2  1  0  Tetrahydroxyflavone  PLpro_SARS-CoV-2  0.286667\n",
      "3  1  0  Tetrahydroxyflavone            6LU7:A  0.360000\n",
      "4  1  0  Tetrahydroxyflavone            6M0J:A  0.100000\n",
      "0    0\n",
      "1    0\n",
      "2    0\n",
      "3    0\n",
      "4    0\n",
      "Name: 1, dtype: int32\n"
     ]
    }
   ],
   "source": [
    "fitn2pred(rf,300,2500,0.5,df,dtf,dtl)"
   ]
  },
  {
   "cell_type": "code",
   "execution_count": 114,
   "metadata": {},
   "outputs": [],
   "source": [
    "#fitn2pred(rf,500,2500,df,dtf,dtl)"
   ]
  },
  {
   "cell_type": "code",
   "execution_count": 115,
   "metadata": {},
   "outputs": [],
   "source": [
    "#fitn2pred(rf,1000,2500,df,dtf,dtl)"
   ]
  },
  {
   "cell_type": "code",
   "execution_count": null,
   "metadata": {},
   "outputs": [],
   "source": []
  },
  {
   "cell_type": "code",
   "execution_count": 116,
   "metadata": {},
   "outputs": [],
   "source": [
    "#fitn2pred(rf,100,3500,df,dtf,dtl)"
   ]
  },
  {
   "cell_type": "code",
   "execution_count": 117,
   "metadata": {},
   "outputs": [],
   "source": [
    "#fitn2pred(rf,300,3500,df,dtf,dtl)"
   ]
  },
  {
   "cell_type": "code",
   "execution_count": 118,
   "metadata": {},
   "outputs": [],
   "source": [
    "#fitn2pred(rf,500,3500,df,dtf,dtl)"
   ]
  },
  {
   "cell_type": "code",
   "execution_count": 180,
   "metadata": {},
   "outputs": [
    {
     "name": "stdout",
     "output_type": "stream",
     "text": [
      "n = 1000\n",
      "m = 3500\n",
      "model file : rf_1000n_3500m_balanced\n",
      "Parameters used: {'base_estimator__class_weight': 'balanced', 'base_estimator__criterion': 'gini', 'base_estimator__max_depth': None, 'base_estimator__max_features': None, 'base_estimator__max_leaf_nodes': None, 'base_estimator__min_impurity_decrease': 0.0, 'base_estimator__min_impurity_split': None, 'base_estimator__min_samples_leaf': 1, 'base_estimator__min_samples_split': 2, 'base_estimator__min_weight_fraction_leaf': 0.0, 'base_estimator__presort': False, 'base_estimator__random_state': None, 'base_estimator__splitter': 'best', 'base_estimator': DecisionTreeClassifier(class_weight='balanced', criterion='gini',\n",
      "                       max_depth=None, max_features=None, max_leaf_nodes=None,\n",
      "                       min_impurity_decrease=0.0, min_impurity_split=None,\n",
      "                       min_samples_leaf=1, min_samples_split=2,\n",
      "                       min_weight_fraction_leaf=0.0, presort=False,\n",
      "                       random_state=None, splitter='best'), 'bootstrap': True, 'bootstrap_features': False, 'max_features': 1.0, 'max_samples': 3500, 'n_estimators': 1000, 'n_jobs': None, 'oob_score': False, 'random_state': None, 'verbose': 0, 'warm_start': False}\n",
      "Accuracy: 0.9995611147684881\n",
      "f1: 0.9985422740524781\n",
      "precision: 0.9985422740524781\n",
      "recall: 0.9985422740524781\n",
      "roc_auc: 0.9991419714359523\n",
      "Confusion matrix:\n",
      "[[3870    1]\n",
      " [   1  685]]\n",
      "Results on the train set:\n",
      "              precision    recall  f1-score   support\n",
      "\n",
      "           0       1.00      1.00      1.00      3871\n",
      "           1       1.00      1.00      1.00       686\n",
      "\n",
      "    accuracy                           1.00      4557\n",
      "   macro avg       1.00      1.00      1.00      4557\n",
      "weighted avg       1.00      1.00      1.00      4557\n",
      "\n",
      "thresholp %d \n",
      "hasil prediksi  mbafika  : (0,1)\n",
      "[[215  25]\n",
      " [  0   0]]\n",
      "   0  1               2                 3      4\n",
      "0  1  0  Syringaresinol    YP_009725307.1  0.283\n",
      "1  1  0  Syringaresinol      K4LC41_9BETC  0.272\n",
      "2  1  0  Syringaresinol  PLpro_SARS-CoV-2  0.340\n",
      "3  1  0  Syringaresinol            6LU7:A  0.417\n",
      "4  1  0  Syringaresinol            6M0J:A  0.058\n",
      "0    0\n",
      "1    0\n",
      "2    0\n",
      "3    0\n",
      "4    0\n",
      "Name: 1, dtype: int32\n",
      "thresholp %d \n",
      "hasil prediksi  mbalinda  : (0,1)\n",
      "[[2341  707]\n",
      " [   0    0]]\n",
      "   0  1                    2                 3         4\n",
      "0  1  0  Tetrahydroxyflavone    YP_009725307.1  0.222000\n",
      "1  1  0  Tetrahydroxyflavone      K4LC41_9BETC  0.256000\n",
      "2  1  0  Tetrahydroxyflavone  PLpro_SARS-CoV-2  0.286000\n",
      "3  1  0  Tetrahydroxyflavone            6LU7:A  0.374000\n",
      "4  1  0  Tetrahydroxyflavone            6M0J:A  0.088738\n",
      "0    0\n",
      "1    0\n",
      "2    0\n",
      "3    0\n",
      "4    0\n",
      "Name: 1, dtype: int32\n"
     ]
    }
   ],
   "source": [
    "fitn2pred(rf,1000,3500,0.5,df,dtf,dtl)"
   ]
  },
  {
   "cell_type": "code",
   "execution_count": null,
   "metadata": {},
   "outputs": [],
   "source": []
  }
 ],
 "metadata": {
  "kernelspec": {
   "display_name": "Python 3",
   "language": "python",
   "name": "python3"
  },
  "language_info": {
   "codemirror_mode": {
    "name": "ipython",
    "version": 3
   },
   "file_extension": ".py",
   "mimetype": "text/x-python",
   "name": "python",
   "nbconvert_exporter": "python",
   "pygments_lexer": "ipython3",
   "version": "3.7.3"
  }
 },
 "nbformat": 4,
 "nbformat_minor": 4
}
