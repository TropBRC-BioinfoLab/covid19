{
 "cells": [
  {
   "cell_type": "code",
   "execution_count": null,
   "metadata": {},
   "outputs": [],
   "source": []
  },
  {
   "cell_type": "code",
   "execution_count": 1,
   "metadata": {},
   "outputs": [],
   "source": [
    "import numpy as np\n",
    "import pandas as pd\n",
    "\n",
    "from sklearn.metrics import classification_report\n",
    "from sklearn.metrics import confusion_matrix\n",
    "from sklearn.metrics import accuracy_score,f1_score, precision_score, recall_score, roc_auc_score\n",
    "\n",
    "from sklearn.svm import SVC\n",
    "from sklearn.ensemble import RandomForestClassifier\n",
    "from sklearn.model_selection import cross_val_score, GridSearchCV\n",
    "\n",
    "import pickle\n",
    "\n",
    "from sklearn.ensemble import BaggingClassifier\n",
    "from sklearn.tree import DecisionTreeClassifier"
   ]
  },
  {
   "cell_type": "code",
   "execution_count": 2,
   "metadata": {},
   "outputs": [],
   "source": [
    "#a"
   ]
  },
  {
   "cell_type": "code",
   "execution_count": 4,
   "metadata": {},
   "outputs": [],
   "source": [
    "class uji(): \n",
    "    def __init__(self,data): \n",
    "        df0 = pd.read_csv('../data5/uji%snorm.csv'%data, delimiter= \",\", header=None)\n",
    "        df0=df0.fillna(0)\n",
    "        self.com=df0[0]\n",
    "        self.prot=df0[1282]\n",
    "        self.x =df0.drop([0,1282], axis=1)\n",
    "        df0[1300]=0\n",
    "        \n",
    "        self.y=df0[1300]\n",
    "        self.dt=data\n",
    "class latih(): \n",
    "    def __init__(self,data): \n",
    "        df = pd.read_csv(\"../data5/%s.csv\"%data, delimiter=',')\n",
    "        df.head()\n",
    "        self.X = df.drop(['label'], axis=1)\n",
    "        self.Y = df['label']\n",
    "        self.dt=data\n",
    "def dtuji(data): \n",
    "    return uji(data) \n",
    "def dtlatih(data): \n",
    "    return latih(data) \n",
    "\n",
    "dtf =dtuji('mbafika') #dtf.com, dtf.prot, dtf.x, dtf.y, dtf.dt\n",
    "dtl =dtuji('mbalinda') #dtl.com, dtl.prot, dtl.x, dtl.y dtl.dt\n",
    "dtt =dtuji('tambahan_2') #dtl.com, dtl.prot, dtl.x, dtl.y dtl.dt\n",
    "df1= dtlatih('hasilsmote_spike30_1') #df1.X,df1.Y,df1.dt\n",
    "df2= dtlatih('hasilsmote_spike30_2') #df2.X,df2.Y,df2.dt\n",
    "df3= dtlatih('hasilsmote_spike30_3') #df3.X,df3.Y,df3.dt\n",
    "df4= dtlatih('hasilsmote_spike30_4') #df4.X,df4.Y,df4.dt\n",
    "df5= dtlatih('hasilsmote_spike30_5') #df5.X,df5.Y,df5.dt"
   ]
  },
  {
   "cell_type": "code",
   "execution_count": 5,
   "metadata": {},
   "outputs": [],
   "source": [
    "dtg =dtuji('gabung') #dtl.com, dtl.prot, dtl.x, dtl.y dtl.dt"
   ]
  },
  {
   "cell_type": "code",
   "execution_count": 7,
   "metadata": {},
   "outputs": [],
   "source": [
    "def load_model(model,o):\n",
    "    rf = pickle.load(open('../data5/model/{0}_hasilsmote_spike30_{1}'.format(model,o), 'rb'))\n",
    "#     print('{0}_hasilsmote_{1}'.format(model.__name__,o))\n",
    "#     print('Best parameters found:', rf.best_params_)\n",
    "#     print('AUC :',rf.cv_results_['mean_test_AUC'])\n",
    "#     print('Accuracy :',rf.cv_results_['mean_test_Accuracy'])\n",
    "#     print('F-measure :',rf.cv_results_['mean_test_F-measure'])\n",
    "#     print('Precision :',rf.cv_results_['mean_test_Precision'])\n",
    "#     print('Recall :',rf.cv_results_['mean_test_Recall'])\n",
    "    return rf"
   ]
  },
  {
   "cell_type": "code",
   "execution_count": 8,
   "metadata": {},
   "outputs": [],
   "source": [
    "def load_model2(model,o):\n",
    "    rf = pickle.load(open('../data5/model/{0}_hasilsmote_spike30_{1}'.format(model,o), 'rb'))\n",
    "    return rf"
   ]
  },
  {
   "cell_type": "code",
   "execution_count": 9,
   "metadata": {},
   "outputs": [],
   "source": [
    "\n",
    "def prediksi(md,model,p,data,d):\n",
    "    pred_x = pd.DataFrame(md.predict_proba(data.x))\n",
    "    prob_x = pd.DataFrame(np.where(pred_x >= p, 1,0))\n",
    "    print(\"threshold {0} \".format(p))\n",
    "    print(\"{0}_hasilsmote_{1} \".format(model,d))\n",
    "    print(\"hasil prediksi \",data.dt,\" : (0,1)\")\n",
    "    print(confusion_matrix(data.y, prob_x[1]))\n",
    "    pred = pd.DataFrame(prob_x[1])\n",
    "    pred=pred.drop([0])\n",
    "    pred[2] = data.com\n",
    "    pred[3] = data.prot\n",
    "    #print(pred.head())\n",
    "    #print(prob_x)\n",
    "    pred[4] = pred_x[1]\n",
    "    #print(pred.head())\n",
    "    #print(pd.DataFrame(prob_x)[1].head())\n",
    "    pred.to_excel('../data5/hasil_pred/{0}_{1}p_{2}_modelhasilsmote{3}.xlsx'.format(model,p,data.dt,d))"
   ]
  },
  {
   "cell_type": "code",
   "execution_count": 10,
   "metadata": {},
   "outputs": [],
   "source": [
    "def pred3(model,p,datauji1,datauji2,datauji3,d):\n",
    "    md=load_model(model,d)\n",
    "    prediksi(md,model,p,datauji1,d)\n",
    "    prediksi(md,model,p,datauji2,d)\n",
    "    prediksi(md,model,p,datauji3,d)\n",
    "def pred2(model,p,datauji1,datauji2,d):\n",
    "    md=load_model(model,d)\n",
    "    prediksi(md,model,p,datauji1,d)\n",
    "    prediksi(md,model,p,datauji2,d)\n",
    "def pred(model,p,datauji1,d):\n",
    "    md=load_model(model,d)\n",
    "    prediksi(md,model,p,datauji1,d)"
   ]
  },
  {
   "cell_type": "code",
   "execution_count": 11,
   "metadata": {},
   "outputs": [
    {
     "name": "stdout",
     "output_type": "stream",
     "text": [
      "threshold 0.5 \n",
      "mlp_hasilsmote_2 \n",
      "hasil prediksi  mbafika  : (0,1)\n",
      "[[127 113]\n",
      " [  0   0]]\n",
      "threshold 0.5 \n",
      "mlp_hasilsmote_2 \n",
      "hasil prediksi  mbalinda  : (0,1)\n",
      "[[1558 1490]\n",
      " [   0    0]]\n",
      "threshold 0.5 \n",
      "mlp_hasilsmote_2 \n",
      "hasil prediksi  tambahan_2  : (0,1)\n",
      "[[128 200]\n",
      " [  0   0]]\n",
      "threshold 0.5 \n",
      "mlp_hasilsmote_1 \n",
      "hasil prediksi  mbafika  : (0,1)\n",
      "[[148  92]\n",
      " [  0   0]]\n",
      "threshold 0.5 \n",
      "mlp_hasilsmote_1 \n",
      "hasil prediksi  mbalinda  : (0,1)\n",
      "[[1833 1215]\n",
      " [   0    0]]\n",
      "threshold 0.5 \n",
      "mlp_hasilsmote_1 \n",
      "hasil prediksi  tambahan_2  : (0,1)\n",
      "[[147 181]\n",
      " [  0   0]]\n",
      "threshold 0.5 \n",
      "mlp_hasilsmote_3 \n",
      "hasil prediksi  mbafika  : (0,1)\n",
      "[[142  98]\n",
      " [  0   0]]\n",
      "threshold 0.5 \n",
      "mlp_hasilsmote_3 \n",
      "hasil prediksi  mbalinda  : (0,1)\n",
      "[[1733 1315]\n",
      " [   0    0]]\n",
      "threshold 0.5 \n",
      "mlp_hasilsmote_3 \n",
      "hasil prediksi  tambahan_2  : (0,1)\n",
      "[[178 150]\n",
      " [  0   0]]\n",
      "threshold 0.5 \n",
      "mlp_hasilsmote_4 \n",
      "hasil prediksi  mbafika  : (0,1)\n",
      "[[122 118]\n",
      " [  0   0]]\n",
      "threshold 0.5 \n",
      "mlp_hasilsmote_4 \n",
      "hasil prediksi  mbalinda  : (0,1)\n",
      "[[1373 1675]\n",
      " [   0    0]]\n",
      "threshold 0.5 \n",
      "mlp_hasilsmote_4 \n",
      "hasil prediksi  tambahan_2  : (0,1)\n",
      "[[119 209]\n",
      " [  0   0]]\n",
      "threshold 0.5 \n",
      "mlp_hasilsmote_5 \n",
      "hasil prediksi  mbafika  : (0,1)\n",
      "[[161  79]\n",
      " [  0   0]]\n",
      "threshold 0.5 \n",
      "mlp_hasilsmote_5 \n",
      "hasil prediksi  mbalinda  : (0,1)\n",
      "[[1998 1050]\n",
      " [   0    0]]\n",
      "threshold 0.5 \n",
      "mlp_hasilsmote_5 \n",
      "hasil prediksi  tambahan_2  : (0,1)\n",
      "[[150 178]\n",
      " [  0   0]]\n"
     ]
    }
   ],
   "source": [
    "pred3('mlp',0.5,dtf,dtl,dtt,2)\n",
    "pred3('mlp',0.5,dtf,dtl,dtt,1)\n",
    "pred3('mlp',0.5,dtf,dtl,dtt,3)\n",
    "pred3('mlp',0.5,dtf,dtl,dtt,4)\n",
    "pred3('mlp',0.5,dtf,dtl,dtt,5)"
   ]
  },
  {
   "cell_type": "code",
   "execution_count": 29,
   "metadata": {},
   "outputs": [
    {
     "ename": "TypeError",
     "evalue": "pred() takes 4 positional arguments but 6 were given",
     "output_type": "error",
     "traceback": [
      "\u001b[1;31m---------------------------------------------------------------------------\u001b[0m",
      "\u001b[1;31mTypeError\u001b[0m                                 Traceback (most recent call last)",
      "\u001b[1;32m<ipython-input-29-c3224ffce391>\u001b[0m in \u001b[0;36m<module>\u001b[1;34m\u001b[0m\n\u001b[1;32m----> 1\u001b[1;33m \u001b[0mpred\u001b[0m\u001b[1;33m(\u001b[0m\u001b[1;34m'mlp'\u001b[0m\u001b[1;33m,\u001b[0m\u001b[1;36m0.5\u001b[0m\u001b[1;33m,\u001b[0m\u001b[0mdtf\u001b[0m\u001b[1;33m,\u001b[0m\u001b[0mdtl\u001b[0m\u001b[1;33m,\u001b[0m\u001b[0mdtt\u001b[0m\u001b[1;33m,\u001b[0m\u001b[1;36m5\u001b[0m\u001b[1;33m)\u001b[0m\u001b[1;33m\u001b[0m\u001b[1;33m\u001b[0m\u001b[0m\n\u001b[0m",
      "\u001b[1;31mTypeError\u001b[0m: pred() takes 4 positional arguments but 6 were given"
     ]
    }
   ],
   "source": [
    "pred('mlp',0.5,dtf,dtl,dtt,5)"
   ]
  },
  {
   "cell_type": "code",
   "execution_count": 30,
   "metadata": {},
   "outputs": [],
   "source": [
    "scoring = {'AUC': 'roc_auc', 'Accuracy': 'accuracy','F-measure':'f1','Precision':'precision', 'Recall':'recall'}\n"
   ]
  },
  {
   "cell_type": "code",
   "execution_count": 31,
   "metadata": {},
   "outputs": [],
   "source": [
    "from sklearn import svm"
   ]
  },
  {
   "cell_type": "code",
   "execution_count": 39,
   "metadata": {},
   "outputs": [
    {
     "name": "stdout",
     "output_type": "stream",
     "text": [
      "threshold 0.5 \n",
      "svm_rbf_hasilsmote_5 \n",
      "hasil prediksi  mbafika  : (0,1)\n",
      "[[240]]\n",
      "threshold 0.5 \n",
      "svm_rbf_hasilsmote_5 \n",
      "hasil prediksi  mbalinda  : (0,1)\n",
      "[[2941  107]\n",
      " [   0    0]]\n",
      "threshold 0.5 \n",
      "svm_rbf_hasilsmote_5 \n",
      "hasil prediksi  tambahan_2  : (0,1)\n",
      "[[156 172]\n",
      " [  0   0]]\n"
     ]
    }
   ],
   "source": [
    "pred3('svm_rbf',0.5,dtf,dtl,dtt,5)"
   ]
  },
  {
   "cell_type": "code",
   "execution_count": 15,
   "metadata": {},
   "outputs": [
    {
     "name": "stdout",
     "output_type": "stream",
     "text": [
      "threshold 0.5 \n",
      "svm_rbf_hasilsmote_5 \n",
      "hasil prediksi  mbafika  : (0,1)\n",
      "[[240]]\n",
      "threshold 0.5 \n",
      "svm_rbf_hasilsmote_5 \n",
      "hasil prediksi  mbalinda  : (0,1)\n",
      "[[2904  144]\n",
      " [   0    0]]\n",
      "threshold 0.5 \n",
      "svm_rbf_hasilsmote_5 \n",
      "hasil prediksi  tambahan_2  : (0,1)\n",
      "[[ 89 239]\n",
      " [  0   0]]\n"
     ]
    }
   ],
   "source": [
    "pred3('svm_rbf',0.5,dtf,dtl,dtt,5)"
   ]
  },
  {
   "cell_type": "code",
   "execution_count": 12,
   "metadata": {},
   "outputs": [
    {
     "name": "stdout",
     "output_type": "stream",
     "text": [
      "threshold 0.5 \n",
      "svm_rbf_hasilsmote_4 \n",
      "hasil prediksi  mbafika  : (0,1)\n",
      "[[199  41]\n",
      " [  0   0]]\n",
      "threshold 0.5 \n",
      "svm_rbf_hasilsmote_4 \n",
      "hasil prediksi  mbalinda  : (0,1)\n",
      "[[2297  751]\n",
      " [   0    0]]\n",
      "threshold 0.5 \n",
      "svm_rbf_hasilsmote_4 \n",
      "hasil prediksi  tambahan_2  : (0,1)\n",
      "[[163 165]\n",
      " [  0   0]]\n",
      "threshold 0.5 \n",
      "svm_rbf_hasilsmote_3 \n",
      "hasil prediksi  mbafika  : (0,1)\n",
      "[[240]]\n",
      "threshold 0.5 \n",
      "svm_rbf_hasilsmote_3 \n",
      "hasil prediksi  mbalinda  : (0,1)\n",
      "[[2923  125]\n",
      " [   0    0]]\n",
      "threshold 0.5 \n",
      "svm_rbf_hasilsmote_3 \n",
      "hasil prediksi  tambahan_2  : (0,1)\n",
      "[[ 89 239]\n",
      " [  0   0]]\n",
      "threshold 0.5 \n",
      "svm_rbf_hasilsmote_2 \n",
      "hasil prediksi  mbafika  : (0,1)\n",
      "[[202  38]\n",
      " [  0   0]]\n",
      "threshold 0.5 \n",
      "svm_rbf_hasilsmote_2 \n",
      "hasil prediksi  mbalinda  : (0,1)\n",
      "[[2316  732]\n",
      " [   0    0]]\n",
      "threshold 0.5 \n",
      "svm_rbf_hasilsmote_2 \n",
      "hasil prediksi  tambahan_2  : (0,1)\n",
      "[[157 171]\n",
      " [  0   0]]\n",
      "threshold 0.5 \n",
      "svm_rbf_hasilsmote_1 \n",
      "hasil prediksi  mbafika  : (0,1)\n",
      "[[240]]\n",
      "threshold 0.5 \n",
      "svm_rbf_hasilsmote_1 \n",
      "hasil prediksi  mbalinda  : (0,1)\n",
      "[[2907  141]\n",
      " [   0    0]]\n",
      "threshold 0.5 \n",
      "svm_rbf_hasilsmote_1 \n",
      "hasil prediksi  tambahan_2  : (0,1)\n",
      "[[ 87 241]\n",
      " [  0   0]]\n"
     ]
    }
   ],
   "source": [
    "pred3('svm_rbf',0.5,dtf,dtl,dtt,4)\n",
    "pred3('svm_rbf',0.5,dtf,dtl,dtt,3)\n",
    "pred3('svm_rbf',0.5,dtf,dtl,dtt,2)\n",
    "pred3('svm_rbf',0.5,dtf,dtl,dtt,1)"
   ]
  },
  {
   "cell_type": "code",
   "execution_count": 14,
   "metadata": {},
   "outputs": [
    {
     "name": "stdout",
     "output_type": "stream",
     "text": [
      "threshold 0.5 \n",
      "rf_spike30smote_100n_1000m_hasilsmote_4 \n",
      "hasil prediksi  mbafika  : (0,1)\n",
      "[[165  75]\n",
      " [  0   0]]\n",
      "threshold 0.5 \n",
      "rf_spike30smote_100n_1000m_hasilsmote_4 \n",
      "hasil prediksi  mbalinda  : (0,1)\n",
      "[[1902 1146]\n",
      " [   0    0]]\n",
      "threshold 0.5 \n",
      "rf_spike30smote_100n_1000m_hasilsmote_4 \n",
      "hasil prediksi  tambahan_2  : (0,1)\n",
      "[[105 223]\n",
      " [  0   0]]\n",
      "threshold 0.5 \n",
      "rf_spike30smote_100n_1000m_hasilsmote_3 \n",
      "hasil prediksi  mbafika  : (0,1)\n",
      "[[173  67]\n",
      " [  0   0]]\n",
      "threshold 0.5 \n",
      "rf_spike30smote_100n_1000m_hasilsmote_3 \n",
      "hasil prediksi  mbalinda  : (0,1)\n",
      "[[1861 1187]\n",
      " [   0    0]]\n",
      "threshold 0.5 \n",
      "rf_spike30smote_100n_1000m_hasilsmote_3 \n",
      "hasil prediksi  tambahan_2  : (0,1)\n",
      "[[ 46 282]\n",
      " [  0   0]]\n",
      "threshold 0.5 \n",
      "rf_spike30smote_100n_1000m_hasilsmote_2 \n",
      "hasil prediksi  mbafika  : (0,1)\n",
      "[[164  76]\n",
      " [  0   0]]\n",
      "threshold 0.5 \n",
      "rf_spike30smote_100n_1000m_hasilsmote_2 \n",
      "hasil prediksi  mbalinda  : (0,1)\n",
      "[[1945 1103]\n",
      " [   0    0]]\n",
      "threshold 0.5 \n",
      "rf_spike30smote_100n_1000m_hasilsmote_2 \n",
      "hasil prediksi  tambahan_2  : (0,1)\n",
      "[[115 213]\n",
      " [  0   0]]\n",
      "threshold 0.5 \n",
      "rf_spike30smote_100n_1000m_hasilsmote_1 \n",
      "hasil prediksi  mbafika  : (0,1)\n",
      "[[138 102]\n",
      " [  0   0]]\n",
      "threshold 0.5 \n",
      "rf_spike30smote_100n_1000m_hasilsmote_1 \n",
      "hasil prediksi  mbalinda  : (0,1)\n",
      "[[1647 1401]\n",
      " [   0    0]]\n",
      "threshold 0.5 \n",
      "rf_spike30smote_100n_1000m_hasilsmote_1 \n",
      "hasil prediksi  tambahan_2  : (0,1)\n",
      "[[125 203]\n",
      " [  0   0]]\n",
      "threshold 0.5 \n",
      "rf_spike30smote_100n_1000m_hasilsmote_5 \n",
      "hasil prediksi  mbafika  : (0,1)\n",
      "[[162  78]\n",
      " [  0   0]]\n",
      "threshold 0.5 \n",
      "rf_spike30smote_100n_1000m_hasilsmote_5 \n",
      "hasil prediksi  mbalinda  : (0,1)\n",
      "[[1746 1302]\n",
      " [   0    0]]\n",
      "threshold 0.5 \n",
      "rf_spike30smote_100n_1000m_hasilsmote_5 \n",
      "hasil prediksi  tambahan_2  : (0,1)\n",
      "[[112 216]\n",
      " [  0   0]]\n"
     ]
    }
   ],
   "source": [
    "pred3('rf_spike30smote_100n_1000m',0.5,dtf,dtl,dtt,4)\n",
    "pred3('rf_spike30smote_100n_1000m',0.5,dtf,dtl,dtt,3)\n",
    "pred3('rf_spike30smote_100n_1000m',0.5,dtf,dtl,dtt,2)\n",
    "pred3('rf_spike30smote_100n_1000m',0.5,dtf,dtl,dtt,1)\n",
    "pred3('rf_spike30smote_100n_1000m',0.5,dtf,dtl,dtt,5)"
   ]
  },
  {
   "cell_type": "code",
   "execution_count": null,
   "metadata": {},
   "outputs": [],
   "source": []
  }
 ],
 "metadata": {
  "kernelspec": {
   "display_name": "Python 3",
   "language": "python",
   "name": "python3"
  },
  "language_info": {
   "codemirror_mode": {
    "name": "ipython",
    "version": 3
   },
   "file_extension": ".py",
   "mimetype": "text/x-python",
   "name": "python",
   "nbconvert_exporter": "python",
   "pygments_lexer": "ipython3",
   "version": "3.7.3"
  }
 },
 "nbformat": 4,
 "nbformat_minor": 4
}
