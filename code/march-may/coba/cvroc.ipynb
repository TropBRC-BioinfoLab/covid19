{
 "cells": [
  {
   "cell_type": "code",
   "execution_count": null,
   "metadata": {},
   "outputs": [],
   "source": []
  },
  {
   "cell_type": "code",
   "execution_count": 7,
   "metadata": {},
   "outputs": [],
   "source": [
    "import numpy as np\n",
    "import pandas as pd\n",
    "\n",
    "from sklearn.metrics import classification_report\n",
    "from sklearn.metrics import confusion_matrix\n",
    "from sklearn.metrics import accuracy_score,f1_score, precision_score, recall_score, roc_auc_score\n",
    "\n",
    "from sklearn.svm import SVC\n",
    "from sklearn.ensemble import RandomForestClassifier\n",
    "from sklearn.model_selection import cross_val_score, GridSearchCV\n",
    "\n",
    "import pickle\n",
    "\n",
    "from sklearn.ensemble import BaggingClassifier\n",
    "from sklearn.tree import DecisionTreeClassifier"
   ]
  },
  {
   "cell_type": "code",
   "execution_count": null,
   "metadata": {},
   "outputs": [],
   "source": []
  },
  {
   "cell_type": "code",
   "execution_count": 8,
   "metadata": {},
   "outputs": [],
   "source": [
    "class uji(): \n",
    "    def __init__(self,data): \n",
    "        df0 = pd.read_csv('../data2/uji%snorm.csv'%data, delimiter= \",\", header=None)\n",
    "        df0=df0.fillna(0)\n",
    "        self.com=df0[0]\n",
    "        self.prot=df0[1282]\n",
    "        self.x =df0.drop([0,1282], axis=1)\n",
    "        df0[1300]=0\n",
    "        \n",
    "        self.y=df0[1300]\n",
    "        self.dt=data\n",
    "class latih(): \n",
    "    def __init__(self,data): \n",
    "        df = pd.read_csv(\"../data2/%s.csv\"%data, delimiter=',')\n",
    "        df.head()\n",
    "        self.X = df.drop(['0','1282','label'], axis=1)\n",
    "        self.Y = df['label']\n",
    "        self.dt=data\n",
    "def dtuji(data): \n",
    "    return uji(data) \n",
    "def dtlatih(data): \n",
    "    return latih(data) \n",
    "\n",
    "dtf =dtuji('mbafika') #dtf.com, dtf.prot, dtf.x, dtf.y, dtf.dt\n",
    "dtl =dtuji('mbalinda') #dtl.com, dtl.prot, dtl.x, dtl.y dtl.dt\n",
    "df= dtlatih('latih_parted') #df.X,df.Y,df.dt"
   ]
  },
  {
   "cell_type": "markdown",
   "metadata": {},
   "source": [
    "#RF"
   ]
  },
  {
   "cell_type": "code",
   "execution_count": 9,
   "metadata": {},
   "outputs": [],
   "source": [
    "def rf(n,m,df):\n",
    "    #random_grid = {'n_estimators': [n],\n",
    "   #                #'max_depth': max_depth,\n",
    "    #               'bootstrap': [True],\n",
    "    #               'max_samples':[m],}\n",
    "    rf = BaggingClassifier(n_estimators=n,bootstrap=True,max_samples=m,base_estimator=DecisionTreeClassifier())\n",
    "    rf = GridSearchCV(rf, random_grid, n_jobs=-1, cv=2)\n",
    "    rf.fit(df.X, df.Y)\n",
    "    filename = '../data2/model2/rf_{0}n_{1}m_cv'.format(n,m)\n",
    "    pickle.dump(rf, open(filename, 'wb'))\n",
    "    return rf"
   ]
  },
  {
   "cell_type": "markdown",
   "metadata": {},
   "source": [
    "#MLP"
   ]
  },
  {
   "cell_type": "code",
   "execution_count": 81,
   "metadata": {},
   "outputs": [],
   "source": []
  },
  {
   "cell_type": "code",
   "execution_count": 120,
   "metadata": {},
   "outputs": [
    {
     "name": "stderr",
     "output_type": "stream",
     "text": [
      "Using TensorFlow backend.\n"
     ]
    }
   ],
   "source": [
    "from sklearn.model_selection import StratifiedKFold\n",
    "from sklearn.model_selection import cross_val_score\n",
    "from keras.models import Sequential\n",
    "from keras.layers import Dense\n",
    "from keras.wrappers.scikit_learn import KerasClassifier\n",
    "from sklearn.preprocessing import LabelEncoder\n",
    "from sklearn.preprocessing import StandardScaler\n",
    "from sklearn.pipeline import Pipeline\n",
    "from sklearn.neural_network import MLPClassifier"
   ]
  },
  {
   "cell_type": "code",
   "execution_count": 147,
   "metadata": {},
   "outputs": [],
   "source": [
    "def create_model():\n",
    "    # create model\n",
    "    model = Sequential()\n",
    "    model.add(Dense(640, input_dim=1281, init='normal', activation='relu'))\n",
    "    model.add(Dense(320, init='normal', activation='relu'))\n",
    "    model.add(Dense(1, init='normal', activation='sigmoid'))\n",
    "    # Compile model\n",
    "    model.compile(loss='binary_crossentropy', optimizer='adam', metrics=['accuracy'])\n",
    "    return model"
   ]
  },
  {
   "cell_type": "code",
   "execution_count": null,
   "metadata": {},
   "outputs": [],
   "source": []
  },
  {
   "cell_type": "code",
   "execution_count": 155,
   "metadata": {},
   "outputs": [],
   "source": [
    "def mlp(n,m,df):\n",
    "    mlp = MLPClassifier(max_iter=1000, batch_size=128,hidden_layer_sizes=(640,320,),activation= 'relu',\n",
    "                        solver= 'adam', alpha= 0.5,learning_rate= 'constant')\n",
    "    model = Sequential()\n",
    "    model.add(Dense(640, input_dim=1281, init='uniform', activation='relu'))\n",
    "    model.add(Dense(320, init='uniform', activation='relu'))\n",
    "    model.add(Dense(1, init='uniform', activation='sigmoid'))\n",
    "    estimators = []\n",
    "    estimators.append(('standardize', StandardScaler()))\n",
    "    estimators.append(('mlp', KerasClassifier(build_fn=create_model, nb_epoch=100, batch_size=128, verbose=0,class_weight=\"balanced\")))\n",
    "    pipeline = Pipeline(estimators)\n",
    "#    kfold = StratifiedKFold(n_splits=5, shuffle=True, random_state=seed)\n",
    "#    results = cross_val_score(pipeline, df.X, df.Y, cv=kfold)\n",
    "#    print(\"Results: %.2f%% (%.2f%%)\" % (results.mean()*100, results.std()*100))\n",
    "#    parameter_space = {\n",
    "#        'hidden_layer_sizes': [(640,320,)],\n",
    "#        'activation': ['relu'],\n",
    "#        'solver': ['adam'],\n",
    "#        'alpha': [0.5],\n",
    "#        'learning_rate': ['constant'],\n",
    "#    }\n",
    "    mlp.fit(df.X, df.Y,class_weight=\"balanced\")\n",
    "    filename = '../data2/model/mlp_{0}n_{1}m_balanced'.format(n,m)\n",
    "    pickle.dump(mlp, open(filename, 'wb'))\n",
    "    return mlp"
   ]
  },
  {
   "cell_type": "code",
   "execution_count": 156,
   "metadata": {},
   "outputs": [
    {
     "name": "stderr",
     "output_type": "stream",
     "text": [
      "D:\\Anaconda3\\lib\\site-packages\\ipykernel_launcher.py:5: UserWarning: Update your `Dense` call to the Keras 2 API: `Dense(640, input_dim=1281, activation=\"relu\", kernel_initializer=\"uniform\")`\n",
      "  \"\"\"\n",
      "D:\\Anaconda3\\lib\\site-packages\\ipykernel_launcher.py:6: UserWarning: Update your `Dense` call to the Keras 2 API: `Dense(320, activation=\"relu\", kernel_initializer=\"uniform\")`\n",
      "  \n",
      "D:\\Anaconda3\\lib\\site-packages\\ipykernel_launcher.py:7: UserWarning: Update your `Dense` call to the Keras 2 API: `Dense(1, activation=\"sigmoid\", kernel_initializer=\"uniform\")`\n",
      "  import sys\n"
     ]
    },
    {
     "name": "stdout",
     "output_type": "stream",
     "text": [
      "n = 10\n",
      "m = 100\n",
      "model file : mlp_10n_100m_balanced\n",
      "Parameters used: {'activation': 'relu', 'alpha': 0.5, 'batch_size': 128, 'beta_1': 0.9, 'beta_2': 0.999, 'early_stopping': False, 'epsilon': 1e-08, 'hidden_layer_sizes': (640, 320), 'learning_rate': 'constant', 'learning_rate_init': 0.001, 'max_iter': 1000, 'momentum': 0.9, 'n_iter_no_change': 10, 'nesterovs_momentum': True, 'power_t': 0.5, 'random_state': None, 'shuffle': True, 'solver': 'adam', 'tol': 0.0001, 'validation_fraction': 0.1, 'verbose': False, 'warm_start': False}\n",
      "Accuracy: 0.9918806232170287\n",
      "f1: 0.9727740986019131\n",
      "precision: 0.9821693907875185\n",
      "recall: 0.9635568513119533\n",
      "roc_auc: 0.9802284385725358\n",
      "Confusion matrix:\n",
      "[[3859   12]\n",
      " [  25  661]]\n",
      "Results on the train set:\n",
      "              precision    recall  f1-score   support\n",
      "\n",
      "           0       0.99      1.00      1.00      3871\n",
      "           1       0.98      0.96      0.97       686\n",
      "\n",
      "    accuracy                           0.99      4557\n",
      "   macro avg       0.99      0.98      0.98      4557\n",
      "weighted avg       0.99      0.99      0.99      4557\n",
      "\n",
      "thresholp %d \n",
      "hasil prediksi  mbafika  : (0,1)\n",
      "[[104 136]\n",
      " [  0   0]]\n",
      "   0  1               2                 3         4\n",
      "0  0  1  Syringaresinol    YP_009725307.1  0.974683\n",
      "1  0  1  Syringaresinol      K4LC41_9BETC  0.769926\n",
      "2  0  1  Syringaresinol  PLpro_SARS-CoV-2  0.937432\n",
      "3  0  1  Syringaresinol            6LU7:A  0.897836\n",
      "4  1  0  Syringaresinol            6M0J:A  0.083044\n",
      "0    1\n",
      "1    1\n",
      "2    1\n",
      "3    1\n",
      "4    0\n",
      "Name: 1, dtype: int32\n",
      "thresholp %d \n",
      "hasil prediksi  mbalinda  : (0,1)\n",
      "[[1450 1598]\n",
      " [   0    0]]\n",
      "   0  1                    2                 3         4\n",
      "0  0  1  Tetrahydroxyflavone    YP_009725307.1  0.980418\n",
      "1  0  1  Tetrahydroxyflavone      K4LC41_9BETC  0.933684\n",
      "2  0  1  Tetrahydroxyflavone  PLpro_SARS-CoV-2  0.970956\n",
      "3  0  1  Tetrahydroxyflavone            6LU7:A  0.862717\n",
      "4  1  0  Tetrahydroxyflavone            6M0J:A  0.336614\n",
      "0    1\n",
      "1    1\n",
      "2    1\n",
      "3    1\n",
      "4    0\n",
      "Name: 1, dtype: int32\n"
     ]
    }
   ],
   "source": [
    "fitn2pred(mlp,10,100,0.5,df,dtf,dtl)"
   ]
  },
  {
   "cell_type": "code",
   "execution_count": 133,
   "metadata": {},
   "outputs": [],
   "source": [
    "#SVM"
   ]
  },
  {
   "cell_type": "code",
   "execution_count": 182,
   "metadata": {},
   "outputs": [],
   "source": [
    "def svm(n,m,df):\n",
    "    classifier0 = SVC(C=8.0, gamma=0.0078125,class_weight=\"balanced\",probability=True)\n",
    "    classifier0.fit(df.X, df.Y)\n",
    "    filename = '../data2/model/svm_{0}n_{1}m_balanced'.format(n,m)\n",
    "    pickle.dump(classifier0, open(filename, 'wb'))\n",
    "    return classifier0"
   ]
  },
  {
   "cell_type": "code",
   "execution_count": null,
   "metadata": {},
   "outputs": [],
   "source": []
  },
  {
   "cell_type": "code",
   "execution_count": 10,
   "metadata": {},
   "outputs": [
    {
     "name": "stderr",
     "output_type": "stream",
     "text": [
      "D:\\Anaconda3\\lib\\site-packages\\sklearn\\utils\\deprecation.py:144: FutureWarning: The sklearn.neighbors.base module is  deprecated in version 0.22 and will be removed in version 0.24. The corresponding classes / functions should instead be imported from sklearn.neighbors. Anything that cannot be imported from sklearn.neighbors is now part of the private API.\n",
      "  warnings.warn(message, FutureWarning)\n",
      "D:\\Anaconda3\\lib\\site-packages\\sklearn\\utils\\deprecation.py:144: FutureWarning: The sklearn.ensemble.bagging module is  deprecated in version 0.22 and will be removed in version 0.24. The corresponding classes / functions should instead be imported from sklearn.ensemble. Anything that cannot be imported from sklearn.ensemble is now part of the private API.\n",
      "  warnings.warn(message, FutureWarning)\n",
      "D:\\Anaconda3\\lib\\site-packages\\sklearn\\utils\\deprecation.py:144: FutureWarning: The sklearn.ensemble.base module is  deprecated in version 0.22 and will be removed in version 0.24. The corresponding classes / functions should instead be imported from sklearn.ensemble. Anything that cannot be imported from sklearn.ensemble is now part of the private API.\n",
      "  warnings.warn(message, FutureWarning)\n",
      "D:\\Anaconda3\\lib\\site-packages\\sklearn\\utils\\deprecation.py:144: FutureWarning: The sklearn.ensemble.forest module is  deprecated in version 0.22 and will be removed in version 0.24. The corresponding classes / functions should instead be imported from sklearn.ensemble. Anything that cannot be imported from sklearn.ensemble is now part of the private API.\n",
      "  warnings.warn(message, FutureWarning)\n",
      "Using TensorFlow backend.\n",
      "D:\\Anaconda3\\lib\\site-packages\\sklearn\\utils\\deprecation.py:144: FutureWarning: The sklearn.utils.testing module is  deprecated in version 0.22 and will be removed in version 0.24. The corresponding classes / functions should instead be imported from sklearn.utils. Anything that cannot be imported from sklearn.utils is now part of the private API.\n",
      "  warnings.warn(message, FutureWarning)\n",
      "D:\\Anaconda3\\lib\\site-packages\\sklearn\\utils\\deprecation.py:144: FutureWarning: The sklearn.metrics.classification module is  deprecated in version 0.22 and will be removed in version 0.24. The corresponding classes / functions should instead be imported from sklearn.metrics. Anything that cannot be imported from sklearn.metrics is now part of the private API.\n",
      "  warnings.warn(message, FutureWarning)\n"
     ]
    }
   ],
   "source": [
    "## Import Modules\n",
    "import numpy as np\n",
    "import pandas as pd\n",
    "import os\n",
    "from imblearn.over_sampling import SMOTE\n",
    "from sklearn import preprocessing\n",
    "from sklearn.svm import SVC\n",
    "from sklearn.model_selection import GridSearchCV\n",
    "from sklearn.metrics import classification_report\n",
    "from sklearn.feature_selection import RFECV\n",
    "from sklearn.model_selection import train_test_split\n",
    "import sklearn.metrics as metrics\n",
    "from sklearn.metrics import confusion_matrix\n"
   ]
  },
  {
   "cell_type": "code",
   "execution_count": 13,
   "metadata": {},
   "outputs": [
    {
     "name": "stdout",
     "output_type": "stream",
     "text": [
      "DATA OVERVIEW\n",
      "\n",
      "Active file full dimensions (rows, columns):  (4557, 1281)\n"
     ]
    }
   ],
   "source": [
    "\n"
   ]
  },
  {
   "cell_type": "code",
   "execution_count": 17,
   "metadata": {},
   "outputs": [
    {
     "name": "stdout",
     "output_type": "stream",
     "text": [
      "GridSearchCV Grid scores on development set (not on test set):\n",
      "\n"
     ]
    }
   ],
   "source": [
    "\n",
    "\n",
    "# Set the parameters by cross-validation\n",
    "\n",
    "tuned_parameters = {'kernel': ['rbf'],\n",
    "                    'gamma': [0.0078125],\n",
    "                    'C': [8.0]}\n",
    "def svm(n,m,df):\n",
    "    classifier0 = SVC(C=8.0, gamma=0.0078125,class_weight=\"balanced\",probability=True)\n",
    "    classifier0.fit(df.X, df.Y)\n",
    "    filename = '../data2/model/svm_{0}n_{1}m_balanced'.format(n,m)\n",
    "    pickle.dump(classifier0, open(filename, 'wb'))\n",
    "    return classifier0\n",
    "##Add different measures for optimisation\n",
    "\n",
    "scores = { 'roc_auc',  'accuracy','f1','precision', 'recall'}\n",
    "\n",
    "###Fitting Models\n",
    "\n",
    "\n",
    "clf = GridSearchCV(SVC(probability=True),tuned_parameters, cv=5,n_jobs=-1, scoring = score)\n",
    "grid = clf.fit(X, y)\n",
    "print(\"GridSearchCV Grid scores on development set (not on test set):\")\n",
    "print()\n",
    "\n"
   ]
  },
  {
   "cell_type": "code",
   "execution_count": 18,
   "metadata": {},
   "outputs": [],
   "source": [
    "import pickle"
   ]
  },
  {
   "cell_type": "code",
   "execution_count": 20,
   "metadata": {},
   "outputs": [
    {
     "name": "stderr",
     "output_type": "stream",
     "text": [
      "D:\\Anaconda3\\lib\\site-packages\\sklearn\\utils\\deprecation.py:144: FutureWarning: The sklearn.tree.tree module is  deprecated in version 0.22 and will be removed in version 0.24. The corresponding classes / functions should instead be imported from sklearn.tree. Anything that cannot be imported from sklearn.tree is now part of the private API.\n",
      "  warnings.warn(message, FutureWarning)\n",
      "D:\\Anaconda3\\lib\\site-packages\\sklearn\\base.py:318: UserWarning: Trying to unpickle estimator DecisionTreeClassifier from version 0.21.2 when using version 0.22.2.post1. This might lead to breaking code or invalid results. Use at your own risk.\n",
      "  UserWarning)\n",
      "D:\\Anaconda3\\lib\\site-packages\\sklearn\\base.py:318: UserWarning: Trying to unpickle estimator BaggingClassifier from version 0.21.2 when using version 0.22.2.post1. This might lead to breaking code or invalid results. Use at your own risk.\n",
      "  UserWarning)\n"
     ]
    }
   ],
   "source": []
  },
  {
   "cell_type": "code",
   "execution_count": 22,
   "metadata": {},
   "outputs": [
    {
     "name": "stdout",
     "output_type": "stream",
     "text": [
      "0.341 (+/-0.406) for {'C': 8.0, 'gamma': 0.0078125, 'kernel': 'rbf'}\n",
      "\n",
      "Best parameters set found on development set:\n",
      "\n",
      "{'C': 8.0, 'gamma': 0.0078125, 'kernel': 'rbf'}\n",
      "\n",
      "ACCURACY REPORT\n",
      "\n",
      "Accuracy of optimised SVC on test set: 86.38%\n",
      "\n",
      "Detailed report for Test set measures:\n",
      "\n",
      "              precision    recall  f1-score   support\n",
      "\n",
      "           0       0.97      0.99      0.98      1162\n",
      "           1       0.92      0.82      0.86       206\n",
      "\n",
      "    accuracy                           0.96      1368\n",
      "   macro avg       0.94      0.90      0.92      1368\n",
      "weighted avg       0.96      0.96      0.96      1368\n",
      "\n",
      "\n",
      "AUC ROC REPORT\n",
      "\n",
      "AUC score: 0.99\n"
     ]
    },
    {
     "data": {
      "image/png": "[encoded data removed]",
      "text/plain": [
       "<Figure size 432x288 with 1 Axes>"
      ]
     },
     "metadata": {
      "needs_background": "light"
     },
     "output_type": "display_data"
    }
   ],
   "source": [
    "\n",
    "means = grid.cv_results_['mean_test_score']\n",
    "stds = grid.cv_results_['std_test_score']\n",
    "for mean, std, params in zip(means, stds, grid.cv_results_['params']):\n",
    "    print(\"%0.3f (+/-%0.03f) for %r\"\n",
    "          % (mean, std * 2, params))\n",
    "    print()\n",
    "    print(\"Best parameters set found on development set:\")\n",
    "    print()\n",
    "    print(grid.best_params_)\n",
    "    print()\n",
    "    print(\"ACCURACY REPORT\")\n",
    "    print()  \n",
    "    print('Accuracy of optimised SVC on test set: {:.2f}%'.format(grid.score(X_test, y_test) * 100))\n",
    "    #print('Old SVM Accuracy for reference : 67.2%')\n",
    "    print()  \n",
    "    print(\"Detailed report for Test set measures:\")\n",
    "    print()  \n",
    "    y_true, y_pred = y_test, grid.predict(X_test)\n",
    "    print(classification_report(y_true, y_pred))\n",
    "    \n",
    "###ROC Curve\n",
    "\n",
    "\n",
    "import matplotlib.pyplot as plt\n",
    "import seaborn as sns\n",
    "from sklearn.metrics import roc_curve\n",
    "from sklearn.metrics import roc_auc_score\n",
    "\n",
    "probs = grid.predict_proba(X_test)\n",
    "probs = probs[:, 1]\n",
    "auc = roc_auc_score(y_test, probs)\n",
    "\n",
    "def plot_roc_curve(fpr, tpr):\n",
    "    plt.plot(fpr, tpr, color='orange', label='AUC = %f'%auc)\n",
    "    plt.plot([0, 1], [0, 1], color='darkblue', linestyle='--')\n",
    "    plt.xlabel('False Positive Rate')\n",
    "    plt.ylabel('True Positive Rate')\n",
    "    plt.title('Receiver Operating Characteristic (ROC) Curve')\n",
    "    plt.legend()\n",
    "    plt.show()\n",
    "\n",
    "\n",
    "print()\n",
    "print(\"AUC ROC REPORT\")\n",
    "print()\n",
    "print('AUC score: %.2f' % auc)\n",
    "\n",
    "fpr, tpr, thresholds = roc_curve(y_test, probs)\n",
    "\n",
    "plot_roc_curve(fpr, tpr)"
   ]
  },
  {
   "cell_type": "code",
   "execution_count": 25,
   "metadata": {},
   "outputs": [
    {
     "ename": "AttributeError",
     "evalue": "'BaggingClassifier' object has no attribute 'cv_results_'",
     "output_type": "error",
     "traceback": [
      "\u001b[1;31m---------------------------------------------------------------------------\u001b[0m",
      "\u001b[1;31mAttributeError\u001b[0m                            Traceback (most recent call last)",
      "\u001b[1;32m<ipython-input-25-2fae220ac8ca>\u001b[0m in \u001b[0;36m<module>\u001b[1;34m\u001b[0m\n\u001b[0;32m      1\u001b[0m \u001b[0mgrid\u001b[0m\u001b[1;33m=\u001b[0m\u001b[0mgrid2\u001b[0m\u001b[1;33m\u001b[0m\u001b[1;33m\u001b[0m\u001b[0m\n\u001b[1;32m----> 2\u001b[1;33m \u001b[0mmeans\u001b[0m \u001b[1;33m=\u001b[0m \u001b[0mgrid\u001b[0m\u001b[1;33m.\u001b[0m\u001b[0mcv_results_\u001b[0m\u001b[1;33m[\u001b[0m\u001b[1;34m'mean_test_score'\u001b[0m\u001b[1;33m]\u001b[0m\u001b[1;33m\u001b[0m\u001b[1;33m\u001b[0m\u001b[0m\n\u001b[0m\u001b[0;32m      3\u001b[0m \u001b[0mstds\u001b[0m \u001b[1;33m=\u001b[0m \u001b[0mgrid\u001b[0m\u001b[1;33m.\u001b[0m\u001b[0mcv_results_\u001b[0m\u001b[1;33m[\u001b[0m\u001b[1;34m'std_test_score'\u001b[0m\u001b[1;33m]\u001b[0m\u001b[1;33m\u001b[0m\u001b[1;33m\u001b[0m\u001b[0m\n\u001b[0;32m      4\u001b[0m \u001b[1;33m\u001b[0m\u001b[0m\n\u001b[0;32m      5\u001b[0m \u001b[1;31m###ROC Curve\u001b[0m\u001b[1;33m\u001b[0m\u001b[1;33m\u001b[0m\u001b[1;33m\u001b[0m\u001b[0m\n",
      "\u001b[1;31mAttributeError\u001b[0m: 'BaggingClassifier' object has no attribute 'cv_results_'"
     ]
    }
   ],
   "source": [
    "def roccurve1(df,model)\n",
    "    ## Load Data (Python conform)\n",
    "    print(\"DATA OVERVIEW\")\n",
    "    print(\"\\nActive file full dimensions (rows, columns): \", df.X.shape)\n",
    "\n",
    "    ## Define Input/Output\n",
    "    X = df.X\n",
    "    y = df.Y\n",
    "\n",
    "    #print(\"Chosen Input: \", X.columns.values)\n",
    "    #print(\"Chosen Outpout:\", y.name)\n",
    "\n",
    "    ## Data splitting\n",
    "    X_train, X_test, y_train, y_test = train_test_split(X, y, stratify=y, test_size=0.3, random_state=0)\n",
    "    grid = pickle.load(open('../data2/model/{0}'.format(model), 'rb'))\n",
    "    ###ROC Curve\n",
    "    import matplotlib.pyplot as plt\n",
    "    import seaborn as sns\n",
    "    from sklearn.metrics import roc_curve\n",
    "    from sklearn.metrics import roc_auc_score\n",
    "\n",
    "    probs = grid.predict_proba(X_test)\n",
    "    probs = probs[:, 1]\n",
    "    auc = roc_auc_score(y_test, probs)\n",
    "\n",
    "    def plot_roc_curve(fpr, tpr):\n",
    "        plt.plot(fpr, tpr, color='orange', label='ROC : %f'%auc)\n",
    "        plt.plot([0, 1], [0, 1], color='darkblue', linestyle='--')\n",
    "        plt.xlabel('False Positive Rate')\n",
    "        plt.ylabel('True Positive Rate')\n",
    "        plt.title('Receiver Operating Characteristic (ROC) Curve')\n",
    "        plt.legend()\n",
    "        plt.show()\n",
    "\n",
    "\n",
    "    print()\n",
    "    print(\"AUC ROC REPORT\")\n",
    "    print()\n",
    "    print('AUC score: %.2f' % auc)\n",
    "\n",
    "    fpr, tpr, thresholds = roc_curve(y_test, probs)\n",
    "\n",
    "    plot_roc_curve(fpr, tpr)"
   ]
  },
  {
   "cell_type": "code",
   "execution_count": null,
   "metadata": {},
   "outputs": [],
   "source": []
  }
 ],
 "metadata": {
  "kernelspec": {
   "display_name": "Python 3",
   "language": "python",
   "name": "python3"
  },
  "language_info": {
   "codemirror_mode": {
    "name": "ipython",
    "version": 3
   },
   "file_extension": ".py",
   "mimetype": "text/x-python",
   "name": "python",
   "nbconvert_exporter": "python",
   "pygments_lexer": "ipython3",
   "version": "3.7.3"
  }
 },
 "nbformat": 4,
 "nbformat_minor": 4
}
